{
 "cells": [
  {
   "cell_type": "code",
   "execution_count": 1,
   "metadata": {},
   "outputs": [],
   "source": [
    "from matplotlib import pyplot as plt\n",
    "from matplotlib.widgets import Button, Slider, TextBox\n",
    "import numpy as np\n",
    "import time"
   ]
  },
  {
   "cell_type": "code",
   "execution_count": 2,
   "metadata": {},
   "outputs": [
    {
     "name": "stdout",
     "output_type": "stream",
     "text": [
      "Using matplotlib backend: MacOSX\n"
     ]
    }
   ],
   "source": [
    "%matplotlib"
   ]
  },
  {
   "cell_type": "code",
   "execution_count": 3,
   "metadata": {},
   "outputs": [
    {
     "data": {
      "text/plain": [
       "0"
      ]
     },
     "execution_count": 3,
     "metadata": {},
     "output_type": "execute_result"
    }
   ],
   "source": [
    "fig = plt.figure()\n",
    "plot_ax = fig.add_axes([0.1, 0.3, 0.8, 0.6])\n",
    "N0 = 50\n",
    "x = np.random.uniform(size=N0)\n",
    "y = np.random.normal(size=N0)\n",
    "xyplot, = plot_ax.plot(x, y, 'o')\n",
    "plot_ax.axis([0, 1, -3, 3])\n",
    "\n",
    "count_ax = fig.add_axes([0.55, 0.15, 0.1, 0.06])\n",
    "count = TextBox(count_ax, 'num. points', initial=str(N0))\n",
    "slider_ax = fig.add_axes([0.55, 0.05, 0.3, 0.025])\n",
    "islider = Slider(slider_ax, 'num. iterations', 1, 10, valinit=3, valfmt='%0.0f')\n",
    "\n",
    "button_ax = fig.add_axes([0.05, 0.05, 0.2, 0.125])\n",
    "button = Button(button_ax, 'Update')\n",
    "\n",
    "def callback(event):\n",
    "    N = int(count.text)\n",
    "    iterations = int(round(islider.val))\n",
    "    for i in range(iterations):\n",
    "        # force plot to update within callback\n",
    "        plt.pause(0.05)\n",
    "        xyplot.set_xdata(np.random.uniform(size=N))\n",
    "        xyplot.set_ydata(np.random.normal(size=N))\n",
    "        # update and pause\n",
    "        plt.pause(0.5)\n",
    "\n",
    "button.on_clicked(callback)"
   ]
  }
 ],
 "metadata": {
  "hide_input": false,
  "kernelspec": {
   "display_name": "Python 3",
   "language": "python",
   "name": "python3"
  },
  "language_info": {
   "codemirror_mode": {
    "name": "ipython",
    "version": 3
   },
   "file_extension": ".py",
   "mimetype": "text/x-python",
   "name": "python",
   "nbconvert_exporter": "python",
   "pygments_lexer": "ipython3",
   "version": "3.7.4"
  },
  "latex_envs": {
   "LaTeX_envs_menu_present": true,
   "autocomplete": true,
   "bibliofile": "biblio.bib",
   "cite_by": "apalike",
   "current_citInitial": 1,
   "eqLabelWithNumbers": true,
   "eqNumInitial": 1,
   "hotkeys": {
    "equation": "Ctrl-E",
    "itemize": "Ctrl-I"
   },
   "labels_anchors": false,
   "latex_user_defs": false,
   "report_style_numbering": false,
   "user_envs_cfg": false
  }
 },
 "nbformat": 4,
 "nbformat_minor": 2
}
