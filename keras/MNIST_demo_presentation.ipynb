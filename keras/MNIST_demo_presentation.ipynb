{
 "cells": [
  {
   "cell_type": "markdown",
   "metadata": {
    "slideshow": {
     "slide_type": "slide"
    }
   },
   "source": [
    "### National Meeting of Data-Intensive Science CDTs\n",
    "**University of Edinburgh, 21 November 2018**\n",
    "\n",
    "# Neural Networks in TensorFlow   \n",
    "  \n",
    "### Steven Bamford\n",
    "**University of Nottingham**\n",
    "\n",
    "<br/>\n",
    "\n",
    "Download this notebook from https://github.com/bamford/keras_demo"
   ]
  },
  {
   "cell_type": "markdown",
   "metadata": {
    "slideshow": {
     "slide_type": "subslide"
    }
   },
   "source": [
    "### Setting up your environment\n",
    "\n",
    "You can create a suitable conda environment to run this notebook using:\n",
    "\n",
    "    conda create -n keras_demo python=3 tensorflow matplotlib ipykernel scikit-learn pandas\n",
    "    \n",
    "Use `tensorflow-gpu` if you have a suitable GPU. If you have a GPU but haven't got the latest cuda drivers installed, you may also need to specify `cudatoolkit=9.0` or similar.\n",
    "\n",
    "You may need to use `pip` to install the latest version of tensorflow and/or in an existing environment."
   ]
  },
  {
   "cell_type": "markdown",
   "metadata": {
    "slideshow": {
     "slide_type": "subslide"
    }
   },
   "source": [
    "### Some common imports and setup"
   ]
  },
  {
   "cell_type": "code",
   "execution_count": 1,
   "metadata": {
    "slideshow": {
     "slide_type": "-"
    }
   },
   "outputs": [],
   "source": [
    "%matplotlib inline\n",
    "from matplotlib import pyplot as plt\n",
    "import numpy as np\n",
    "import pandas as pd"
   ]
  },
  {
   "cell_type": "markdown",
   "metadata": {
    "slideshow": {
     "slide_type": "slide"
    }
   },
   "source": [
    "## Deep learning with neural networks"
   ]
  },
  {
   "cell_type": "markdown",
   "metadata": {
    "slideshow": {
     "slide_type": "subslide"
    }
   },
   "source": [
    "<img src=\"https://upload.wikimedia.org/wikipedia/commons/0/0a/Anatomy_of_a_Neuron_with_Synapse.png\" alt=\"Biological neuron\" width=\"75%\" />"
   ]
  },
  {
   "cell_type": "markdown",
   "metadata": {
    "slideshow": {
     "slide_type": "subslide"
    }
   },
   "source": [
    "<img src=\"https://upload.wikimedia.org/wikipedia/commons/6/60/ArtificialNeuronModel_english.png\" alt=\"Neuron model\" width=\"85%\" />"
   ]
  },
  {
   "cell_type": "markdown",
   "metadata": {
    "slideshow": {
     "slide_type": "subslide"
    }
   },
   "source": [
    "#### Activation functions\n",
    "\n",
    "Introduce non-linearity, critical to performance of neural networks."
   ]
  },
  {
   "cell_type": "code",
   "execution_count": 2,
   "metadata": {
    "hide_input": true,
    "slideshow": {
     "slide_type": "-"
    }
   },
   "outputs": [
    {
     "data": {
      "image/png": "[encoded data removed]",
      "text/plain": [
       "<Figure size 720x432 with 1 Axes>"
      ]
     },
     "metadata": {
      "needs_background": "light"
     },
     "output_type": "display_data"
    }
   ],
   "source": [
    "z = np.linspace(-5, 5, 1000)\n",
    "plt.subplots(figsize=(10, 6))\n",
    "plt.hlines(0, -5, 5, alpha=0.2)\n",
    "plt.vlines(0, -1.2, 2.5, alpha=0.2)\n",
    "plt.plot(z, 1 / (1 + np.exp(-z)), label='sigmoid')\n",
    "plt.plot(z, np.tanh(z), label='tanh')\n",
    "plt.plot(z, np.maximum(0, z), label='ReLU')\n",
    "plt.plot(z, np.maximum(0.01 * z, z), ls='--', label='Leaky ReLU')\n",
    "plt.axis([-5, 5, -1.2, 2.5])\n",
    "plt.xlabel('input value')\n",
    "plt.ylabel('output activation')\n",
    "plt.legend();"
   ]
  },
  {
   "cell_type": "markdown",
   "metadata": {
    "slideshow": {
     "slide_type": "subslide"
    }
   },
   "source": [
    "#### Feed-forward networks: stack layers of neurons, with unidirectional connections between layers\n",
    "\n",
    "<img src=\"http://neuralnetworksanddeeplearning.com/images/tikz36.png\" alt=\"Deep ANN\" width=\"60%\" />"
   ]
  },
  {
   "cell_type": "markdown",
   "metadata": {
    "slideshow": {
     "slide_type": "slide"
    }
   },
   "source": [
    "## Supervised learning\n",
    "\n",
    "* Large quantity of input training data with known labels\n",
    "* Train network (adjust weights) such that training inputs result in outputs that match the labels\n",
    "* Validate by inputing (labelled) test data and checking outputs match labels\n",
    "* Apply network to new (unlabelled) data to produce estimated labels"
   ]
  },
  {
   "cell_type": "markdown",
   "metadata": {
    "slideshow": {
     "slide_type": "subslide"
    }
   },
   "source": [
    "#### Cost/Loss function\n",
    "\n",
    "Various options, but typically:\n",
    "* For regression: **mean squared error**\n",
    "  * $\\frac{1}{N} \\sum_{i=1}^N{(y - \\hat{y})^2}$, where $y$ is the prediction and $\\hat{y}$ is the true value.\n",
    "* For classification: **categorical cross entropy**\n",
    "  * $\\sum_i q_i \\log(p_i)$, where $p_i$ is the output probability of the input corresponding to class $i$, and $q_i = 1$ if $i$ is the correct class and $0$ otherwise."
   ]
  },
  {
   "cell_type": "markdown",
   "metadata": {
    "slideshow": {
     "slide_type": "subslide"
    }
   },
   "source": [
    "#### Other performance measures\n",
    "\n",
    "* Accuracy\n",
    "* Error rate\n",
    "* Precision\n",
    "* Recall\n",
    "* TP/FP/TN/FN\n",
    "* etc..."
   ]
  },
  {
   "cell_type": "markdown",
   "metadata": {
    "slideshow": {
     "slide_type": "subslide"
    }
   },
   "source": [
    "#### Stochastic gradient descent\n",
    "\n",
    "* Update weights to reduce the loss\n",
    "* Based on gradient of the loss function wrt each weight\n",
    "* Estimated using mini-batches of the input data\n",
    "* Multiplied by a **learning rate**\n",
    "\n",
    "#### Refinements:\n",
    "\n",
    "* Adaptive learning rate\n",
    "* Momentum"
   ]
  },
  {
   "cell_type": "markdown",
   "metadata": {
    "slideshow": {
     "slide_type": "subslide"
    }
   },
   "source": [
    "#### Backpropagation\n",
    "\n",
    "* Efficient algorithm to calculate all the gradients\n",
    "* Perform forward pass and save results for each neuron\n",
    "* Then pass backward through the network propagating gradients using chain rule\n",
    "* Results in gradient of the loss function with respect to each weight"
   ]
  },
  {
   "cell_type": "markdown",
   "metadata": {
    "slideshow": {
     "slide_type": "skip"
    }
   },
   "source": [
    "### Detailed backpropagation algorithm\n",
    "\n",
    "#### 1. Input\n",
    "\n",
    "$x$: Set the corresponding activations, $a^1$, for the input layer.\n",
    "\n",
    "#### 2. Feedforward\n",
    "\n",
    "For each layer, $l = 2, 3, \\dots, L$, compute weighted sum of input activations from previous layer (plus a bias) $z^l = w^l a^{l-1} + b^l$ and resulting output activations $a^l = \\sigma(z^l)$.\n",
    "\n",
    "#### 3. Output, loss and output error\n",
    "\n",
    "The output of the network is $a^L$, with loss $C(a^L, y)$, where $y$ are the labels corresponding to $x$.\n",
    "\n",
    "The error on each $z^L$ is $\\delta^L = \\nabla_a C \\odot \\sigma^\\prime(z^L)$, where $\\nabla_a C$ is the partial derivative of $C$ with respect to $a^L$, $\\odot$ is the elementwise (Hadamard) product and $\\sigma^\\prime(z^L)$ is the derivative of the activation function evaluated at $z^L$.\n",
    "\n",
    "#### 4. Backpropagate the error\n",
    "\n",
    "For each layer, $l = L-1, L-2, \\dots, 2$ compute the error on the $z^l$ as $\\delta^L = \\left((w^{l+1})^\\textrm{T} \\delta^{l+1}\\right) \\odot \\sigma^\\prime(z^l)$.\n",
    "\n",
    "#### 5. Gradients\n",
    "\n",
    "The gradient of the cost function with respect to the network parameters is given by $\\displaystyle\\frac{\\partial C}{\\partial w^l_{jk}} = a^{l-1}_k \\delta^l_j$ and $\\displaystyle\\frac{\\partial C}{\\partial b^l_{j}} = \\delta^l_j$.\n",
    "\n",
    "#### 6. Update weights\n",
    "\n",
    "Update the weights using $w^l \\rightarrow w^l - \\eta \\displaystyle\\frac{\\partial C}{\\partial w^l}$ and biases $b^l \\rightarrow b^l - \\eta \\displaystyle\\frac{\\partial C}{\\partial b^l}$, where $\\eta$ is the learning rate. "
   ]
  },
  {
   "cell_type": "markdown",
   "metadata": {
    "slideshow": {
     "slide_type": "slide"
    }
   },
   "source": [
    "## Training simple neural networks on the MNIST dataset using keras"
   ]
  },
  {
   "cell_type": "markdown",
   "metadata": {
    "slideshow": {
     "slide_type": "subslide"
    }
   },
   "source": [
    "### Set up TensorFlow in a friendly manner"
   ]
  },
  {
   "cell_type": "code",
   "execution_count": 3,
   "metadata": {},
   "outputs": [
    {
     "name": "stdout",
     "output_type": "stream",
     "text": [
      "Tensorflow using CPU\n"
     ]
    }
   ],
   "source": [
    "import tensorflow as tf\n",
    "\n",
    "gpus = tf.config.experimental.list_physical_devices('GPU')\n",
    "if gpus:\n",
    "    print(gpus)\n",
    "    try:\n",
    "        # Turn on memory growth\n",
    "        for gpu in gpus:\n",
    "            tf.config.experimental.set_memory_growth(gpu, True)\n",
    "            #tf.config.experimental.set_virtual_device_configuration(gpu,\n",
    "            #      [tf.config.experimental.VirtualDeviceConfiguration(memory_limit=1024)])\n",
    "        # Restrict TensorFlow to only use the first GPU\n",
    "        tf.config.experimental.set_visible_devices(gpus[1], 'GPU')\n",
    "        logical_gpus = tf.config.experimental.list_logical_devices('GPU')\n",
    "        print(logical_gpus)\n",
    "    except RuntimeError as e:\n",
    "        # Visible devices must be set before GPUs have been initialized\n",
    "        print(e)\n",
    "else:\n",
    "    print(f'Tensorflow using CPU')"
   ]
  },
  {
   "cell_type": "code",
   "execution_count": 4,
   "metadata": {
    "scrolled": true,
    "slideshow": {
     "slide_type": "subslide"
    }
   },
   "outputs": [
    {
     "data": {
      "text/plain": [
       "[name: \"/device:CPU:0\"\n",
       " device_type: \"CPU\"\n",
       " memory_limit: 268435456\n",
       " locality {\n",
       " }\n",
       " incarnation: 12557443145634283988,\n",
       " name: \"/device:XLA_CPU:0\"\n",
       " device_type: \"XLA_CPU\"\n",
       " memory_limit: 17179869184\n",
       " locality {\n",
       " }\n",
       " incarnation: 16331980771004505889\n",
       " physical_device_desc: \"device: XLA_CPU device\"]"
      ]
     },
     "execution_count": 4,
     "metadata": {},
     "output_type": "execute_result"
    }
   ],
   "source": [
    "# check that we have the devices we expect available\n",
    "from tensorflow.python.client import device_lib\n",
    "device_lib.list_local_devices()"
   ]
  },
  {
   "cell_type": "markdown",
   "metadata": {
    "slideshow": {
     "slide_type": "subslide"
    }
   },
   "source": [
    "### Import keras bits and pieces"
   ]
  },
  {
   "cell_type": "code",
   "execution_count": 5,
   "metadata": {
    "slideshow": {
     "slide_type": "-"
    }
   },
   "outputs": [],
   "source": [
    "# if you have a recent version of tensorflow, keras is included\n",
    "from tensorflow import keras\n",
    "from tensorflow.keras.datasets import mnist\n",
    "from tensorflow.keras.models import Sequential\n",
    "from tensorflow.keras.layers import Dense, Dropout, Conv2D, MaxPooling2D, Flatten\n",
    "from tensorflow.keras.optimizers import RMSprop"
   ]
  },
  {
   "cell_type": "markdown",
   "metadata": {
    "slideshow": {
     "slide_type": "subslide"
    }
   },
   "source": [
    "### We will use a standard demonstration data set: MNIST handwritten digits\n",
    "\n",
    "![MNIST](https://upload.wikimedia.org/wikipedia/commons/2/27/MnistExamples.png \"MNIST\")\n"
   ]
  },
  {
   "cell_type": "markdown",
   "metadata": {
    "slideshow": {
     "slide_type": "subslide"
    }
   },
   "source": [
    "### Load the data"
   ]
  },
  {
   "cell_type": "code",
   "execution_count": 6,
   "metadata": {
    "slideshow": {
     "slide_type": "-"
    }
   },
   "outputs": [],
   "source": [
    "# the data, split between train and test sets\n",
    "(x_train, y_train), (x_valtest, y_valtest) = mnist.load_data()"
   ]
  },
  {
   "cell_type": "markdown",
   "metadata": {
    "slideshow": {
     "slide_type": "subslide"
    }
   },
   "source": [
    "### Some experimental variations"
   ]
  },
  {
   "cell_type": "code",
   "execution_count": 7,
   "metadata": {
    "slideshow": {
     "slide_type": "fragment"
    }
   },
   "outputs": [],
   "source": [
    "# demo the effect of noisy data...\n",
    "#x_train = (x_train/5 +\n",
    "#           np.random.poisson(200, size=x_train.shape)).clip(0, 255)\n",
    "#x_valtest = (x_valtest/5 +\n",
    "#             np.random.poisson(200, size=x_valtest.shape)).clip(0, 255)"
   ]
  },
  {
   "cell_type": "code",
   "execution_count": 8,
   "metadata": {
    "slideshow": {
     "slide_type": "fragment"
    }
   },
   "outputs": [],
   "source": [
    "# reduce the amount of training data...\n",
    "idx = np.random.choice(len(x_train), size=len(x_train)//100)\n",
    "x_train = x_train[idx]\n",
    "y_train = y_train[idx]"
   ]
  },
  {
   "cell_type": "markdown",
   "metadata": {
    "slideshow": {
     "slide_type": "subslide"
    }
   },
   "source": [
    "If your data isn't split, or want a validation set, need to do the split manually\n",
    "\n",
    "We will split the test data set so we have an independent data set for additional validation"
   ]
  },
  {
   "cell_type": "code",
   "execution_count": 9,
   "metadata": {
    "slideshow": {
     "slide_type": "fragment"
    }
   },
   "outputs": [],
   "source": [
    "from sklearn.model_selection import train_test_split\n",
    "x_test, x_val, y_test, y_val = train_test_split(x_valtest, y_valtest,\n",
    "                                                test_size=0.5)"
   ]
  },
  {
   "cell_type": "code",
   "execution_count": 10,
   "metadata": {
    "slideshow": {
     "slide_type": "fragment"
    }
   },
   "outputs": [
    {
     "data": {
      "text/plain": [
       "((600, 28, 28), (600,))"
      ]
     },
     "execution_count": 10,
     "metadata": {},
     "output_type": "execute_result"
    }
   ],
   "source": [
    "x_train.shape, y_train.shape"
   ]
  },
  {
   "cell_type": "code",
   "execution_count": 11,
   "metadata": {
    "slideshow": {
     "slide_type": "fragment"
    }
   },
   "outputs": [
    {
     "data": {
      "text/plain": [
       "((5000, 28, 28), (5000,), (5000, 28, 28), (5000,))"
      ]
     },
     "execution_count": 11,
     "metadata": {},
     "output_type": "execute_result"
    }
   ],
   "source": [
    "x_test.shape, y_test.shape, x_val.shape, y_val.shape"
   ]
  },
  {
   "cell_type": "markdown",
   "metadata": {
    "slideshow": {
     "slide_type": "slide"
    }
   },
   "source": [
    "### Take a look at the data\n",
    "\n",
    "This is a very quick glance - you should carefully examine any new dataset"
   ]
  },
  {
   "cell_type": "code",
   "execution_count": 12,
   "metadata": {
    "slideshow": {
     "slide_type": "subslide"
    }
   },
   "outputs": [
    {
     "name": "stdout",
     "output_type": "stream",
     "text": [
      "class = 7\n"
     ]
    },
    {
     "data": {
      "image/png": "[encoded data removed]",
      "text/plain": [
       "<Figure size 432x288 with 1 Axes>"
      ]
     },
     "metadata": {
      "needs_background": "light"
     },
     "output_type": "display_data"
    }
   ],
   "source": [
    "i = 16\n",
    "plt.imshow(x_train[i], cmap='gray')\n",
    "print('class =', y_train[i])"
   ]
  },
  {
   "cell_type": "markdown",
   "metadata": {
    "slideshow": {
     "slide_type": "slide"
    }
   },
   "source": [
    "### Prepare the data"
   ]
  },
  {
   "cell_type": "code",
   "execution_count": 13,
   "metadata": {
    "slideshow": {
     "slide_type": "fragment"
    }
   },
   "outputs": [],
   "source": [
    "# convert class vectors to \"one-hot\" binary class matrices\n",
    "num_classes = 10\n",
    "y_train = keras.utils.to_categorical(y_train, num_classes)\n",
    "y_test = keras.utils.to_categorical(y_test, num_classes)\n",
    "y_val = keras.utils.to_categorical(y_val, num_classes)"
   ]
  },
  {
   "cell_type": "code",
   "execution_count": 14,
   "metadata": {
    "slideshow": {
     "slide_type": "fragment"
    }
   },
   "outputs": [
    {
     "data": {
      "text/plain": [
       "array([0., 0., 0., 0., 0., 0., 0., 1., 0., 0.], dtype=float32)"
      ]
     },
     "execution_count": 14,
     "metadata": {},
     "output_type": "execute_result"
    }
   ],
   "source": [
    "y_train[i]"
   ]
  },
  {
   "cell_type": "code",
   "execution_count": 15,
   "metadata": {
    "slideshow": {
     "slide_type": "fragment"
    }
   },
   "outputs": [],
   "source": [
    "def process_data(x):\n",
    "    x = x.reshape(-1, 784)\n",
    "    x = x.astype('float32')\n",
    "    x /= 255\n",
    "    return x"
   ]
  },
  {
   "cell_type": "code",
   "execution_count": 16,
   "metadata": {
    "slideshow": {
     "slide_type": "fragment"
    }
   },
   "outputs": [],
   "source": [
    "x_train = process_data(x_train)\n",
    "x_test = process_data(x_test)"
   ]
  },
  {
   "cell_type": "markdown",
   "metadata": {
    "slideshow": {
     "slide_type": "slide"
    }
   },
   "source": [
    "## Fully-connected NN"
   ]
  },
  {
   "cell_type": "markdown",
   "metadata": {
    "slideshow": {
     "slide_type": "slide"
    }
   },
   "source": [
    "### Construct the network"
   ]
  },
  {
   "cell_type": "code",
   "execution_count": 17,
   "metadata": {
    "slideshow": {
     "slide_type": "-"
    }
   },
   "outputs": [],
   "source": [
    "# a fairly small network\n",
    "fcmodel = Sequential()\n",
    "fcmodel.add(Dense(32, activation='relu', input_shape=(784,)))\n",
    "# could include dropout, regularisation, ...\n",
    "#fcmodel.add(Dropout(0.5))\n",
    "fcmodel.add(Dense(32, activation='relu'))\n",
    "fcmodel.add(Dense(num_classes, activation='softmax'))"
   ]
  },
  {
   "cell_type": "code",
   "execution_count": 18,
   "metadata": {
    "slideshow": {
     "slide_type": "fragment"
    }
   },
   "outputs": [],
   "source": [
    "fcmodel.compile(loss='categorical_crossentropy',\n",
    "                optimizer=RMSprop(),\n",
    "                metrics=['accuracy'])"
   ]
  },
  {
   "cell_type": "code",
   "execution_count": 19,
   "metadata": {
    "slideshow": {
     "slide_type": "subslide"
    }
   },
   "outputs": [
    {
     "name": "stdout",
     "output_type": "stream",
     "text": [
      "Model: \"sequential\"\n",
      "_________________________________________________________________\n",
      "Layer (type)                 Output Shape              Param #   \n",
      "=================================================================\n",
      "dense (Dense)                (None, 32)                25120     \n",
      "_________________________________________________________________\n",
      "dense_1 (Dense)              (None, 32)                1056      \n",
      "_________________________________________________________________\n",
      "dense_2 (Dense)              (None, 10)                330       \n",
      "=================================================================\n",
      "Total params: 26,506\n",
      "Trainable params: 26,506\n",
      "Non-trainable params: 0\n",
      "_________________________________________________________________\n"
     ]
    }
   ],
   "source": [
    "fcmodel.summary()"
   ]
  },
  {
   "cell_type": "markdown",
   "metadata": {
    "slideshow": {
     "slide_type": "subslide"
    }
   },
   "source": [
    "#### Softmax activation function\n",
    "\n",
    "Produces probabilities over a set of classes – usual choice for last layer of classification network\n",
    "\n",
    "$$a_j = \\sigma(z_j) = \\frac{\\exp(z_j)}{\\sum_k \\exp(z_k)}$$"
   ]
  },
  {
   "cell_type": "code",
   "execution_count": 20,
   "metadata": {
    "hide_input": true,
    "slideshow": {
     "slide_type": "fragment"
    }
   },
   "outputs": [
    {
     "data": {
      "image/png": "[encoded data removed]",
      "text/plain": [
       "<Figure size 720x432 with 2 Axes>"
      ]
     },
     "metadata": {
      "needs_background": "light"
     },
     "output_type": "display_data"
    }
   ],
   "source": [
    "z1, z2 = (np.indices((101, 101)) / 100 - 0.5) * 10\n",
    "a = np.exp(z1) / (np.exp(z1) + np.exp(z2))\n",
    "plt.subplots(figsize=(10, 6))\n",
    "plt.imshow(a.T, extent=(-5, 5, -5, 5), origin='lower')\n",
    "plt.xlabel('$z_1$')\n",
    "plt.ylabel('$z_2$')\n",
    "ax = plt.colorbar()\n",
    "ax.set_label('$a_1$');"
   ]
  },
  {
   "cell_type": "markdown",
   "metadata": {
    "slideshow": {
     "slide_type": "slide"
    }
   },
   "source": [
    "### Train the network"
   ]
  },
  {
   "cell_type": "code",
   "execution_count": 21,
   "metadata": {
    "slideshow": {
     "slide_type": "fragment"
    }
   },
   "outputs": [],
   "source": [
    "batch_size = 32\n",
    "epochs = 50"
   ]
  },
  {
   "cell_type": "code",
   "execution_count": 22,
   "metadata": {},
   "outputs": [
    {
     "data": {
      "text/plain": [
       "(5000, 784)"
      ]
     },
     "execution_count": 22,
     "metadata": {},
     "output_type": "execute_result"
    }
   ],
   "source": [
    "x_test.shape"
   ]
  },
  {
   "cell_type": "code",
   "execution_count": 23,
   "metadata": {
    "scrolled": true,
    "slideshow": {
     "slide_type": "fragment"
    }
   },
   "outputs": [
    {
     "name": "stdout",
     "output_type": "stream",
     "text": [
      "Epoch 1/50\n",
      "19/19 - 0s - loss: 2.0626 - accuracy: 0.2867 - val_loss: 1.7045 - val_accuracy: 0.5410\n",
      "Epoch 2/50\n",
      "19/19 - 0s - loss: 1.4659 - accuracy: 0.6317 - val_loss: 1.2429 - val_accuracy: 0.6596\n",
      "Epoch 3/50\n",
      "19/19 - 0s - loss: 1.0454 - accuracy: 0.7667 - val_loss: 0.9255 - val_accuracy: 0.7804\n",
      "Epoch 4/50\n",
      "19/19 - 0s - loss: 0.7844 - accuracy: 0.8283 - val_loss: 0.7694 - val_accuracy: 0.7930\n",
      "Epoch 5/50\n",
      "19/19 - 0s - loss: 0.6180 - accuracy: 0.8600 - val_loss: 0.6709 - val_accuracy: 0.8134\n",
      "Epoch 6/50\n",
      "19/19 - 0s - loss: 0.5152 - accuracy: 0.8733 - val_loss: 0.6109 - val_accuracy: 0.8214\n",
      "Epoch 7/50\n",
      "19/19 - 0s - loss: 0.4386 - accuracy: 0.9017 - val_loss: 0.6017 - val_accuracy: 0.8064\n",
      "Epoch 8/50\n",
      "19/19 - 0s - loss: 0.3690 - accuracy: 0.9033 - val_loss: 0.5573 - val_accuracy: 0.8286\n",
      "Epoch 9/50\n",
      "19/19 - 0s - loss: 0.3242 - accuracy: 0.9083 - val_loss: 0.5592 - val_accuracy: 0.8302\n",
      "Epoch 10/50\n",
      "19/19 - 0s - loss: 0.2852 - accuracy: 0.9317 - val_loss: 0.5012 - val_accuracy: 0.8512\n",
      "Epoch 11/50\n",
      "19/19 - 0s - loss: 0.2455 - accuracy: 0.9350 - val_loss: 0.5040 - val_accuracy: 0.8496\n",
      "Epoch 12/50\n",
      "19/19 - 0s - loss: 0.2173 - accuracy: 0.9500 - val_loss: 0.5267 - val_accuracy: 0.8428\n",
      "Epoch 13/50\n",
      "19/19 - 0s - loss: 0.1937 - accuracy: 0.9550 - val_loss: 0.4932 - val_accuracy: 0.8574\n",
      "Epoch 14/50\n",
      "19/19 - 0s - loss: 0.1703 - accuracy: 0.9667 - val_loss: 0.4824 - val_accuracy: 0.8652\n",
      "Epoch 15/50\n",
      "19/19 - 0s - loss: 0.1440 - accuracy: 0.9750 - val_loss: 0.5448 - val_accuracy: 0.8394\n",
      "Epoch 16/50\n",
      "19/19 - 0s - loss: 0.1324 - accuracy: 0.9700 - val_loss: 0.4976 - val_accuracy: 0.8608\n",
      "Epoch 17/50\n",
      "19/19 - 0s - loss: 0.1106 - accuracy: 0.9867 - val_loss: 0.5326 - val_accuracy: 0.8452\n",
      "Epoch 18/50\n",
      "19/19 - 0s - loss: 0.0980 - accuracy: 0.9883 - val_loss: 0.5001 - val_accuracy: 0.8646\n",
      "Epoch 19/50\n",
      "19/19 - 0s - loss: 0.0845 - accuracy: 0.9917 - val_loss: 0.5143 - val_accuracy: 0.8588\n",
      "Epoch 20/50\n",
      "19/19 - 0s - loss: 0.0719 - accuracy: 0.9933 - val_loss: 0.5009 - val_accuracy: 0.8638\n",
      "Epoch 21/50\n",
      "19/19 - 0s - loss: 0.0627 - accuracy: 0.9967 - val_loss: 0.5275 - val_accuracy: 0.8560\n",
      "Epoch 22/50\n",
      "19/19 - 0s - loss: 0.0501 - accuracy: 0.9967 - val_loss: 0.5445 - val_accuracy: 0.8510\n",
      "Epoch 23/50\n",
      "19/19 - 0s - loss: 0.0475 - accuracy: 0.9967 - val_loss: 0.5429 - val_accuracy: 0.8570\n",
      "Epoch 24/50\n",
      "19/19 - 0s - loss: 0.0389 - accuracy: 0.9983 - val_loss: 0.5496 - val_accuracy: 0.8578\n",
      "Epoch 25/50\n",
      "19/19 - 0s - loss: 0.0325 - accuracy: 0.9983 - val_loss: 0.5744 - val_accuracy: 0.8572\n",
      "Epoch 26/50\n",
      "19/19 - 0s - loss: 0.0274 - accuracy: 0.9983 - val_loss: 0.5764 - val_accuracy: 0.8634\n",
      "Epoch 27/50\n",
      "19/19 - 0s - loss: 0.0216 - accuracy: 0.9983 - val_loss: 0.6004 - val_accuracy: 0.8540\n",
      "Epoch 28/50\n",
      "19/19 - 0s - loss: 0.0198 - accuracy: 1.0000 - val_loss: 0.6090 - val_accuracy: 0.8602\n",
      "Epoch 29/50\n",
      "19/19 - 0s - loss: 0.0172 - accuracy: 1.0000 - val_loss: 0.6083 - val_accuracy: 0.8584\n",
      "Epoch 30/50\n",
      "19/19 - 0s - loss: 0.0137 - accuracy: 1.0000 - val_loss: 0.6273 - val_accuracy: 0.8542\n",
      "Epoch 31/50\n",
      "19/19 - 0s - loss: 0.0115 - accuracy: 1.0000 - val_loss: 0.6464 - val_accuracy: 0.8528\n",
      "Epoch 32/50\n",
      "19/19 - 0s - loss: 0.0110 - accuracy: 1.0000 - val_loss: 0.6550 - val_accuracy: 0.8570\n",
      "Epoch 33/50\n",
      "19/19 - 0s - loss: 0.0071 - accuracy: 1.0000 - val_loss: 0.6609 - val_accuracy: 0.8544\n",
      "Epoch 34/50\n",
      "19/19 - 0s - loss: 0.0074 - accuracy: 1.0000 - val_loss: 0.6786 - val_accuracy: 0.8588\n",
      "Epoch 35/50\n",
      "19/19 - 0s - loss: 0.0055 - accuracy: 1.0000 - val_loss: 0.7106 - val_accuracy: 0.8576\n",
      "Epoch 36/50\n",
      "19/19 - 0s - loss: 0.0050 - accuracy: 1.0000 - val_loss: 0.6984 - val_accuracy: 0.8590\n",
      "Epoch 37/50\n",
      "19/19 - 0s - loss: 0.0037 - accuracy: 1.0000 - val_loss: 0.7153 - val_accuracy: 0.8610\n",
      "Epoch 38/50\n",
      "19/19 - 0s - loss: 0.0033 - accuracy: 1.0000 - val_loss: 0.7316 - val_accuracy: 0.8596\n",
      "Epoch 39/50\n",
      "19/19 - 0s - loss: 0.0026 - accuracy: 1.0000 - val_loss: 0.7647 - val_accuracy: 0.8566\n",
      "Epoch 40/50\n",
      "19/19 - 0s - loss: 0.0021 - accuracy: 1.0000 - val_loss: 0.8121 - val_accuracy: 0.8514\n",
      "Epoch 41/50\n",
      "19/19 - 0s - loss: 0.0017 - accuracy: 1.0000 - val_loss: 0.8007 - val_accuracy: 0.8602\n",
      "Epoch 42/50\n",
      "19/19 - 0s - loss: 0.0014 - accuracy: 1.0000 - val_loss: 0.8675 - val_accuracy: 0.8508\n",
      "Epoch 43/50\n",
      "19/19 - 0s - loss: 0.0012 - accuracy: 1.0000 - val_loss: 0.8249 - val_accuracy: 0.8588\n",
      "Epoch 44/50\n",
      "19/19 - 0s - loss: 9.3955e-04 - accuracy: 1.0000 - val_loss: 0.8617 - val_accuracy: 0.8586\n",
      "Epoch 45/50\n",
      "19/19 - 0s - loss: 6.7647e-04 - accuracy: 1.0000 - val_loss: 0.8989 - val_accuracy: 0.8554\n",
      "Epoch 46/50\n",
      "19/19 - 0s - loss: 6.4644e-04 - accuracy: 1.0000 - val_loss: 0.8871 - val_accuracy: 0.8596\n",
      "Epoch 47/50\n",
      "19/19 - 0s - loss: 4.1642e-04 - accuracy: 1.0000 - val_loss: 0.9129 - val_accuracy: 0.8536\n",
      "Epoch 48/50\n",
      "19/19 - 0s - loss: 4.1634e-04 - accuracy: 1.0000 - val_loss: 0.9215 - val_accuracy: 0.8572\n",
      "Epoch 49/50\n",
      "19/19 - 0s - loss: 3.0603e-04 - accuracy: 1.0000 - val_loss: 0.9504 - val_accuracy: 0.8554\n",
      "Epoch 50/50\n",
      "19/19 - 0s - loss: 2.2328e-04 - accuracy: 1.0000 - val_loss: 0.9570 - val_accuracy: 0.8602\n"
     ]
    }
   ],
   "source": [
    "history = fcmodel.fit(x_train, y_train,\n",
    "                      batch_size=batch_size,\n",
    "                      epochs=epochs,\n",
    "                      verbose=2,\n",
    "                      validation_data=(x_test, y_test))"
   ]
  },
  {
   "cell_type": "code",
   "execution_count": 24,
   "metadata": {
    "slideshow": {
     "slide_type": "subslide"
    }
   },
   "outputs": [
    {
     "name": "stdout",
     "output_type": "stream",
     "text": [
      "Test loss: 0.957\n",
      "Test accuracy: 0.860\n"
     ]
    }
   ],
   "source": [
    "score = fcmodel.evaluate(x_test, y_test, verbose=0)\n",
    "print('Test loss: {:.3f}'.format(score[0]))\n",
    "print('Test accuracy: {:.3f}'.format(score[1]))"
   ]
  },
  {
   "cell_type": "code",
   "execution_count": 25,
   "metadata": {
    "slideshow": {
     "slide_type": "subslide"
    }
   },
   "outputs": [],
   "source": [
    "def histplot(history):\n",
    "    hist = pd.DataFrame(history.history)\n",
    "    fig, (ax1, ax2) = plt.subplots(1, 2, figsize=(15, 5))\n",
    "    hist.plot(y=['loss', 'val_loss'], ax=ax1)\n",
    "    min_loss = hist['val_loss'].min()\n",
    "    ax1.hlines(min_loss, 0, len(hist), linestyle='dotted',\n",
    "               label='min(val_loss) = {:.3f}'.format(min_loss))\n",
    "    ax1.legend(loc='upper right')\n",
    "    hist.plot(y=['accuracy', 'val_accuracy'], ax=ax2)\n",
    "    max_acc = hist['val_accuracy'].max()\n",
    "    ax2.hlines(max_acc, 0, len(hist), linestyle='dotted',\n",
    "               label='max(val_acc) = {:.3f}'.format(max_acc))\n",
    "    ax2.legend(loc='lower right', fontsize='large')"
   ]
  },
  {
   "cell_type": "code",
   "execution_count": 26,
   "metadata": {
    "scrolled": true,
    "slideshow": {
     "slide_type": "subslide"
    }
   },
   "outputs": [
    {
     "data": {
      "image/png": "[encoded data removed]",
      "text/plain": [
       "<Figure size 1080x360 with 2 Axes>"
      ]
     },
     "metadata": {
      "needs_background": "light"
     },
     "output_type": "display_data"
    }
   ],
   "source": [
    "histplot(history)"
   ]
  },
  {
   "cell_type": "markdown",
   "metadata": {},
   "source": [
    "Note over-fitting!"
   ]
  },
  {
   "cell_type": "markdown",
   "metadata": {
    "slideshow": {
     "slide_type": "subslide"
    }
   },
   "source": [
    "Over-fitting common, not always a problem.\n",
    "\n",
    "Suggests potential for an approach with fewer parameters or regularisation, and hence better generalisation.\n",
    "\n",
    "Note that could have stopped training when the validation loss plateaued: *early stopping* approach to avoiding over-fitting.\n",
    "\n",
    "Training a fully-connected network with many layers is challenging. Consider alternative architectures which exploit key properties of the data."
   ]
  },
  {
   "cell_type": "markdown",
   "metadata": {
    "slideshow": {
     "slide_type": "slide"
    }
   },
   "source": [
    "## Convolutional Neural Network (CNN)\n",
    "\n",
    "<br/>\n",
    "<br/>\n",
    "\n",
    "<img src=\"https://upload.wikimedia.org/wikipedia/commons/6/63/Typical_cnn.png\" alt=\"CNN\" width=\"80%\" />\n"
   ]
  },
  {
   "cell_type": "markdown",
   "metadata": {
    "slideshow": {
     "slide_type": "subslide"
    }
   },
   "source": [
    "#### Convolution\n",
    "\n",
    "<img src=\"https://upload.wikimedia.org/wikipedia/commons/1/19/2D_Convolution_Animation.gif\" width=\"50%\" />"
   ]
  },
  {
   "cell_type": "markdown",
   "metadata": {
    "slideshow": {
     "slide_type": "subslide"
    }
   },
   "source": [
    "#### Pooling\n",
    "\n",
    "<img src=\"https://upload.wikimedia.org/wikipedia/commons/e/e9/Max_pooling.png\" width=\"30%\" />"
   ]
  },
  {
   "cell_type": "markdown",
   "metadata": {
    "slideshow": {
     "slide_type": "subslide"
    }
   },
   "source": [
    "### Reshape the data"
   ]
  },
  {
   "cell_type": "code",
   "execution_count": 27,
   "metadata": {
    "slideshow": {
     "slide_type": "-"
    }
   },
   "outputs": [],
   "source": [
    "# Turn back into stacks of 2D images\n",
    "x_train = x_train.reshape(-1, 28, 28, 1)\n",
    "x_test = x_test.reshape(-1, 28, 28, 1)"
   ]
  },
  {
   "cell_type": "markdown",
   "metadata": {
    "slideshow": {
     "slide_type": "slide"
    }
   },
   "source": [
    "### Construct the network"
   ]
  },
  {
   "cell_type": "code",
   "execution_count": 28,
   "metadata": {
    "slideshow": {
     "slide_type": "-"
    }
   },
   "outputs": [],
   "source": [
    "# a fairly small network for speed\n",
    "cnnmodel = Sequential()\n",
    "cnnmodel.add(Conv2D(8, (3, 3), activation='relu', input_shape=(28, 28, 1)))\n",
    "cnnmodel.add(MaxPooling2D((3, 3)))\n",
    "cnnmodel.add(Conv2D(16, (3, 3), activation='relu'))\n",
    "cnnmodel.add(MaxPooling2D((2, 2)))\n",
    "# could include dropout, regularisation, ...\n",
    "#cnnmodel.add(Dropout(0.5))\n",
    "cnnmodel.add(Flatten())\n",
    "cnnmodel.add(Dense(num_classes, activation='softmax'))"
   ]
  },
  {
   "cell_type": "code",
   "execution_count": 29,
   "metadata": {
    "slideshow": {
     "slide_type": "fragment"
    }
   },
   "outputs": [],
   "source": [
    "cnnmodel.compile(loss='categorical_crossentropy',\n",
    "                optimizer=RMSprop(),\n",
    "                metrics=['accuracy'])"
   ]
  },
  {
   "cell_type": "code",
   "execution_count": 30,
   "metadata": {
    "slideshow": {
     "slide_type": "subslide"
    }
   },
   "outputs": [
    {
     "name": "stdout",
     "output_type": "stream",
     "text": [
      "Model: \"sequential_1\"\n",
      "_________________________________________________________________\n",
      "Layer (type)                 Output Shape              Param #   \n",
      "=================================================================\n",
      "conv2d (Conv2D)              (None, 26, 26, 8)         80        \n",
      "_________________________________________________________________\n",
      "max_pooling2d (MaxPooling2D) (None, 8, 8, 8)           0         \n",
      "_________________________________________________________________\n",
      "conv2d_1 (Conv2D)            (None, 6, 6, 16)          1168      \n",
      "_________________________________________________________________\n",
      "max_pooling2d_1 (MaxPooling2 (None, 3, 3, 16)          0         \n",
      "_________________________________________________________________\n",
      "flatten (Flatten)            (None, 144)               0         \n",
      "_________________________________________________________________\n",
      "dense_3 (Dense)              (None, 10)                1450      \n",
      "=================================================================\n",
      "Total params: 2,698\n",
      "Trainable params: 2,698\n",
      "Non-trainable params: 0\n",
      "_________________________________________________________________\n"
     ]
    }
   ],
   "source": [
    "cnnmodel.summary()"
   ]
  },
  {
   "cell_type": "code",
   "execution_count": 31,
   "metadata": {
    "slideshow": {
     "slide_type": "subslide"
    }
   },
   "outputs": [],
   "source": [
    "# save weights for reinitialising below\n",
    "cnnmodel.save_weights('/tmp/cnnmodel_init_weights.tf')"
   ]
  },
  {
   "cell_type": "markdown",
   "metadata": {
    "slideshow": {
     "slide_type": "slide"
    }
   },
   "source": [
    "### Train the network"
   ]
  },
  {
   "cell_type": "code",
   "execution_count": 32,
   "metadata": {
    "slideshow": {
     "slide_type": "-"
    }
   },
   "outputs": [
    {
     "name": "stdout",
     "output_type": "stream",
     "text": [
      "Epoch 1/150\n",
      "19/19 - 0s - loss: 2.2805 - accuracy: 0.1583 - val_loss: 2.2314 - val_accuracy: 0.2210\n",
      "Epoch 2/150\n",
      "19/19 - 0s - loss: 2.1679 - accuracy: 0.3183 - val_loss: 2.1139 - val_accuracy: 0.4468\n",
      "Epoch 3/150\n",
      "19/19 - 0s - loss: 2.0189 - accuracy: 0.4733 - val_loss: 1.9398 - val_accuracy: 0.5324\n",
      "Epoch 4/150\n",
      "19/19 - 0s - loss: 1.8128 - accuracy: 0.5933 - val_loss: 1.7046 - val_accuracy: 0.6166\n",
      "Epoch 5/150\n",
      "19/19 - 0s - loss: 1.5823 - accuracy: 0.6533 - val_loss: 1.4645 - val_accuracy: 0.6650\n",
      "Epoch 6/150\n",
      "19/19 - 0s - loss: 1.3307 - accuracy: 0.7167 - val_loss: 1.2180 - val_accuracy: 0.7192\n",
      "Epoch 7/150\n",
      "19/19 - 0s - loss: 1.1022 - accuracy: 0.7550 - val_loss: 1.0298 - val_accuracy: 0.7486\n",
      "Epoch 8/150\n",
      "19/19 - 0s - loss: 0.9384 - accuracy: 0.7817 - val_loss: 0.8944 - val_accuracy: 0.7552\n",
      "Epoch 9/150\n",
      "19/19 - 0s - loss: 0.8115 - accuracy: 0.7900 - val_loss: 0.8041 - val_accuracy: 0.7688\n",
      "Epoch 10/150\n",
      "19/19 - 0s - loss: 0.7129 - accuracy: 0.8133 - val_loss: 0.7005 - val_accuracy: 0.8000\n",
      "Epoch 11/150\n",
      "19/19 - 0s - loss: 0.6431 - accuracy: 0.8183 - val_loss: 0.6554 - val_accuracy: 0.8040\n",
      "Epoch 12/150\n",
      "19/19 - 0s - loss: 0.5931 - accuracy: 0.8400 - val_loss: 0.6420 - val_accuracy: 0.7918\n",
      "Epoch 13/150\n",
      "19/19 - 0s - loss: 0.5563 - accuracy: 0.8383 - val_loss: 0.5767 - val_accuracy: 0.8240\n",
      "Epoch 14/150\n",
      "19/19 - 0s - loss: 0.5200 - accuracy: 0.8500 - val_loss: 0.5650 - val_accuracy: 0.8286\n",
      "Epoch 15/150\n",
      "19/19 - 0s - loss: 0.4821 - accuracy: 0.8583 - val_loss: 0.5256 - val_accuracy: 0.8442\n",
      "Epoch 16/150\n",
      "19/19 - 0s - loss: 0.4545 - accuracy: 0.8650 - val_loss: 0.5160 - val_accuracy: 0.8418\n",
      "Epoch 17/150\n",
      "19/19 - 0s - loss: 0.4330 - accuracy: 0.8667 - val_loss: 0.4932 - val_accuracy: 0.8418\n",
      "Epoch 18/150\n",
      "19/19 - 0s - loss: 0.4187 - accuracy: 0.8683 - val_loss: 0.5007 - val_accuracy: 0.8300\n",
      "Epoch 19/150\n",
      "19/19 - 0s - loss: 0.3978 - accuracy: 0.8783 - val_loss: 0.4520 - val_accuracy: 0.8610\n",
      "Epoch 20/150\n",
      "19/19 - 0s - loss: 0.3755 - accuracy: 0.9067 - val_loss: 0.4616 - val_accuracy: 0.8550\n",
      "Epoch 21/150\n",
      "19/19 - 0s - loss: 0.3592 - accuracy: 0.8917 - val_loss: 0.4496 - val_accuracy: 0.8578\n",
      "Epoch 22/150\n",
      "19/19 - 0s - loss: 0.3469 - accuracy: 0.8933 - val_loss: 0.4095 - val_accuracy: 0.8792\n",
      "Epoch 23/150\n",
      "19/19 - 0s - loss: 0.3271 - accuracy: 0.8983 - val_loss: 0.4399 - val_accuracy: 0.8618\n",
      "Epoch 24/150\n",
      "19/19 - 0s - loss: 0.3180 - accuracy: 0.9233 - val_loss: 0.4105 - val_accuracy: 0.8764\n",
      "Epoch 25/150\n",
      "19/19 - 0s - loss: 0.2980 - accuracy: 0.9150 - val_loss: 0.3939 - val_accuracy: 0.8788\n",
      "Epoch 26/150\n",
      "19/19 - 0s - loss: 0.2928 - accuracy: 0.9100 - val_loss: 0.3826 - val_accuracy: 0.8856\n",
      "Epoch 27/150\n",
      "19/19 - 0s - loss: 0.2758 - accuracy: 0.9267 - val_loss: 0.4009 - val_accuracy: 0.8722\n",
      "Epoch 28/150\n",
      "19/19 - 0s - loss: 0.2640 - accuracy: 0.9250 - val_loss: 0.3541 - val_accuracy: 0.8934\n",
      "Epoch 29/150\n",
      "19/19 - 0s - loss: 0.2538 - accuracy: 0.9267 - val_loss: 0.3693 - val_accuracy: 0.8838\n",
      "Epoch 30/150\n",
      "19/19 - 0s - loss: 0.2505 - accuracy: 0.9183 - val_loss: 0.3493 - val_accuracy: 0.8940\n",
      "Epoch 31/150\n",
      "19/19 - 0s - loss: 0.2352 - accuracy: 0.9300 - val_loss: 0.3384 - val_accuracy: 0.8974\n",
      "Epoch 32/150\n",
      "19/19 - 0s - loss: 0.2147 - accuracy: 0.9383 - val_loss: 0.3963 - val_accuracy: 0.8814\n",
      "Epoch 33/150\n",
      "19/19 - 0s - loss: 0.2200 - accuracy: 0.9317 - val_loss: 0.3243 - val_accuracy: 0.9038\n",
      "Epoch 34/150\n",
      "19/19 - 0s - loss: 0.2123 - accuracy: 0.9400 - val_loss: 0.3210 - val_accuracy: 0.9052\n",
      "Epoch 35/150\n",
      "19/19 - 0s - loss: 0.1995 - accuracy: 0.9417 - val_loss: 0.3176 - val_accuracy: 0.9036\n",
      "Epoch 36/150\n",
      "19/19 - 0s - loss: 0.1840 - accuracy: 0.9517 - val_loss: 0.3192 - val_accuracy: 0.9018\n",
      "Epoch 37/150\n",
      "19/19 - 0s - loss: 0.1851 - accuracy: 0.9517 - val_loss: 0.3125 - val_accuracy: 0.9066\n",
      "Epoch 38/150\n",
      "19/19 - 0s - loss: 0.1729 - accuracy: 0.9500 - val_loss: 0.3048 - val_accuracy: 0.9052\n",
      "Epoch 39/150\n",
      "19/19 - 0s - loss: 0.1660 - accuracy: 0.9533 - val_loss: 0.3169 - val_accuracy: 0.9050\n",
      "Epoch 40/150\n",
      "19/19 - 0s - loss: 0.1557 - accuracy: 0.9633 - val_loss: 0.3016 - val_accuracy: 0.9096\n",
      "Epoch 41/150\n",
      "19/19 - 0s - loss: 0.1544 - accuracy: 0.9583 - val_loss: 0.3207 - val_accuracy: 0.9064\n",
      "Epoch 42/150\n",
      "19/19 - 0s - loss: 0.1463 - accuracy: 0.9583 - val_loss: 0.3018 - val_accuracy: 0.9104\n",
      "Epoch 43/150\n",
      "19/19 - 0s - loss: 0.1465 - accuracy: 0.9583 - val_loss: 0.2892 - val_accuracy: 0.9132\n",
      "Epoch 44/150\n",
      "19/19 - 0s - loss: 0.1304 - accuracy: 0.9700 - val_loss: 0.2999 - val_accuracy: 0.9080\n",
      "Epoch 45/150\n",
      "19/19 - 0s - loss: 0.1295 - accuracy: 0.9700 - val_loss: 0.2913 - val_accuracy: 0.9144\n",
      "Epoch 46/150\n",
      "19/19 - 0s - loss: 0.1228 - accuracy: 0.9700 - val_loss: 0.2883 - val_accuracy: 0.9130\n",
      "Epoch 47/150\n",
      "19/19 - 0s - loss: 0.1154 - accuracy: 0.9750 - val_loss: 0.2909 - val_accuracy: 0.9134\n",
      "Epoch 48/150\n",
      "19/19 - 0s - loss: 0.1089 - accuracy: 0.9767 - val_loss: 0.3250 - val_accuracy: 0.9026\n",
      "Epoch 49/150\n",
      "19/19 - 0s - loss: 0.1109 - accuracy: 0.9733 - val_loss: 0.2816 - val_accuracy: 0.9148\n",
      "Epoch 50/150\n",
      "19/19 - 0s - loss: 0.1005 - accuracy: 0.9767 - val_loss: 0.2833 - val_accuracy: 0.9154\n",
      "Epoch 51/150\n",
      "19/19 - 0s - loss: 0.1030 - accuracy: 0.9717 - val_loss: 0.2725 - val_accuracy: 0.9184\n",
      "Epoch 52/150\n",
      "19/19 - 0s - loss: 0.0935 - accuracy: 0.9817 - val_loss: 0.2696 - val_accuracy: 0.9198\n",
      "Epoch 53/150\n",
      "19/19 - 0s - loss: 0.0911 - accuracy: 0.9783 - val_loss: 0.3068 - val_accuracy: 0.9088\n",
      "Epoch 54/150\n",
      "19/19 - 0s - loss: 0.0890 - accuracy: 0.9767 - val_loss: 0.2636 - val_accuracy: 0.9228\n",
      "Epoch 55/150\n",
      "19/19 - 0s - loss: 0.0870 - accuracy: 0.9783 - val_loss: 0.2632 - val_accuracy: 0.9236\n",
      "Epoch 56/150\n",
      "19/19 - 0s - loss: 0.0804 - accuracy: 0.9850 - val_loss: 0.2819 - val_accuracy: 0.9180\n",
      "Epoch 57/150\n",
      "19/19 - 0s - loss: 0.0715 - accuracy: 0.9850 - val_loss: 0.2602 - val_accuracy: 0.9248\n",
      "Epoch 58/150\n",
      "19/19 - 0s - loss: 0.0754 - accuracy: 0.9850 - val_loss: 0.2819 - val_accuracy: 0.9168\n",
      "Epoch 59/150\n",
      "19/19 - 0s - loss: 0.0650 - accuracy: 0.9883 - val_loss: 0.2816 - val_accuracy: 0.9202\n",
      "Epoch 60/150\n",
      "19/19 - 0s - loss: 0.0675 - accuracy: 0.9883 - val_loss: 0.2766 - val_accuracy: 0.9222\n",
      "Epoch 61/150\n",
      "19/19 - 0s - loss: 0.0637 - accuracy: 0.9883 - val_loss: 0.2683 - val_accuracy: 0.9230\n",
      "Epoch 62/150\n",
      "19/19 - 0s - loss: 0.0565 - accuracy: 0.9917 - val_loss: 0.3019 - val_accuracy: 0.9144\n",
      "Epoch 63/150\n",
      "19/19 - 0s - loss: 0.0589 - accuracy: 0.9883 - val_loss: 0.2593 - val_accuracy: 0.9270\n",
      "Epoch 64/150\n",
      "19/19 - 0s - loss: 0.0510 - accuracy: 0.9933 - val_loss: 0.2633 - val_accuracy: 0.9290\n",
      "Epoch 65/150\n",
      "19/19 - 0s - loss: 0.0466 - accuracy: 0.9950 - val_loss: 0.2659 - val_accuracy: 0.9266\n",
      "Epoch 66/150\n",
      "19/19 - 0s - loss: 0.0472 - accuracy: 0.9917 - val_loss: 0.2633 - val_accuracy: 0.9296\n",
      "Epoch 67/150\n",
      "19/19 - 0s - loss: 0.0460 - accuracy: 0.9933 - val_loss: 0.2811 - val_accuracy: 0.9238\n",
      "Epoch 68/150\n",
      "19/19 - 0s - loss: 0.0388 - accuracy: 0.9983 - val_loss: 0.2697 - val_accuracy: 0.9250\n",
      "Epoch 69/150\n",
      "19/19 - 0s - loss: 0.0387 - accuracy: 0.9950 - val_loss: 0.2800 - val_accuracy: 0.9242\n",
      "Epoch 70/150\n",
      "19/19 - 0s - loss: 0.0375 - accuracy: 0.9967 - val_loss: 0.2544 - val_accuracy: 0.9308\n",
      "Epoch 71/150\n",
      "19/19 - 0s - loss: 0.0358 - accuracy: 0.9967 - val_loss: 0.2679 - val_accuracy: 0.9270\n",
      "Epoch 72/150\n",
      "19/19 - 0s - loss: 0.0319 - accuracy: 0.9967 - val_loss: 0.2801 - val_accuracy: 0.9232\n",
      "Epoch 73/150\n",
      "19/19 - 0s - loss: 0.0291 - accuracy: 0.9983 - val_loss: 0.2841 - val_accuracy: 0.9234\n",
      "Epoch 74/150\n",
      "19/19 - 0s - loss: 0.0316 - accuracy: 0.9967 - val_loss: 0.2722 - val_accuracy: 0.9262\n",
      "Epoch 75/150\n",
      "19/19 - 0s - loss: 0.0284 - accuracy: 0.9950 - val_loss: 0.2693 - val_accuracy: 0.9300\n",
      "Epoch 76/150\n",
      "19/19 - 0s - loss: 0.0260 - accuracy: 0.9983 - val_loss: 0.2953 - val_accuracy: 0.9238\n",
      "Epoch 77/150\n",
      "19/19 - 0s - loss: 0.0225 - accuracy: 0.9983 - val_loss: 0.2696 - val_accuracy: 0.9308\n",
      "Epoch 78/150\n",
      "19/19 - 0s - loss: 0.0239 - accuracy: 0.9983 - val_loss: 0.2716 - val_accuracy: 0.9326\n",
      "Epoch 79/150\n",
      "19/19 - 0s - loss: 0.0193 - accuracy: 1.0000 - val_loss: 0.2703 - val_accuracy: 0.9304\n",
      "Epoch 80/150\n",
      "19/19 - 0s - loss: 0.0184 - accuracy: 0.9983 - val_loss: 0.2701 - val_accuracy: 0.9310\n",
      "Epoch 81/150\n",
      "19/19 - 0s - loss: 0.0176 - accuracy: 1.0000 - val_loss: 0.3017 - val_accuracy: 0.9268\n",
      "Epoch 82/150\n",
      "19/19 - 0s - loss: 0.0178 - accuracy: 1.0000 - val_loss: 0.2806 - val_accuracy: 0.9290\n",
      "Epoch 83/150\n"
     ]
    },
    {
     "name": "stdout",
     "output_type": "stream",
     "text": [
      "19/19 - 0s - loss: 0.0164 - accuracy: 0.9983 - val_loss: 0.2885 - val_accuracy: 0.9282\n",
      "Epoch 84/150\n",
      "19/19 - 0s - loss: 0.0134 - accuracy: 1.0000 - val_loss: 0.2969 - val_accuracy: 0.9266\n",
      "Epoch 85/150\n",
      "19/19 - 0s - loss: 0.0138 - accuracy: 0.9983 - val_loss: 0.2717 - val_accuracy: 0.9332\n",
      "Epoch 86/150\n",
      "19/19 - 0s - loss: 0.0129 - accuracy: 1.0000 - val_loss: 0.2848 - val_accuracy: 0.9312\n",
      "Epoch 87/150\n",
      "19/19 - 0s - loss: 0.0125 - accuracy: 1.0000 - val_loss: 0.2969 - val_accuracy: 0.9256\n",
      "Epoch 88/150\n",
      "19/19 - 0s - loss: 0.0118 - accuracy: 1.0000 - val_loss: 0.2735 - val_accuracy: 0.9326\n",
      "Epoch 89/150\n",
      "19/19 - 0s - loss: 0.0110 - accuracy: 1.0000 - val_loss: 0.2941 - val_accuracy: 0.9296\n",
      "Epoch 90/150\n",
      "19/19 - 0s - loss: 0.0092 - accuracy: 1.0000 - val_loss: 0.2876 - val_accuracy: 0.9298\n",
      "Epoch 91/150\n",
      "19/19 - 0s - loss: 0.0091 - accuracy: 1.0000 - val_loss: 0.3394 - val_accuracy: 0.9200\n",
      "Epoch 92/150\n",
      "19/19 - 0s - loss: 0.0095 - accuracy: 1.0000 - val_loss: 0.3017 - val_accuracy: 0.9316\n",
      "Epoch 93/150\n",
      "19/19 - 0s - loss: 0.0072 - accuracy: 1.0000 - val_loss: 0.2976 - val_accuracy: 0.9290\n",
      "Epoch 94/150\n",
      "19/19 - 0s - loss: 0.0078 - accuracy: 1.0000 - val_loss: 0.2902 - val_accuracy: 0.9324\n",
      "Epoch 95/150\n",
      "19/19 - 0s - loss: 0.0077 - accuracy: 1.0000 - val_loss: 0.3090 - val_accuracy: 0.9312\n",
      "Epoch 96/150\n",
      "19/19 - 0s - loss: 0.0064 - accuracy: 1.0000 - val_loss: 0.2994 - val_accuracy: 0.9300\n",
      "Epoch 97/150\n",
      "19/19 - 0s - loss: 0.0054 - accuracy: 1.0000 - val_loss: 0.3045 - val_accuracy: 0.9282\n",
      "Epoch 98/150\n",
      "19/19 - 0s - loss: 0.0060 - accuracy: 1.0000 - val_loss: 0.2959 - val_accuracy: 0.9352\n",
      "Epoch 99/150\n",
      "19/19 - 0s - loss: 0.0062 - accuracy: 1.0000 - val_loss: 0.3117 - val_accuracy: 0.9312\n",
      "Epoch 100/150\n",
      "19/19 - 0s - loss: 0.0037 - accuracy: 1.0000 - val_loss: 0.3130 - val_accuracy: 0.9314\n",
      "Epoch 101/150\n",
      "19/19 - 0s - loss: 0.0049 - accuracy: 1.0000 - val_loss: 0.3262 - val_accuracy: 0.9246\n",
      "Epoch 102/150\n",
      "19/19 - 0s - loss: 0.0043 - accuracy: 1.0000 - val_loss: 0.2973 - val_accuracy: 0.9346\n",
      "Epoch 103/150\n",
      "19/19 - 0s - loss: 0.0042 - accuracy: 1.0000 - val_loss: 0.3379 - val_accuracy: 0.9298\n",
      "Epoch 104/150\n",
      "19/19 - 0s - loss: 0.0033 - accuracy: 1.0000 - val_loss: 0.3120 - val_accuracy: 0.9326\n",
      "Epoch 105/150\n",
      "19/19 - 0s - loss: 0.0041 - accuracy: 1.0000 - val_loss: 0.3180 - val_accuracy: 0.9346\n",
      "Epoch 106/150\n",
      "19/19 - 0s - loss: 0.0047 - accuracy: 1.0000 - val_loss: 0.3120 - val_accuracy: 0.9336\n",
      "Epoch 107/150\n",
      "19/19 - 0s - loss: 0.0022 - accuracy: 1.0000 - val_loss: 0.3103 - val_accuracy: 0.9354\n",
      "Epoch 108/150\n",
      "19/19 - 0s - loss: 0.0027 - accuracy: 1.0000 - val_loss: 0.3797 - val_accuracy: 0.9202\n",
      "Epoch 109/150\n",
      "19/19 - 0s - loss: 0.0027 - accuracy: 1.0000 - val_loss: 0.3378 - val_accuracy: 0.9318\n",
      "Epoch 110/150\n",
      "19/19 - 0s - loss: 0.0023 - accuracy: 1.0000 - val_loss: 0.3220 - val_accuracy: 0.9346\n",
      "Epoch 111/150\n",
      "19/19 - 0s - loss: 0.0036 - accuracy: 1.0000 - val_loss: 0.3425 - val_accuracy: 0.9332\n",
      "Epoch 112/150\n",
      "19/19 - 0s - loss: 0.0017 - accuracy: 1.0000 - val_loss: 0.3417 - val_accuracy: 0.9316\n",
      "Epoch 113/150\n",
      "19/19 - 0s - loss: 0.0017 - accuracy: 1.0000 - val_loss: 0.3766 - val_accuracy: 0.9240\n",
      "Epoch 114/150\n",
      "19/19 - 0s - loss: 0.0018 - accuracy: 1.0000 - val_loss: 0.3502 - val_accuracy: 0.9314\n",
      "Epoch 115/150\n",
      "19/19 - 0s - loss: 0.0017 - accuracy: 1.0000 - val_loss: 0.3647 - val_accuracy: 0.9276\n",
      "Epoch 116/150\n",
      "19/19 - 0s - loss: 0.0018 - accuracy: 1.0000 - val_loss: 0.3289 - val_accuracy: 0.9336\n",
      "Epoch 117/150\n",
      "19/19 - 0s - loss: 0.0014 - accuracy: 1.0000 - val_loss: 0.3344 - val_accuracy: 0.9344\n",
      "Epoch 118/150\n",
      "19/19 - 0s - loss: 0.0017 - accuracy: 1.0000 - val_loss: 0.3519 - val_accuracy: 0.9336\n",
      "Epoch 119/150\n",
      "19/19 - 0s - loss: 9.3759e-04 - accuracy: 1.0000 - val_loss: 0.3522 - val_accuracy: 0.9332\n",
      "Epoch 120/150\n",
      "19/19 - 0s - loss: 0.0012 - accuracy: 1.0000 - val_loss: 0.3603 - val_accuracy: 0.9310\n",
      "Epoch 121/150\n",
      "19/19 - 0s - loss: 0.0010 - accuracy: 1.0000 - val_loss: 0.3543 - val_accuracy: 0.9360\n",
      "Epoch 122/150\n",
      "19/19 - 0s - loss: 0.0011 - accuracy: 1.0000 - val_loss: 0.3656 - val_accuracy: 0.9314\n",
      "Epoch 123/150\n",
      "19/19 - 0s - loss: 0.0012 - accuracy: 1.0000 - val_loss: 0.3554 - val_accuracy: 0.9334\n",
      "Epoch 124/150\n",
      "19/19 - 0s - loss: 7.4775e-04 - accuracy: 1.0000 - val_loss: 0.3739 - val_accuracy: 0.9320\n",
      "Epoch 125/150\n",
      "19/19 - 0s - loss: 6.1099e-04 - accuracy: 1.0000 - val_loss: 0.3649 - val_accuracy: 0.9340\n",
      "Epoch 126/150\n",
      "19/19 - 0s - loss: 8.7916e-04 - accuracy: 1.0000 - val_loss: 0.3768 - val_accuracy: 0.9330\n",
      "Epoch 127/150\n",
      "19/19 - 0s - loss: 4.5641e-04 - accuracy: 1.0000 - val_loss: 0.4141 - val_accuracy: 0.9252\n",
      "Epoch 128/150\n",
      "19/19 - 0s - loss: 7.2508e-04 - accuracy: 1.0000 - val_loss: 0.3776 - val_accuracy: 0.9318\n",
      "Epoch 129/150\n",
      "19/19 - 0s - loss: 4.7156e-04 - accuracy: 1.0000 - val_loss: 0.3975 - val_accuracy: 0.9294\n",
      "Epoch 130/150\n",
      "19/19 - 0s - loss: 5.9062e-04 - accuracy: 1.0000 - val_loss: 0.4022 - val_accuracy: 0.9306\n",
      "Epoch 131/150\n",
      "19/19 - 0s - loss: 3.6585e-04 - accuracy: 1.0000 - val_loss: 0.3865 - val_accuracy: 0.9340\n",
      "Epoch 132/150\n",
      "19/19 - 0s - loss: 8.5522e-04 - accuracy: 1.0000 - val_loss: 0.3978 - val_accuracy: 0.9292\n",
      "Epoch 133/150\n",
      "19/19 - 0s - loss: 3.0665e-04 - accuracy: 1.0000 - val_loss: 0.3778 - val_accuracy: 0.9352\n",
      "Epoch 134/150\n",
      "19/19 - 0s - loss: 5.0215e-04 - accuracy: 1.0000 - val_loss: 0.4077 - val_accuracy: 0.9308\n",
      "Epoch 135/150\n",
      "19/19 - 0s - loss: 7.7244e-04 - accuracy: 1.0000 - val_loss: 0.3872 - val_accuracy: 0.9336\n",
      "Epoch 136/150\n",
      "19/19 - 0s - loss: 3.7466e-04 - accuracy: 1.0000 - val_loss: 0.3865 - val_accuracy: 0.9348\n",
      "Epoch 137/150\n",
      "19/19 - 0s - loss: 3.2478e-04 - accuracy: 1.0000 - val_loss: 0.4636 - val_accuracy: 0.9232\n",
      "Epoch 138/150\n",
      "19/19 - 0s - loss: 3.0760e-04 - accuracy: 1.0000 - val_loss: 0.4097 - val_accuracy: 0.9326\n",
      "Epoch 139/150\n",
      "19/19 - 0s - loss: 3.8249e-04 - accuracy: 1.0000 - val_loss: 0.3969 - val_accuracy: 0.9360\n",
      "Epoch 140/150\n",
      "19/19 - 0s - loss: 1.9953e-04 - accuracy: 1.0000 - val_loss: 0.4173 - val_accuracy: 0.9284\n",
      "Epoch 141/150\n",
      "19/19 - 0s - loss: 3.5429e-04 - accuracy: 1.0000 - val_loss: 0.3939 - val_accuracy: 0.9354\n",
      "Epoch 142/150\n",
      "19/19 - 0s - loss: 2.1872e-04 - accuracy: 1.0000 - val_loss: 0.4078 - val_accuracy: 0.9332\n",
      "Epoch 143/150\n",
      "19/19 - 0s - loss: 2.3909e-04 - accuracy: 1.0000 - val_loss: 0.4336 - val_accuracy: 0.9306\n",
      "Epoch 144/150\n",
      "19/19 - 0s - loss: 2.2255e-04 - accuracy: 1.0000 - val_loss: 0.4174 - val_accuracy: 0.9318\n",
      "Epoch 145/150\n",
      "19/19 - 0s - loss: 3.4532e-04 - accuracy: 1.0000 - val_loss: 0.4542 - val_accuracy: 0.9318\n",
      "Epoch 146/150\n",
      "19/19 - 0s - loss: 2.3503e-04 - accuracy: 1.0000 - val_loss: 0.4223 - val_accuracy: 0.9332\n",
      "Epoch 147/150\n",
      "19/19 - 0s - loss: 9.9075e-05 - accuracy: 1.0000 - val_loss: 0.4226 - val_accuracy: 0.9332\n",
      "Epoch 148/150\n",
      "19/19 - 0s - loss: 2.2352e-04 - accuracy: 1.0000 - val_loss: 0.4744 - val_accuracy: 0.9222\n",
      "Epoch 149/150\n",
      "19/19 - 0s - loss: 1.3227e-04 - accuracy: 1.0000 - val_loss: 0.4389 - val_accuracy: 0.9310\n",
      "Epoch 150/150\n",
      "19/19 - 0s - loss: 1.2451e-04 - accuracy: 1.0000 - val_loss: 0.4358 - val_accuracy: 0.9350\n"
     ]
    }
   ],
   "source": [
    "history = cnnmodel.fit(x_train, y_train,\n",
    "                       batch_size=batch_size, \n",
    "                       epochs=3*epochs,\n",
    "                       verbose=2,\n",
    "                       validation_data=(x_test, y_test))"
   ]
  },
  {
   "cell_type": "code",
   "execution_count": 33,
   "metadata": {
    "scrolled": true,
    "slideshow": {
     "slide_type": "subslide"
    }
   },
   "outputs": [
    {
     "data": {
      "image/png": "[encoded data removed]",
      "text/plain": [
       "<Figure size 1080x360 with 2 Axes>"
      ]
     },
     "metadata": {
      "needs_background": "light"
     },
     "output_type": "display_data"
    }
   ],
   "source": [
    "histplot(history)"
   ]
  },
  {
   "cell_type": "markdown",
   "metadata": {
    "slideshow": {
     "slide_type": "subslide"
    }
   },
   "source": [
    "### Evaluate models"
   ]
  },
  {
   "cell_type": "code",
   "execution_count": 34,
   "metadata": {
    "slideshow": {
     "slide_type": "-"
    }
   },
   "outputs": [
    {
     "name": "stdout",
     "output_type": "stream",
     "text": [
      "FC:   loss: 0.925,  accuracy: 0.860\n",
      "CNN:  loss: 0.414,  accuracy: 0.932\n"
     ]
    }
   ],
   "source": [
    "x_val_1d = process_data(x_val)\n",
    "x_val_2d = x_val_1d.reshape(-1, 28, 28, 1)\n",
    "fcscore = fcmodel.evaluate(x_val_1d, y_val, verbose=0)\n",
    "cnnscore = cnnmodel.evaluate(x_val_2d, y_val, verbose=0)\n",
    "print('FC:   loss: {:.3f},  accuracy: {:.3f}'.format(*fcscore))\n",
    "print('CNN:  loss: {:.3f},  accuracy: {:.3f}'.format(*cnnscore))"
   ]
  },
  {
   "cell_type": "markdown",
   "metadata": {
    "slideshow": {
     "slide_type": "slide"
    }
   },
   "source": [
    "## Online data augmentation"
   ]
  },
  {
   "cell_type": "code",
   "execution_count": 35,
   "metadata": {
    "slideshow": {
     "slide_type": "fragment"
    }
   },
   "outputs": [],
   "source": [
    "from tensorflow.keras.preprocessing.image import ImageDataGenerator\n",
    "\n",
    "datagen = ImageDataGenerator(\n",
    "    rotation_range=10,\n",
    "    width_shift_range=0.05,\n",
    "    height_shift_range=0.05,\n",
    "    shear_range=20.0,\n",
    "    zoom_range=0.05)\n",
    "\n",
    "#datagen.fit(x_train)  # only required if normalizing"
   ]
  },
  {
   "cell_type": "code",
   "execution_count": 36,
   "metadata": {
    "slideshow": {
     "slide_type": "subslide"
    }
   },
   "outputs": [],
   "source": [
    "gen = datagen.flow(x_train, y_train, batch_size=1)"
   ]
  },
  {
   "cell_type": "code",
   "execution_count": 37,
   "metadata": {
    "slideshow": {
     "slide_type": "fragment"
    }
   },
   "outputs": [
    {
     "name": "stdout",
     "output_type": "stream",
     "text": [
      "label = 1\n"
     ]
    },
    {
     "data": {
      "image/png": "[encoded data removed]",
      "text/plain": [
       "<Figure size 432x288 with 5 Axes>"
      ]
     },
     "metadata": {
      "needs_background": "light"
     },
     "output_type": "display_data"
    }
   ],
   "source": [
    "# run this several times to see more augmented examples\n",
    "i = 1\n",
    "fig, axarr = plt.subplots(1, 5)\n",
    "for ax in axarr:\n",
    "    img = gen[i][0][0, : , :, 0]\n",
    "    ax.imshow(img, cmap='gray');\n",
    "    ax.axis('off')\n",
    "print('label =', gen[i][1][0].argmax())"
   ]
  },
  {
   "cell_type": "code",
   "execution_count": 38,
   "metadata": {
    "slideshow": {
     "slide_type": "subslide"
    }
   },
   "outputs": [
    {
     "data": {
      "text/plain": [
       "<tensorflow.python.training.tracking.util.CheckpointLoadStatus at 0x7ff285ad3250>"
      ]
     },
     "execution_count": 38,
     "metadata": {},
     "output_type": "execute_result"
    }
   ],
   "source": [
    "# Reinitialise model\n",
    "cnnmodel.load_weights('/tmp/cnnmodel_init_weights.tf')"
   ]
  },
  {
   "cell_type": "code",
   "execution_count": 39,
   "metadata": {
    "slideshow": {
     "slide_type": "fragment"
    }
   },
   "outputs": [],
   "source": [
    "cnnmodel.compile(loss='categorical_crossentropy',\n",
    "                 optimizer=RMSprop(),\n",
    "                 metrics=['accuracy'])"
   ]
  },
  {
   "cell_type": "code",
   "execution_count": 40,
   "metadata": {
    "scrolled": true,
    "slideshow": {
     "slide_type": "subslide"
    }
   },
   "outputs": [
    {
     "name": "stdout",
     "output_type": "stream",
     "text": [
      "WARNING:tensorflow:From <ipython-input-40-41f51a0e9c26>:3: Model.fit_generator (from tensorflow.python.keras.engine.training) is deprecated and will be removed in a future version.\n",
      "Instructions for updating:\n",
      "Please use Model.fit, which supports generators.\n",
      "Epoch 1/150\n",
      "19/19 - 1s - loss: 2.2978 - accuracy: 0.1200 - val_loss: 2.2515 - val_accuracy: 0.1588\n",
      "Epoch 2/150\n",
      "19/19 - 0s - loss: 2.2157 - accuracy: 0.2283 - val_loss: 2.1554 - val_accuracy: 0.3622\n",
      "Epoch 3/150\n",
      "19/19 - 0s - loss: 2.1267 - accuracy: 0.3667 - val_loss: 2.0114 - val_accuracy: 0.4982\n",
      "Epoch 4/150\n",
      "19/19 - 0s - loss: 1.9843 - accuracy: 0.4917 - val_loss: 1.8202 - val_accuracy: 0.5432\n",
      "Epoch 5/150\n",
      "19/19 - 0s - loss: 1.8208 - accuracy: 0.5267 - val_loss: 1.5875 - val_accuracy: 0.6326\n",
      "Epoch 6/150\n",
      "19/19 - 0s - loss: 1.6046 - accuracy: 0.6033 - val_loss: 1.3597 - val_accuracy: 0.6770\n",
      "Epoch 7/150\n",
      "19/19 - 0s - loss: 1.4206 - accuracy: 0.6350 - val_loss: 1.1560 - val_accuracy: 0.7262\n",
      "Epoch 8/150\n",
      "19/19 - 0s - loss: 1.2586 - accuracy: 0.6517 - val_loss: 0.9908 - val_accuracy: 0.7534\n",
      "Epoch 9/150\n",
      "19/19 - 0s - loss: 1.1204 - accuracy: 0.6817 - val_loss: 0.8685 - val_accuracy: 0.7642\n",
      "Epoch 10/150\n",
      "19/19 - 0s - loss: 1.0355 - accuracy: 0.6917 - val_loss: 0.7882 - val_accuracy: 0.7738\n",
      "Epoch 11/150\n",
      "19/19 - 0s - loss: 0.9563 - accuracy: 0.7200 - val_loss: 0.7119 - val_accuracy: 0.7944\n",
      "Epoch 12/150\n",
      "19/19 - 0s - loss: 0.9525 - accuracy: 0.6850 - val_loss: 0.7008 - val_accuracy: 0.7822\n",
      "Epoch 13/150\n",
      "19/19 - 0s - loss: 0.8994 - accuracy: 0.7200 - val_loss: 0.6213 - val_accuracy: 0.8226\n",
      "Epoch 14/150\n",
      "19/19 - 0s - loss: 0.8809 - accuracy: 0.7300 - val_loss: 0.5973 - val_accuracy: 0.8184\n",
      "Epoch 15/150\n",
      "19/19 - 0s - loss: 0.8130 - accuracy: 0.7400 - val_loss: 0.5719 - val_accuracy: 0.8248\n",
      "Epoch 16/150\n",
      "19/19 - 0s - loss: 0.7911 - accuracy: 0.7500 - val_loss: 0.5639 - val_accuracy: 0.8184\n",
      "Epoch 17/150\n",
      "19/19 - 0s - loss: 0.7397 - accuracy: 0.7583 - val_loss: 0.5287 - val_accuracy: 0.8472\n",
      "Epoch 18/150\n",
      "19/19 - 0s - loss: 0.7606 - accuracy: 0.7617 - val_loss: 0.5057 - val_accuracy: 0.8412\n",
      "Epoch 19/150\n",
      "19/19 - 0s - loss: 0.7217 - accuracy: 0.7733 - val_loss: 0.4672 - val_accuracy: 0.8610\n",
      "Epoch 20/150\n",
      "19/19 - 0s - loss: 0.6665 - accuracy: 0.7933 - val_loss: 0.4543 - val_accuracy: 0.8662\n",
      "Epoch 21/150\n",
      "19/19 - 0s - loss: 0.6647 - accuracy: 0.7917 - val_loss: 0.4308 - val_accuracy: 0.8710\n",
      "Epoch 22/150\n",
      "19/19 - 0s - loss: 0.6587 - accuracy: 0.7850 - val_loss: 0.4350 - val_accuracy: 0.8700\n",
      "Epoch 23/150\n",
      "19/19 - 0s - loss: 0.6020 - accuracy: 0.8050 - val_loss: 0.4356 - val_accuracy: 0.8708\n",
      "Epoch 24/150\n",
      "19/19 - 0s - loss: 0.6075 - accuracy: 0.8067 - val_loss: 0.4135 - val_accuracy: 0.8782\n",
      "Epoch 25/150\n",
      "19/19 - 0s - loss: 0.5653 - accuracy: 0.8183 - val_loss: 0.3904 - val_accuracy: 0.8840\n",
      "Epoch 26/150\n",
      "19/19 - 0s - loss: 0.5249 - accuracy: 0.8233 - val_loss: 0.4266 - val_accuracy: 0.8648\n",
      "Epoch 27/150\n",
      "19/19 - 0s - loss: 0.5718 - accuracy: 0.8200 - val_loss: 0.3617 - val_accuracy: 0.8986\n",
      "Epoch 28/150\n",
      "19/19 - 0s - loss: 0.5736 - accuracy: 0.8200 - val_loss: 0.3634 - val_accuracy: 0.8916\n",
      "Epoch 29/150\n",
      "19/19 - 0s - loss: 0.5131 - accuracy: 0.8333 - val_loss: 0.3569 - val_accuracy: 0.8906\n",
      "Epoch 30/150\n",
      "19/19 - 0s - loss: 0.5141 - accuracy: 0.8267 - val_loss: 0.3453 - val_accuracy: 0.8954\n",
      "Epoch 31/150\n",
      "19/19 - 0s - loss: 0.5131 - accuracy: 0.8567 - val_loss: 0.3464 - val_accuracy: 0.8908\n",
      "Epoch 32/150\n",
      "19/19 - 0s - loss: 0.4939 - accuracy: 0.8483 - val_loss: 0.3251 - val_accuracy: 0.9026\n",
      "Epoch 33/150\n",
      "19/19 - 0s - loss: 0.4856 - accuracy: 0.8450 - val_loss: 0.3208 - val_accuracy: 0.8994\n",
      "Epoch 34/150\n",
      "19/19 - 0s - loss: 0.4958 - accuracy: 0.8350 - val_loss: 0.3184 - val_accuracy: 0.9044\n",
      "Epoch 35/150\n",
      "19/19 - 0s - loss: 0.4867 - accuracy: 0.8650 - val_loss: 0.3189 - val_accuracy: 0.8974\n",
      "Epoch 36/150\n",
      "19/19 - 0s - loss: 0.4605 - accuracy: 0.8450 - val_loss: 0.3164 - val_accuracy: 0.8964\n",
      "Epoch 37/150\n",
      "19/19 - 0s - loss: 0.4364 - accuracy: 0.8517 - val_loss: 0.2991 - val_accuracy: 0.9112\n",
      "Epoch 38/150\n",
      "19/19 - 0s - loss: 0.4652 - accuracy: 0.8617 - val_loss: 0.2857 - val_accuracy: 0.9168\n",
      "Epoch 39/150\n",
      "19/19 - 0s - loss: 0.4610 - accuracy: 0.8583 - val_loss: 0.2849 - val_accuracy: 0.9168\n",
      "Epoch 40/150\n",
      "19/19 - 0s - loss: 0.3892 - accuracy: 0.8717 - val_loss: 0.2841 - val_accuracy: 0.9128\n",
      "Epoch 41/150\n",
      "19/19 - 0s - loss: 0.4179 - accuracy: 0.8767 - val_loss: 0.2748 - val_accuracy: 0.9166\n",
      "Epoch 42/150\n",
      "19/19 - 0s - loss: 0.4399 - accuracy: 0.8900 - val_loss: 0.2766 - val_accuracy: 0.9160\n",
      "Epoch 43/150\n",
      "19/19 - 0s - loss: 0.3897 - accuracy: 0.8750 - val_loss: 0.2935 - val_accuracy: 0.9044\n",
      "Epoch 44/150\n",
      "19/19 - 0s - loss: 0.4114 - accuracy: 0.8667 - val_loss: 0.2815 - val_accuracy: 0.9064\n",
      "Epoch 45/150\n",
      "19/19 - 0s - loss: 0.3666 - accuracy: 0.8917 - val_loss: 0.2669 - val_accuracy: 0.9188\n",
      "Epoch 46/150\n",
      "19/19 - 0s - loss: 0.3857 - accuracy: 0.8717 - val_loss: 0.2609 - val_accuracy: 0.9168\n",
      "Epoch 47/150\n",
      "19/19 - 0s - loss: 0.3895 - accuracy: 0.8833 - val_loss: 0.2491 - val_accuracy: 0.9206\n",
      "Epoch 48/150\n",
      "19/19 - 0s - loss: 0.4000 - accuracy: 0.8600 - val_loss: 0.2375 - val_accuracy: 0.9290\n",
      "Epoch 49/150\n",
      "19/19 - 0s - loss: 0.3859 - accuracy: 0.8900 - val_loss: 0.2414 - val_accuracy: 0.9240\n",
      "Epoch 50/150\n",
      "19/19 - 0s - loss: 0.3593 - accuracy: 0.9033 - val_loss: 0.2537 - val_accuracy: 0.9240\n",
      "Epoch 51/150\n",
      "19/19 - 0s - loss: 0.3399 - accuracy: 0.8900 - val_loss: 0.2536 - val_accuracy: 0.9192\n",
      "Epoch 52/150\n",
      "19/19 - 0s - loss: 0.3679 - accuracy: 0.8817 - val_loss: 0.2428 - val_accuracy: 0.9242\n",
      "Epoch 53/150\n",
      "19/19 - 0s - loss: 0.3435 - accuracy: 0.8900 - val_loss: 0.2362 - val_accuracy: 0.9288\n",
      "Epoch 54/150\n",
      "19/19 - 0s - loss: 0.3364 - accuracy: 0.8883 - val_loss: 0.2362 - val_accuracy: 0.9258\n",
      "Epoch 55/150\n",
      "19/19 - 0s - loss: 0.3385 - accuracy: 0.8733 - val_loss: 0.2350 - val_accuracy: 0.9264\n",
      "Epoch 56/150\n",
      "19/19 - 0s - loss: 0.3321 - accuracy: 0.9033 - val_loss: 0.2188 - val_accuracy: 0.9322\n",
      "Epoch 57/150\n",
      "19/19 - 0s - loss: 0.3270 - accuracy: 0.9033 - val_loss: 0.2215 - val_accuracy: 0.9330\n",
      "Epoch 58/150\n",
      "19/19 - 0s - loss: 0.3073 - accuracy: 0.9050 - val_loss: 0.2101 - val_accuracy: 0.9384\n",
      "Epoch 59/150\n",
      "19/19 - 0s - loss: 0.3088 - accuracy: 0.8967 - val_loss: 0.2078 - val_accuracy: 0.9360\n",
      "Epoch 60/150\n",
      "19/19 - 0s - loss: 0.3342 - accuracy: 0.8933 - val_loss: 0.2373 - val_accuracy: 0.9246\n",
      "Epoch 61/150\n",
      "19/19 - 0s - loss: 0.3182 - accuracy: 0.9117 - val_loss: 0.2038 - val_accuracy: 0.9382\n",
      "Epoch 62/150\n",
      "19/19 - 0s - loss: 0.2953 - accuracy: 0.8983 - val_loss: 0.2310 - val_accuracy: 0.9240\n",
      "Epoch 63/150\n",
      "19/19 - 0s - loss: 0.2901 - accuracy: 0.8967 - val_loss: 0.2159 - val_accuracy: 0.9302\n",
      "Epoch 64/150\n",
      "19/19 - 0s - loss: 0.3231 - accuracy: 0.8850 - val_loss: 0.2039 - val_accuracy: 0.9372\n",
      "Epoch 65/150\n",
      "19/19 - 0s - loss: 0.2887 - accuracy: 0.8983 - val_loss: 0.2093 - val_accuracy: 0.9336\n",
      "Epoch 66/150\n",
      "19/19 - 0s - loss: 0.2519 - accuracy: 0.9300 - val_loss: 0.2027 - val_accuracy: 0.9338\n",
      "Epoch 67/150\n",
      "19/19 - 0s - loss: 0.2929 - accuracy: 0.9133 - val_loss: 0.2071 - val_accuracy: 0.9348\n",
      "Epoch 68/150\n",
      "19/19 - 0s - loss: 0.2719 - accuracy: 0.9167 - val_loss: 0.2044 - val_accuracy: 0.9332\n",
      "Epoch 69/150\n",
      "19/19 - 0s - loss: 0.3027 - accuracy: 0.8933 - val_loss: 0.1868 - val_accuracy: 0.9440\n",
      "Epoch 70/150\n",
      "19/19 - 0s - loss: 0.2984 - accuracy: 0.9117 - val_loss: 0.1987 - val_accuracy: 0.9354\n",
      "Epoch 71/150\n",
      "19/19 - 0s - loss: 0.2587 - accuracy: 0.9350 - val_loss: 0.2145 - val_accuracy: 0.9304\n",
      "Epoch 72/150\n",
      "19/19 - 0s - loss: 0.2810 - accuracy: 0.9033 - val_loss: 0.2026 - val_accuracy: 0.9368\n",
      "Epoch 73/150\n",
      "19/19 - 0s - loss: 0.2468 - accuracy: 0.9150 - val_loss: 0.1939 - val_accuracy: 0.9362\n",
      "Epoch 74/150\n",
      "19/19 - 0s - loss: 0.2111 - accuracy: 0.9267 - val_loss: 0.2067 - val_accuracy: 0.9340\n",
      "Epoch 75/150\n",
      "19/19 - 0s - loss: 0.2957 - accuracy: 0.9083 - val_loss: 0.1856 - val_accuracy: 0.9406\n",
      "Epoch 76/150\n",
      "19/19 - 0s - loss: 0.2626 - accuracy: 0.9133 - val_loss: 0.1734 - val_accuracy: 0.9468\n",
      "Epoch 77/150\n",
      "19/19 - 0s - loss: 0.2742 - accuracy: 0.9200 - val_loss: 0.1810 - val_accuracy: 0.9450\n",
      "Epoch 78/150\n",
      "19/19 - 0s - loss: 0.2446 - accuracy: 0.9350 - val_loss: 0.1852 - val_accuracy: 0.9426\n",
      "Epoch 79/150\n",
      "19/19 - 0s - loss: 0.2634 - accuracy: 0.9300 - val_loss: 0.1944 - val_accuracy: 0.9374\n",
      "Epoch 80/150\n",
      "19/19 - 0s - loss: 0.2664 - accuracy: 0.9283 - val_loss: 0.1829 - val_accuracy: 0.9402\n"
     ]
    },
    {
     "name": "stdout",
     "output_type": "stream",
     "text": [
      "Epoch 81/150\n",
      "19/19 - 0s - loss: 0.2403 - accuracy: 0.9183 - val_loss: 0.1851 - val_accuracy: 0.9414\n",
      "Epoch 82/150\n",
      "19/19 - 0s - loss: 0.2709 - accuracy: 0.9150 - val_loss: 0.2097 - val_accuracy: 0.9324\n",
      "Epoch 83/150\n",
      "19/19 - 0s - loss: 0.2274 - accuracy: 0.9267 - val_loss: 0.1714 - val_accuracy: 0.9440\n",
      "Epoch 84/150\n",
      "19/19 - 0s - loss: 0.2490 - accuracy: 0.9367 - val_loss: 0.1863 - val_accuracy: 0.9410\n",
      "Epoch 85/150\n",
      "19/19 - 0s - loss: 0.2292 - accuracy: 0.9233 - val_loss: 0.1722 - val_accuracy: 0.9478\n",
      "Epoch 86/150\n",
      "19/19 - 0s - loss: 0.2328 - accuracy: 0.9183 - val_loss: 0.1749 - val_accuracy: 0.9424\n",
      "Epoch 87/150\n",
      "19/19 - 0s - loss: 0.1973 - accuracy: 0.9383 - val_loss: 0.1782 - val_accuracy: 0.9426\n",
      "Epoch 88/150\n",
      "19/19 - 0s - loss: 0.2531 - accuracy: 0.9167 - val_loss: 0.1714 - val_accuracy: 0.9458\n",
      "Epoch 89/150\n",
      "19/19 - 0s - loss: 0.2415 - accuracy: 0.9183 - val_loss: 0.1898 - val_accuracy: 0.9404\n",
      "Epoch 90/150\n",
      "19/19 - 0s - loss: 0.2530 - accuracy: 0.9267 - val_loss: 0.1846 - val_accuracy: 0.9420\n",
      "Epoch 91/150\n",
      "19/19 - 0s - loss: 0.2058 - accuracy: 0.9383 - val_loss: 0.1687 - val_accuracy: 0.9462\n",
      "Epoch 92/150\n",
      "19/19 - 0s - loss: 0.2140 - accuracy: 0.9300 - val_loss: 0.2002 - val_accuracy: 0.9348\n",
      "Epoch 93/150\n",
      "19/19 - 0s - loss: 0.2479 - accuracy: 0.9233 - val_loss: 0.1834 - val_accuracy: 0.9412\n",
      "Epoch 94/150\n",
      "19/19 - 0s - loss: 0.1840 - accuracy: 0.9400 - val_loss: 0.1862 - val_accuracy: 0.9390\n",
      "Epoch 95/150\n",
      "19/19 - 0s - loss: 0.2231 - accuracy: 0.9300 - val_loss: 0.1723 - val_accuracy: 0.9448\n",
      "Epoch 96/150\n",
      "19/19 - 0s - loss: 0.2115 - accuracy: 0.9383 - val_loss: 0.1712 - val_accuracy: 0.9444\n",
      "Epoch 97/150\n",
      "19/19 - 0s - loss: 0.2263 - accuracy: 0.9133 - val_loss: 0.1631 - val_accuracy: 0.9484\n",
      "Epoch 98/150\n",
      "19/19 - 0s - loss: 0.2207 - accuracy: 0.9300 - val_loss: 0.1779 - val_accuracy: 0.9438\n",
      "Epoch 99/150\n",
      "19/19 - 0s - loss: 0.2311 - accuracy: 0.9300 - val_loss: 0.1721 - val_accuracy: 0.9442\n",
      "Epoch 100/150\n",
      "19/19 - 0s - loss: 0.1877 - accuracy: 0.9483 - val_loss: 0.1592 - val_accuracy: 0.9486\n",
      "Epoch 101/150\n",
      "19/19 - 0s - loss: 0.1932 - accuracy: 0.9283 - val_loss: 0.1600 - val_accuracy: 0.9488\n",
      "Epoch 102/150\n",
      "19/19 - 0s - loss: 0.1954 - accuracy: 0.9317 - val_loss: 0.1657 - val_accuracy: 0.9474\n",
      "Epoch 103/150\n",
      "19/19 - 0s - loss: 0.1939 - accuracy: 0.9367 - val_loss: 0.2129 - val_accuracy: 0.9306\n",
      "Epoch 104/150\n",
      "19/19 - 0s - loss: 0.1892 - accuracy: 0.9317 - val_loss: 0.1704 - val_accuracy: 0.9434\n",
      "Epoch 105/150\n",
      "19/19 - 0s - loss: 0.2051 - accuracy: 0.9283 - val_loss: 0.1866 - val_accuracy: 0.9400\n",
      "Epoch 106/150\n",
      "19/19 - 0s - loss: 0.1831 - accuracy: 0.9400 - val_loss: 0.1732 - val_accuracy: 0.9460\n",
      "Epoch 107/150\n",
      "19/19 - 0s - loss: 0.2086 - accuracy: 0.9350 - val_loss: 0.1659 - val_accuracy: 0.9474\n",
      "Epoch 108/150\n",
      "19/19 - 0s - loss: 0.1592 - accuracy: 0.9483 - val_loss: 0.1727 - val_accuracy: 0.9438\n",
      "Epoch 109/150\n",
      "19/19 - 0s - loss: 0.1947 - accuracy: 0.9317 - val_loss: 0.1597 - val_accuracy: 0.9498\n",
      "Epoch 110/150\n",
      "19/19 - 0s - loss: 0.2044 - accuracy: 0.9333 - val_loss: 0.1617 - val_accuracy: 0.9468\n",
      "Epoch 111/150\n",
      "19/19 - 0s - loss: 0.2149 - accuracy: 0.9417 - val_loss: 0.1793 - val_accuracy: 0.9426\n",
      "Epoch 112/150\n",
      "19/19 - 0s - loss: 0.1710 - accuracy: 0.9450 - val_loss: 0.1839 - val_accuracy: 0.9406\n",
      "Epoch 113/150\n",
      "19/19 - 0s - loss: 0.2042 - accuracy: 0.9450 - val_loss: 0.1720 - val_accuracy: 0.9434\n",
      "Epoch 114/150\n",
      "19/19 - 0s - loss: 0.1839 - accuracy: 0.9433 - val_loss: 0.1559 - val_accuracy: 0.9518\n",
      "Epoch 115/150\n",
      "19/19 - 0s - loss: 0.2334 - accuracy: 0.9250 - val_loss: 0.1779 - val_accuracy: 0.9444\n",
      "Epoch 116/150\n",
      "19/19 - 0s - loss: 0.2170 - accuracy: 0.9267 - val_loss: 0.1663 - val_accuracy: 0.9458\n",
      "Epoch 117/150\n",
      "19/19 - 0s - loss: 0.1592 - accuracy: 0.9567 - val_loss: 0.1599 - val_accuracy: 0.9490\n",
      "Epoch 118/150\n",
      "19/19 - 0s - loss: 0.1603 - accuracy: 0.9417 - val_loss: 0.1507 - val_accuracy: 0.9510\n",
      "Epoch 119/150\n",
      "19/19 - 0s - loss: 0.1645 - accuracy: 0.9483 - val_loss: 0.1558 - val_accuracy: 0.9500\n",
      "Epoch 120/150\n",
      "19/19 - 0s - loss: 0.1848 - accuracy: 0.9317 - val_loss: 0.1746 - val_accuracy: 0.9462\n",
      "Epoch 121/150\n",
      "19/19 - 0s - loss: 0.1750 - accuracy: 0.9300 - val_loss: 0.1717 - val_accuracy: 0.9442\n",
      "Epoch 122/150\n",
      "19/19 - 0s - loss: 0.1685 - accuracy: 0.9317 - val_loss: 0.1651 - val_accuracy: 0.9462\n",
      "Epoch 123/150\n",
      "19/19 - 0s - loss: 0.1954 - accuracy: 0.9483 - val_loss: 0.1645 - val_accuracy: 0.9458\n",
      "Epoch 124/150\n",
      "19/19 - 0s - loss: 0.1777 - accuracy: 0.9400 - val_loss: 0.1717 - val_accuracy: 0.9466\n",
      "Epoch 125/150\n",
      "19/19 - 0s - loss: 0.1608 - accuracy: 0.9467 - val_loss: 0.1466 - val_accuracy: 0.9510\n",
      "Epoch 126/150\n",
      "19/19 - 0s - loss: 0.1272 - accuracy: 0.9567 - val_loss: 0.1702 - val_accuracy: 0.9454\n",
      "Epoch 127/150\n",
      "19/19 - 0s - loss: 0.2120 - accuracy: 0.9367 - val_loss: 0.1548 - val_accuracy: 0.9496\n",
      "Epoch 128/150\n",
      "19/19 - 0s - loss: 0.1850 - accuracy: 0.9417 - val_loss: 0.1928 - val_accuracy: 0.9394\n",
      "Epoch 129/150\n",
      "19/19 - 0s - loss: 0.1957 - accuracy: 0.9383 - val_loss: 0.1626 - val_accuracy: 0.9486\n",
      "Epoch 130/150\n",
      "19/19 - 0s - loss: 0.1657 - accuracy: 0.9383 - val_loss: 0.1445 - val_accuracy: 0.9550\n",
      "Epoch 131/150\n",
      "19/19 - 0s - loss: 0.1784 - accuracy: 0.9500 - val_loss: 0.1613 - val_accuracy: 0.9480\n",
      "Epoch 132/150\n",
      "19/19 - 0s - loss: 0.1530 - accuracy: 0.9417 - val_loss: 0.1515 - val_accuracy: 0.9502\n",
      "Epoch 133/150\n",
      "19/19 - 0s - loss: 0.1752 - accuracy: 0.9383 - val_loss: 0.1632 - val_accuracy: 0.9488\n",
      "Epoch 134/150\n",
      "19/19 - 0s - loss: 0.1615 - accuracy: 0.9583 - val_loss: 0.1874 - val_accuracy: 0.9392\n",
      "Epoch 135/150\n",
      "19/19 - 0s - loss: 0.1912 - accuracy: 0.9500 - val_loss: 0.1447 - val_accuracy: 0.9542\n",
      "Epoch 136/150\n",
      "19/19 - 0s - loss: 0.1571 - accuracy: 0.9550 - val_loss: 0.1550 - val_accuracy: 0.9512\n",
      "Epoch 137/150\n",
      "19/19 - 0s - loss: 0.1338 - accuracy: 0.9567 - val_loss: 0.1485 - val_accuracy: 0.9524\n",
      "Epoch 138/150\n",
      "19/19 - 0s - loss: 0.1795 - accuracy: 0.9367 - val_loss: 0.1642 - val_accuracy: 0.9454\n",
      "Epoch 139/150\n",
      "19/19 - 0s - loss: 0.1358 - accuracy: 0.9650 - val_loss: 0.1705 - val_accuracy: 0.9482\n",
      "Epoch 140/150\n",
      "19/19 - 0s - loss: 0.1930 - accuracy: 0.9367 - val_loss: 0.1377 - val_accuracy: 0.9554\n",
      "Epoch 141/150\n",
      "19/19 - 0s - loss: 0.1552 - accuracy: 0.9417 - val_loss: 0.1413 - val_accuracy: 0.9526\n",
      "Epoch 142/150\n",
      "19/19 - 0s - loss: 0.1553 - accuracy: 0.9467 - val_loss: 0.1428 - val_accuracy: 0.9532\n",
      "Epoch 143/150\n",
      "19/19 - 0s - loss: 0.1865 - accuracy: 0.9433 - val_loss: 0.1459 - val_accuracy: 0.9532\n",
      "Epoch 144/150\n",
      "19/19 - 0s - loss: 0.1201 - accuracy: 0.9600 - val_loss: 0.1616 - val_accuracy: 0.9502\n",
      "Epoch 145/150\n",
      "19/19 - 0s - loss: 0.1544 - accuracy: 0.9533 - val_loss: 0.1577 - val_accuracy: 0.9532\n",
      "Epoch 146/150\n",
      "19/19 - 0s - loss: 0.1538 - accuracy: 0.9350 - val_loss: 0.1612 - val_accuracy: 0.9502\n",
      "Epoch 147/150\n",
      "19/19 - 0s - loss: 0.1615 - accuracy: 0.9483 - val_loss: 0.1412 - val_accuracy: 0.9544\n",
      "Epoch 148/150\n",
      "19/19 - 0s - loss: 0.1275 - accuracy: 0.9600 - val_loss: 0.1449 - val_accuracy: 0.9526\n",
      "Epoch 149/150\n",
      "19/19 - 0s - loss: 0.1271 - accuracy: 0.9600 - val_loss: 0.1526 - val_accuracy: 0.9508\n",
      "Epoch 150/150\n",
      "19/19 - 0s - loss: 0.1409 - accuracy: 0.9550 - val_loss: 0.1646 - val_accuracy: 0.9494\n"
     ]
    }
   ],
   "source": [
    "# fits the model on batches with real-time data augmentation:\n",
    "# the accuracy continues to (slowly) rise, due to the augmentation\n",
    "history = cnnmodel.fit_generator(datagen.flow(x_train, y_train, batch_size=batch_size), \n",
    "                                 epochs=3*epochs,\n",
    "                                 verbose=2,\n",
    "                                 validation_data=(x_test, y_test))"
   ]
  },
  {
   "cell_type": "code",
   "execution_count": 41,
   "metadata": {
    "scrolled": true,
    "slideshow": {
     "slide_type": "subslide"
    }
   },
   "outputs": [
    {
     "data": {
      "image/png": "[encoded data removed]",
      "text/plain": [
       "<Figure size 1080x360 with 2 Axes>"
      ]
     },
     "metadata": {
      "needs_background": "light"
     },
     "output_type": "display_data"
    }
   ],
   "source": [
    "histplot(history)"
   ]
  },
  {
   "cell_type": "markdown",
   "metadata": {
    "slideshow": {
     "slide_type": "fragment"
    }
   },
   "source": [
    "Data augmentation reduced number of misclassifications by half."
   ]
  },
  {
   "cell_type": "markdown",
   "metadata": {
    "slideshow": {
     "slide_type": "slide"
    }
   },
   "source": [
    "### Any questions?"
   ]
  }
 ],
 "metadata": {
  "anaconda-cloud": {},
  "celltoolbar": "Slideshow",
  "hide_input": false,
  "kernelspec": {
   "display_name": "Python [conda env:course]",
   "language": "python",
   "name": "conda-env-course-py"
  },
  "language_info": {
   "codemirror_mode": {
    "name": "ipython",
    "version": 3
   },
   "file_extension": ".py",
   "mimetype": "text/x-python",
   "name": "python",
   "nbconvert_exporter": "python",
   "pygments_lexer": "ipython3",
   "version": "3.8.5"
  },
  "latex_envs": {
   "LaTeX_envs_menu_present": true,
   "autocomplete": true,
   "bibliofile": "biblio.bib",
   "cite_by": "apalike",
   "current_citInitial": 1,
   "eqLabelWithNumbers": true,
   "eqNumInitial": 1,
   "hotkeys": {
    "equation": "Ctrl-E",
    "itemize": "Ctrl-I"
   },
   "labels_anchors": false,
   "latex_user_defs": false,
   "report_style_numbering": false,
   "user_envs_cfg": false
  },
  "livereveal": {
   "scroll": true
  }
 },
 "nbformat": 4,
 "nbformat_minor": 2
}
