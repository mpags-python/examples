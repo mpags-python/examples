{
 "cells": [
  {
   "cell_type": "markdown",
   "metadata": {
    "slideshow": {
     "slide_type": "slide"
    }
   },
   "source": [
    "\n",
    "# Neural Networks in TensorFlow   \n",
    "  \n",
    "### Steven Bamford\n",
    "**University of Nottingham**\n",
    "\n",
    "This version for MLiS/MPAGS Python course, updated 15 November 2020.\n",
    "\n",
    "Originally delivered at the National Meeting of Data-Intensive Science CDTs, University of Edinburgh, 21 November 2018."
   ]
  },
  {
   "cell_type": "markdown",
   "metadata": {
    "slideshow": {
     "slide_type": "subslide"
    }
   },
   "source": [
    "### Setting up your environment\n",
    "\n",
    "You can create a suitable conda environment to run this notebook using:\n",
    "\n",
    "    conda create -n keras_demo python=3 tensorflow matplotlib ipykernel scikit-learn pandas\n",
    "    \n",
    "Use `tensorflow-gpu` if you have a suitable GPU. If you have a GPU but haven't got the latest cuda drivers installed, you may also need to specify `cudatoolkit=9.0` or similar.\n",
    "\n",
    "You may need to use `pip` to install the latest version of tensorflow and/or in an existing environment."
   ]
  },
  {
   "cell_type": "markdown",
   "metadata": {
    "slideshow": {
     "slide_type": "subslide"
    }
   },
   "source": [
    "### Some common imports and setup"
   ]
  },
  {
   "cell_type": "code",
   "execution_count": 1,
   "metadata": {
    "slideshow": {
     "slide_type": "-"
    }
   },
   "outputs": [],
   "source": [
    "%matplotlib inline\n",
    "from matplotlib import pyplot as plt\n",
    "import numpy as np\n",
    "import pandas as pd"
   ]
  },
  {
   "cell_type": "markdown",
   "metadata": {
    "slideshow": {
     "slide_type": "slide"
    }
   },
   "source": [
    "## Deep learning with neural networks"
   ]
  },
  {
   "cell_type": "markdown",
   "metadata": {
    "slideshow": {
     "slide_type": "subslide"
    }
   },
   "source": [
    "<img src=\"https://upload.wikimedia.org/wikipedia/commons/0/0a/Anatomy_of_a_Neuron_with_Synapse.png\" alt=\"Biological neuron\" width=\"75%\" />"
   ]
  },
  {
   "cell_type": "markdown",
   "metadata": {
    "slideshow": {
     "slide_type": "subslide"
    }
   },
   "source": [
    "<img src=\"https://upload.wikimedia.org/wikipedia/commons/6/60/ArtificialNeuronModel_english.png\" alt=\"Neuron model\" width=\"85%\" />"
   ]
  },
  {
   "cell_type": "markdown",
   "metadata": {
    "slideshow": {
     "slide_type": "subslide"
    }
   },
   "source": [
    "#### Activation functions\n",
    "\n",
    "Introduce non-linearity, critical to performance of neural networks."
   ]
  },
  {
   "cell_type": "code",
   "execution_count": 2,
   "metadata": {
    "hide_input": true,
    "slideshow": {
     "slide_type": "-"
    }
   },
   "outputs": [
    {
     "data": {
      "image/png": "[encoded data removed]",
      "text/plain": [
       "<Figure size 720x432 with 1 Axes>"
      ]
     },
     "metadata": {
      "needs_background": "light"
     },
     "output_type": "display_data"
    }
   ],
   "source": [
    "z = np.linspace(-5, 5, 1000)\n",
    "plt.subplots(figsize=(10, 6))\n",
    "plt.hlines(0, -5, 5, alpha=0.2)\n",
    "plt.vlines(0, -1.2, 2.5, alpha=0.2)\n",
    "plt.plot(z, 1 / (1 + np.exp(-z)), label='sigmoid')\n",
    "plt.plot(z, np.tanh(z), label='tanh')\n",
    "plt.plot(z, np.maximum(0, z), label='ReLU')\n",
    "plt.plot(z, np.maximum(0.01 * z, z), ls='--', label='Leaky ReLU')\n",
    "plt.axis([-5, 5, -1.2, 2.5])\n",
    "plt.xlabel('input value')\n",
    "plt.ylabel('output activation')\n",
    "plt.legend();"
   ]
  },
  {
   "cell_type": "markdown",
   "metadata": {
    "slideshow": {
     "slide_type": "subslide"
    }
   },
   "source": [
    "#### Feed-forward networks: stack layers of neurons, with unidirectional connections between layers\n",
    "\n",
    "<img src=\"http://neuralnetworksanddeeplearning.com/images/tikz36.png\" alt=\"Deep ANN\" width=\"60%\" />"
   ]
  },
  {
   "cell_type": "markdown",
   "metadata": {
    "slideshow": {
     "slide_type": "slide"
    }
   },
   "source": [
    "## Supervised learning\n",
    "\n",
    "* Large quantity of input training data with known labels\n",
    "* Train network (adjust weights) such that training inputs result in outputs that match the labels\n",
    "* Validate by inputing (labelled) test data and checking outputs match labels\n",
    "* Apply network to new (unlabelled) data to produce estimated labels"
   ]
  },
  {
   "cell_type": "markdown",
   "metadata": {
    "slideshow": {
     "slide_type": "subslide"
    }
   },
   "source": [
    "#### Cost/Loss function\n",
    "\n",
    "Various options, but typically:\n",
    "* For regression: **mean squared error**\n",
    "  * $\\frac{1}{N} \\sum_{i=1}^N{(y - \\hat{y})^2}$, where $y$ is the prediction and $\\hat{y}$ is the true value.\n",
    "* For classification: **categorical cross entropy**\n",
    "  * $\\sum_i q_i \\log(p_i)$, where $p_i$ is the output probability of the input corresponding to class $i$, and $q_i = 1$ if $i$ is the correct class and $0$ otherwise."
   ]
  },
  {
   "cell_type": "markdown",
   "metadata": {
    "slideshow": {
     "slide_type": "subslide"
    }
   },
   "source": [
    "#### Other performance measures\n",
    "\n",
    "* Accuracy\n",
    "* Error rate\n",
    "* Precision\n",
    "* Recall\n",
    "* TP/FP/TN/FN\n",
    "* etc..."
   ]
  },
  {
   "cell_type": "markdown",
   "metadata": {
    "slideshow": {
     "slide_type": "subslide"
    }
   },
   "source": [
    "#### Stochastic gradient descent\n",
    "\n",
    "* Update weights to reduce the loss\n",
    "* Based on gradient of the loss function wrt each weight\n",
    "* Estimated using mini-batches of the input data\n",
    "* Multiplied by a **learning rate**\n",
    "\n",
    "#### Refinements:\n",
    "\n",
    "* Adaptive learning rate\n",
    "* Momentum"
   ]
  },
  {
   "cell_type": "markdown",
   "metadata": {
    "slideshow": {
     "slide_type": "subslide"
    }
   },
   "source": [
    "#### Backpropagation\n",
    "\n",
    "* Efficient algorithm to calculate all the gradients\n",
    "* Perform forward pass and save results for each neuron\n",
    "* Then pass backward through the network propagating gradients using chain rule\n",
    "* Results in gradient of the loss function with respect to each weight"
   ]
  },
  {
   "cell_type": "markdown",
   "metadata": {
    "slideshow": {
     "slide_type": "skip"
    }
   },
   "source": [
    "### Detailed backpropagation algorithm\n",
    "\n",
    "#### 1. Input\n",
    "\n",
    "$x$: Set the corresponding activations, $a^1$, for the input layer.\n",
    "\n",
    "#### 2. Feedforward\n",
    "\n",
    "For each layer, $l = 2, 3, \\dots, L$, compute weighted sum of input activations from previous layer (plus a bias) $z^l = w^l a^{l-1} + b^l$ and resulting output activations $a^l = \\sigma(z^l)$.\n",
    "\n",
    "#### 3. Output, loss and output error\n",
    "\n",
    "The output of the network is $a^L$, with loss $C(a^L, y)$, where $y$ are the labels corresponding to $x$.\n",
    "\n",
    "The error on each $z^L$ is $\\delta^L = \\nabla_a C \\odot \\sigma^\\prime(z^L)$, where $\\nabla_a C$ is the partial derivative of $C$ with respect to $a^L$, $\\odot$ is the elementwise (Hadamard) product and $\\sigma^\\prime(z^L)$ is the derivative of the activation function evaluated at $z^L$.\n",
    "\n",
    "#### 4. Backpropagate the error\n",
    "\n",
    "For each layer, $l = L-1, L-2, \\dots, 2$ compute the error on the $z^l$ as $\\delta^L = \\left((w^{l+1})^\\textrm{T} \\delta^{l+1}\\right) \\odot \\sigma^\\prime(z^l)$.\n",
    "\n",
    "#### 5. Gradients\n",
    "\n",
    "The gradient of the cost function with respect to the network parameters is given by $\\displaystyle\\frac{\\partial C}{\\partial w^l_{jk}} = a^{l-1}_k \\delta^l_j$ and $\\displaystyle\\frac{\\partial C}{\\partial b^l_{j}} = \\delta^l_j$.\n",
    "\n",
    "#### 6. Update weights\n",
    "\n",
    "Update the weights using $w^l \\rightarrow w^l - \\eta \\displaystyle\\frac{\\partial C}{\\partial w^l}$ and biases $b^l \\rightarrow b^l - \\eta \\displaystyle\\frac{\\partial C}{\\partial b^l}$, where $\\eta$ is the learning rate. "
   ]
  },
  {
   "cell_type": "markdown",
   "metadata": {
    "slideshow": {
     "slide_type": "slide"
    }
   },
   "source": [
    "## Training simple neural networks on the MNIST dataset using keras"
   ]
  },
  {
   "cell_type": "markdown",
   "metadata": {
    "slideshow": {
     "slide_type": "subslide"
    }
   },
   "source": [
    "### Set up TensorFlow in a friendly manner"
   ]
  },
  {
   "cell_type": "code",
   "execution_count": 3,
   "metadata": {},
   "outputs": [
    {
     "name": "stdout",
     "output_type": "stream",
     "text": [
      "Tensorflow using CPU\n"
     ]
    }
   ],
   "source": [
    "import tensorflow as tf\n",
    "\n",
    "gpus = tf.config.experimental.list_physical_devices('GPU')\n",
    "if gpus:\n",
    "    print(gpus)\n",
    "    try:\n",
    "        # Turn on memory growth\n",
    "        for gpu in gpus:\n",
    "            tf.config.experimental.set_memory_growth(gpu, True)\n",
    "            #tf.config.experimental.set_virtual_device_configuration(gpu,\n",
    "            #      [tf.config.experimental.VirtualDeviceConfiguration(memory_limit=1024)])\n",
    "        # Restrict TensorFlow to only use the first GPU\n",
    "        tf.config.experimental.set_visible_devices(gpus[1], 'GPU')\n",
    "        logical_gpus = tf.config.experimental.list_logical_devices('GPU')\n",
    "        print(logical_gpus)\n",
    "    except RuntimeError as e:\n",
    "        # Visible devices must be set before GPUs have been initialized\n",
    "        print(e)\n",
    "else:\n",
    "    print(f'Tensorflow using CPU')"
   ]
  },
  {
   "cell_type": "code",
   "execution_count": 4,
   "metadata": {
    "scrolled": true,
    "slideshow": {
     "slide_type": "subslide"
    }
   },
   "outputs": [
    {
     "data": {
      "text/plain": [
       "[name: \"/device:CPU:0\"\n",
       " device_type: \"CPU\"\n",
       " memory_limit: 268435456\n",
       " locality {\n",
       " }\n",
       " incarnation: 17778981619890149766,\n",
       " name: \"/device:XLA_CPU:0\"\n",
       " device_type: \"XLA_CPU\"\n",
       " memory_limit: 17179869184\n",
       " locality {\n",
       " }\n",
       " incarnation: 11947440205070038282\n",
       " physical_device_desc: \"device: XLA_CPU device\"]"
      ]
     },
     "execution_count": 4,
     "metadata": {},
     "output_type": "execute_result"
    }
   ],
   "source": [
    "# check that we have the devices we expect available\n",
    "from tensorflow.python.client import device_lib\n",
    "device_lib.list_local_devices()"
   ]
  },
  {
   "cell_type": "markdown",
   "metadata": {
    "slideshow": {
     "slide_type": "subslide"
    }
   },
   "source": [
    "### Import keras bits and pieces"
   ]
  },
  {
   "cell_type": "code",
   "execution_count": 5,
   "metadata": {
    "slideshow": {
     "slide_type": "-"
    }
   },
   "outputs": [],
   "source": [
    "# if you have a recent version of tensorflow, keras is included\n",
    "from tensorflow import keras\n",
    "from tensorflow.keras.datasets import mnist\n",
    "from tensorflow.keras.models import Sequential\n",
    "from tensorflow.keras.layers import Dense, Dropout, Conv2D, MaxPooling2D, Flatten\n",
    "from tensorflow.keras.optimizers import RMSprop"
   ]
  },
  {
   "cell_type": "markdown",
   "metadata": {
    "slideshow": {
     "slide_type": "subslide"
    }
   },
   "source": [
    "### We will use a standard demonstration data set: MNIST handwritten digits\n",
    "\n",
    "![MNIST](https://upload.wikimedia.org/wikipedia/commons/2/27/MnistExamples.png \"MNIST\")\n"
   ]
  },
  {
   "cell_type": "markdown",
   "metadata": {
    "slideshow": {
     "slide_type": "subslide"
    }
   },
   "source": [
    "### Load the data"
   ]
  },
  {
   "cell_type": "code",
   "execution_count": 6,
   "metadata": {
    "slideshow": {
     "slide_type": "-"
    }
   },
   "outputs": [],
   "source": [
    "# the data, split between train and test sets\n",
    "(x_train, y_train), (x_valtest, y_valtest) = mnist.load_data()"
   ]
  },
  {
   "cell_type": "markdown",
   "metadata": {
    "slideshow": {
     "slide_type": "subslide"
    }
   },
   "source": [
    "### Some experimental variations"
   ]
  },
  {
   "cell_type": "code",
   "execution_count": 7,
   "metadata": {
    "slideshow": {
     "slide_type": "fragment"
    }
   },
   "outputs": [],
   "source": [
    "# demo the effect of noisy data...\n",
    "#x_train = (x_train/5 +\n",
    "#           np.random.poisson(200, size=x_train.shape)).clip(0, 255)\n",
    "#x_valtest = (x_valtest/5 +\n",
    "#             np.random.poisson(200, size=x_valtest.shape)).clip(0, 255)"
   ]
  },
  {
   "cell_type": "code",
   "execution_count": 8,
   "metadata": {
    "slideshow": {
     "slide_type": "fragment"
    }
   },
   "outputs": [],
   "source": [
    "# reduce the amount of training data...\n",
    "idx = np.random.choice(len(x_train), size=len(x_train)//100)\n",
    "x_train = x_train[idx]\n",
    "y_train = y_train[idx]"
   ]
  },
  {
   "cell_type": "markdown",
   "metadata": {
    "slideshow": {
     "slide_type": "subslide"
    }
   },
   "source": [
    "If your data isn't split, or want a validation set, need to do the split manually\n",
    "\n",
    "We will split the test data set so we have an independent data set for additional validation"
   ]
  },
  {
   "cell_type": "code",
   "execution_count": 9,
   "metadata": {
    "slideshow": {
     "slide_type": "fragment"
    }
   },
   "outputs": [],
   "source": [
    "from sklearn.model_selection import train_test_split\n",
    "x_test, x_val, y_test, y_val = train_test_split(x_valtest, y_valtest,\n",
    "                                                test_size=0.5)"
   ]
  },
  {
   "cell_type": "code",
   "execution_count": 10,
   "metadata": {
    "slideshow": {
     "slide_type": "fragment"
    }
   },
   "outputs": [
    {
     "data": {
      "text/plain": [
       "((600, 28, 28), (600,))"
      ]
     },
     "execution_count": 10,
     "metadata": {},
     "output_type": "execute_result"
    }
   ],
   "source": [
    "x_train.shape, y_train.shape"
   ]
  },
  {
   "cell_type": "code",
   "execution_count": 11,
   "metadata": {
    "slideshow": {
     "slide_type": "fragment"
    }
   },
   "outputs": [
    {
     "data": {
      "text/plain": [
       "((5000, 28, 28), (5000,), (5000, 28, 28), (5000,))"
      ]
     },
     "execution_count": 11,
     "metadata": {},
     "output_type": "execute_result"
    }
   ],
   "source": [
    "x_test.shape, y_test.shape, x_val.shape, y_val.shape"
   ]
  },
  {
   "cell_type": "markdown",
   "metadata": {
    "slideshow": {
     "slide_type": "slide"
    }
   },
   "source": [
    "### Take a look at the data\n",
    "\n",
    "This is a very quick glance - you should carefully examine any new dataset"
   ]
  },
  {
   "cell_type": "code",
   "execution_count": 12,
   "metadata": {
    "slideshow": {
     "slide_type": "subslide"
    }
   },
   "outputs": [
    {
     "name": "stdout",
     "output_type": "stream",
     "text": [
      "class = 4\n"
     ]
    },
    {
     "data": {
      "image/png": "[encoded data removed]",
      "text/plain": [
       "<Figure size 432x288 with 1 Axes>"
      ]
     },
     "metadata": {
      "needs_background": "light"
     },
     "output_type": "display_data"
    }
   ],
   "source": [
    "i = 16\n",
    "plt.imshow(x_train[i], cmap='gray')\n",
    "print('class =', y_train[i])"
   ]
  },
  {
   "cell_type": "markdown",
   "metadata": {
    "slideshow": {
     "slide_type": "slide"
    }
   },
   "source": [
    "### Prepare the data"
   ]
  },
  {
   "cell_type": "code",
   "execution_count": 13,
   "metadata": {
    "slideshow": {
     "slide_type": "fragment"
    }
   },
   "outputs": [],
   "source": [
    "# convert class vectors to \"one-hot\" binary class matrices\n",
    "num_classes = 10\n",
    "y_train = keras.utils.to_categorical(y_train, num_classes)\n",
    "y_test = keras.utils.to_categorical(y_test, num_classes)\n",
    "y_val = keras.utils.to_categorical(y_val, num_classes)"
   ]
  },
  {
   "cell_type": "code",
   "execution_count": 14,
   "metadata": {
    "slideshow": {
     "slide_type": "fragment"
    }
   },
   "outputs": [
    {
     "data": {
      "text/plain": [
       "array([0., 0., 0., 0., 1., 0., 0., 0., 0., 0.], dtype=float32)"
      ]
     },
     "execution_count": 14,
     "metadata": {},
     "output_type": "execute_result"
    }
   ],
   "source": [
    "y_train[i]"
   ]
  },
  {
   "cell_type": "code",
   "execution_count": 15,
   "metadata": {
    "slideshow": {
     "slide_type": "fragment"
    }
   },
   "outputs": [],
   "source": [
    "def process_data(x):\n",
    "    x = x.reshape(-1, 784)\n",
    "    x = x.astype('float32')\n",
    "    x /= 255\n",
    "    return x"
   ]
  },
  {
   "cell_type": "code",
   "execution_count": 16,
   "metadata": {
    "slideshow": {
     "slide_type": "fragment"
    }
   },
   "outputs": [],
   "source": [
    "x_train = process_data(x_train)\n",
    "x_test = process_data(x_test)"
   ]
  },
  {
   "cell_type": "markdown",
   "metadata": {
    "slideshow": {
     "slide_type": "slide"
    }
   },
   "source": [
    "## Fully-connected NN"
   ]
  },
  {
   "cell_type": "markdown",
   "metadata": {
    "slideshow": {
     "slide_type": "slide"
    }
   },
   "source": [
    "### Construct the network"
   ]
  },
  {
   "cell_type": "code",
   "execution_count": 17,
   "metadata": {
    "slideshow": {
     "slide_type": "-"
    }
   },
   "outputs": [],
   "source": [
    "# a fairly small network\n",
    "fcmodel = Sequential()\n",
    "fcmodel.add(Dense(32, activation='relu', input_shape=(784,)))\n",
    "# could include dropout, regularisation, ...\n",
    "#fcmodel.add(Dropout(0.5))\n",
    "fcmodel.add(Dense(32, activation='relu'))\n",
    "fcmodel.add(Dense(num_classes, activation='softmax'))"
   ]
  },
  {
   "cell_type": "code",
   "execution_count": 18,
   "metadata": {
    "slideshow": {
     "slide_type": "fragment"
    }
   },
   "outputs": [],
   "source": [
    "fcmodel.compile(loss='categorical_crossentropy',\n",
    "                optimizer=RMSprop(),\n",
    "                metrics=['accuracy'])"
   ]
  },
  {
   "cell_type": "code",
   "execution_count": 19,
   "metadata": {
    "slideshow": {
     "slide_type": "subslide"
    }
   },
   "outputs": [
    {
     "name": "stdout",
     "output_type": "stream",
     "text": [
      "Model: \"sequential\"\n",
      "_________________________________________________________________\n",
      "Layer (type)                 Output Shape              Param #   \n",
      "=================================================================\n",
      "dense (Dense)                (None, 32)                25120     \n",
      "_________________________________________________________________\n",
      "dense_1 (Dense)              (None, 32)                1056      \n",
      "_________________________________________________________________\n",
      "dense_2 (Dense)              (None, 10)                330       \n",
      "=================================================================\n",
      "Total params: 26,506\n",
      "Trainable params: 26,506\n",
      "Non-trainable params: 0\n",
      "_________________________________________________________________\n"
     ]
    }
   ],
   "source": [
    "fcmodel.summary()"
   ]
  },
  {
   "cell_type": "markdown",
   "metadata": {
    "slideshow": {
     "slide_type": "subslide"
    }
   },
   "source": [
    "#### Softmax activation function\n",
    "\n",
    "Produces probabilities over a set of classes – usual choice for last layer of classification network\n",
    "\n",
    "$$a_j = \\sigma(z_j) = \\frac{\\exp(z_j)}{\\sum_k \\exp(z_k)}$$"
   ]
  },
  {
   "cell_type": "code",
   "execution_count": 20,
   "metadata": {
    "hide_input": true,
    "slideshow": {
     "slide_type": "fragment"
    }
   },
   "outputs": [
    {
     "data": {
      "image/png": "[encoded data removed]",
      "text/plain": [
       "<Figure size 720x432 with 2 Axes>"
      ]
     },
     "metadata": {
      "needs_background": "light"
     },
     "output_type": "display_data"
    }
   ],
   "source": [
    "z1, z2 = (np.indices((101, 101)) / 100 - 0.5) * 10\n",
    "a = np.exp(z1) / (np.exp(z1) + np.exp(z2))\n",
    "plt.subplots(figsize=(10, 6))\n",
    "plt.imshow(a.T, extent=(-5, 5, -5, 5), origin='lower')\n",
    "plt.xlabel('$z_1$')\n",
    "plt.ylabel('$z_2$')\n",
    "ax = plt.colorbar()\n",
    "ax.set_label('$a_1$');"
   ]
  },
  {
   "cell_type": "markdown",
   "metadata": {
    "slideshow": {
     "slide_type": "slide"
    }
   },
   "source": [
    "### Train the network"
   ]
  },
  {
   "cell_type": "code",
   "execution_count": 21,
   "metadata": {
    "slideshow": {
     "slide_type": "fragment"
    }
   },
   "outputs": [],
   "source": [
    "batch_size = 32\n",
    "epochs = 50"
   ]
  },
  {
   "cell_type": "code",
   "execution_count": 22,
   "metadata": {},
   "outputs": [
    {
     "data": {
      "text/plain": [
       "(5000, 784)"
      ]
     },
     "execution_count": 22,
     "metadata": {},
     "output_type": "execute_result"
    }
   ],
   "source": [
    "x_test.shape"
   ]
  },
  {
   "cell_type": "code",
   "execution_count": 23,
   "metadata": {
    "scrolled": true,
    "slideshow": {
     "slide_type": "fragment"
    }
   },
   "outputs": [
    {
     "name": "stdout",
     "output_type": "stream",
     "text": [
      "Epoch 1/50\n",
      "19/19 - 0s - loss: 1.9627 - accuracy: 0.3733 - val_loss: 1.6270 - val_accuracy: 0.5784\n",
      "Epoch 2/50\n",
      "19/19 - 0s - loss: 1.3093 - accuracy: 0.7300 - val_loss: 1.1778 - val_accuracy: 0.6766\n",
      "Epoch 3/50\n",
      "19/19 - 0s - loss: 0.8933 - accuracy: 0.7950 - val_loss: 0.9054 - val_accuracy: 0.7194\n",
      "Epoch 4/50\n",
      "19/19 - 0s - loss: 0.6495 - accuracy: 0.8467 - val_loss: 0.7541 - val_accuracy: 0.7614\n",
      "Epoch 5/50\n",
      "19/19 - 0s - loss: 0.5015 - accuracy: 0.8750 - val_loss: 0.6977 - val_accuracy: 0.7632\n",
      "Epoch 6/50\n",
      "19/19 - 0s - loss: 0.4146 - accuracy: 0.9050 - val_loss: 0.6489 - val_accuracy: 0.7768\n",
      "Epoch 7/50\n",
      "19/19 - 0s - loss: 0.3474 - accuracy: 0.9167 - val_loss: 0.5932 - val_accuracy: 0.8300\n",
      "Epoch 8/50\n",
      "19/19 - 0s - loss: 0.2897 - accuracy: 0.9383 - val_loss: 0.5369 - val_accuracy: 0.8434\n",
      "Epoch 9/50\n",
      "19/19 - 0s - loss: 0.2425 - accuracy: 0.9550 - val_loss: 0.5439 - val_accuracy: 0.8348\n",
      "Epoch 10/50\n",
      "19/19 - 0s - loss: 0.2128 - accuracy: 0.9583 - val_loss: 0.5255 - val_accuracy: 0.8296\n",
      "Epoch 11/50\n",
      "19/19 - 0s - loss: 0.1801 - accuracy: 0.9733 - val_loss: 0.4856 - val_accuracy: 0.8608\n",
      "Epoch 12/50\n",
      "19/19 - 0s - loss: 0.1450 - accuracy: 0.9783 - val_loss: 0.4960 - val_accuracy: 0.8550\n",
      "Epoch 13/50\n",
      "19/19 - 0s - loss: 0.1270 - accuracy: 0.9800 - val_loss: 0.4840 - val_accuracy: 0.8580\n",
      "Epoch 14/50\n",
      "19/19 - 0s - loss: 0.1102 - accuracy: 0.9833 - val_loss: 0.4785 - val_accuracy: 0.8638\n",
      "Epoch 15/50\n",
      "19/19 - 0s - loss: 0.0926 - accuracy: 0.9883 - val_loss: 0.4776 - val_accuracy: 0.8612\n",
      "Epoch 16/50\n",
      "19/19 - 0s - loss: 0.0801 - accuracy: 0.9883 - val_loss: 0.4905 - val_accuracy: 0.8642\n",
      "Epoch 17/50\n",
      "19/19 - 0s - loss: 0.0652 - accuracy: 0.9950 - val_loss: 0.4929 - val_accuracy: 0.8606\n",
      "Epoch 18/50\n",
      "19/19 - 0s - loss: 0.0529 - accuracy: 0.9933 - val_loss: 0.4904 - val_accuracy: 0.8670\n",
      "Epoch 19/50\n",
      "19/19 - 0s - loss: 0.0456 - accuracy: 0.9967 - val_loss: 0.5100 - val_accuracy: 0.8672\n",
      "Epoch 20/50\n",
      "19/19 - 0s - loss: 0.0379 - accuracy: 1.0000 - val_loss: 0.5041 - val_accuracy: 0.8640\n",
      "Epoch 21/50\n",
      "19/19 - 0s - loss: 0.0304 - accuracy: 1.0000 - val_loss: 0.5168 - val_accuracy: 0.8612\n",
      "Epoch 22/50\n",
      "19/19 - 0s - loss: 0.0257 - accuracy: 1.0000 - val_loss: 0.5137 - val_accuracy: 0.8686\n",
      "Epoch 23/50\n",
      "19/19 - 0s - loss: 0.0220 - accuracy: 1.0000 - val_loss: 0.5546 - val_accuracy: 0.8560\n",
      "Epoch 24/50\n",
      "19/19 - 0s - loss: 0.0169 - accuracy: 1.0000 - val_loss: 0.5490 - val_accuracy: 0.8610\n",
      "Epoch 25/50\n",
      "19/19 - 0s - loss: 0.0139 - accuracy: 1.0000 - val_loss: 0.5608 - val_accuracy: 0.8584\n",
      "Epoch 26/50\n",
      "19/19 - 0s - loss: 0.0113 - accuracy: 1.0000 - val_loss: 0.5616 - val_accuracy: 0.8676\n",
      "Epoch 27/50\n",
      "19/19 - 0s - loss: 0.0092 - accuracy: 1.0000 - val_loss: 0.5815 - val_accuracy: 0.8662\n",
      "Epoch 28/50\n",
      "19/19 - 0s - loss: 0.0070 - accuracy: 1.0000 - val_loss: 0.5938 - val_accuracy: 0.8638\n",
      "Epoch 29/50\n",
      "19/19 - 0s - loss: 0.0058 - accuracy: 1.0000 - val_loss: 0.6405 - val_accuracy: 0.8618\n",
      "Epoch 30/50\n",
      "19/19 - 0s - loss: 0.0042 - accuracy: 1.0000 - val_loss: 0.6276 - val_accuracy: 0.8632\n",
      "Epoch 31/50\n",
      "19/19 - 0s - loss: 0.0037 - accuracy: 1.0000 - val_loss: 0.6546 - val_accuracy: 0.8584\n",
      "Epoch 32/50\n",
      "19/19 - 0s - loss: 0.0027 - accuracy: 1.0000 - val_loss: 0.6597 - val_accuracy: 0.8646\n",
      "Epoch 33/50\n",
      "19/19 - 0s - loss: 0.0021 - accuracy: 1.0000 - val_loss: 0.6862 - val_accuracy: 0.8654\n",
      "Epoch 34/50\n",
      "19/19 - 0s - loss: 0.0017 - accuracy: 1.0000 - val_loss: 0.7298 - val_accuracy: 0.8558\n",
      "Epoch 35/50\n",
      "19/19 - 0s - loss: 0.0014 - accuracy: 1.0000 - val_loss: 0.7109 - val_accuracy: 0.8652\n",
      "Epoch 36/50\n",
      "19/19 - 0s - loss: 0.0010 - accuracy: 1.0000 - val_loss: 0.7570 - val_accuracy: 0.8576\n",
      "Epoch 37/50\n",
      "19/19 - 0s - loss: 7.6970e-04 - accuracy: 1.0000 - val_loss: 0.7479 - val_accuracy: 0.8648\n",
      "Epoch 38/50\n",
      "19/19 - 0s - loss: 6.3836e-04 - accuracy: 1.0000 - val_loss: 0.7862 - val_accuracy: 0.8548\n",
      "Epoch 39/50\n",
      "19/19 - 0s - loss: 4.7715e-04 - accuracy: 1.0000 - val_loss: 0.7849 - val_accuracy: 0.8656\n",
      "Epoch 40/50\n",
      "19/19 - 0s - loss: 3.3556e-04 - accuracy: 1.0000 - val_loss: 0.8161 - val_accuracy: 0.8626\n",
      "Epoch 41/50\n",
      "19/19 - 0s - loss: 3.5418e-04 - accuracy: 1.0000 - val_loss: 0.8208 - val_accuracy: 0.8656\n",
      "Epoch 42/50\n",
      "19/19 - 0s - loss: 2.0094e-04 - accuracy: 1.0000 - val_loss: 0.8340 - val_accuracy: 0.8652\n",
      "Epoch 43/50\n",
      "19/19 - 0s - loss: 1.6517e-04 - accuracy: 1.0000 - val_loss: 0.8647 - val_accuracy: 0.8614\n",
      "Epoch 44/50\n",
      "19/19 - 0s - loss: 1.2397e-04 - accuracy: 1.0000 - val_loss: 0.8795 - val_accuracy: 0.8642\n",
      "Epoch 45/50\n",
      "19/19 - 0s - loss: 9.5667e-05 - accuracy: 1.0000 - val_loss: 0.9131 - val_accuracy: 0.8642\n",
      "Epoch 46/50\n",
      "19/19 - 0s - loss: 7.3199e-05 - accuracy: 1.0000 - val_loss: 0.9181 - val_accuracy: 0.8646\n",
      "Epoch 47/50\n",
      "19/19 - 0s - loss: 1.0821e-04 - accuracy: 1.0000 - val_loss: 0.9353 - val_accuracy: 0.8638\n",
      "Epoch 48/50\n",
      "19/19 - 0s - loss: 3.8136e-05 - accuracy: 1.0000 - val_loss: 0.9541 - val_accuracy: 0.8668\n",
      "Epoch 49/50\n",
      "19/19 - 0s - loss: 2.9960e-05 - accuracy: 1.0000 - val_loss: 0.9643 - val_accuracy: 0.8662\n",
      "Epoch 50/50\n",
      "19/19 - 0s - loss: 2.3573e-05 - accuracy: 1.0000 - val_loss: 0.9926 - val_accuracy: 0.8668\n"
     ]
    }
   ],
   "source": [
    "history = fcmodel.fit(x_train, y_train,\n",
    "                      batch_size=batch_size,\n",
    "                      epochs=epochs,\n",
    "                      verbose=2,\n",
    "                      validation_data=(x_test, y_test))"
   ]
  },
  {
   "cell_type": "code",
   "execution_count": 24,
   "metadata": {
    "slideshow": {
     "slide_type": "subslide"
    }
   },
   "outputs": [
    {
     "name": "stdout",
     "output_type": "stream",
     "text": [
      "Test loss: 0.993\n",
      "Test accuracy: 0.867\n"
     ]
    }
   ],
   "source": [
    "score = fcmodel.evaluate(x_test, y_test, verbose=0)\n",
    "print('Test loss: {:.3f}'.format(score[0]))\n",
    "print('Test accuracy: {:.3f}'.format(score[1]))"
   ]
  },
  {
   "cell_type": "code",
   "execution_count": 25,
   "metadata": {
    "slideshow": {
     "slide_type": "subslide"
    }
   },
   "outputs": [],
   "source": [
    "def histplot(history):\n",
    "    hist = pd.DataFrame(history.history)\n",
    "    fig, (ax1, ax2) = plt.subplots(1, 2, figsize=(15, 5))\n",
    "    hist.plot(y=['loss', 'val_loss'], ax=ax1)\n",
    "    min_loss = hist['val_loss'].min()\n",
    "    ax1.hlines(min_loss, 0, len(hist), linestyle='dotted',\n",
    "               label='min(val_loss) = {:.3f}'.format(min_loss))\n",
    "    ax1.legend(loc='upper right')\n",
    "    hist.plot(y=['accuracy', 'val_accuracy'], ax=ax2)\n",
    "    max_acc = hist['val_accuracy'].max()\n",
    "    ax2.hlines(max_acc, 0, len(hist), linestyle='dotted',\n",
    "               label='max(val_acc) = {:.3f}'.format(max_acc))\n",
    "    ax2.legend(loc='lower right', fontsize='large')"
   ]
  },
  {
   "cell_type": "code",
   "execution_count": 26,
   "metadata": {
    "scrolled": true,
    "slideshow": {
     "slide_type": "subslide"
    }
   },
   "outputs": [
    {
     "data": {
      "image/png": "[encoded data removed]",
      "text/plain": [
       "<Figure size 1080x360 with 2 Axes>"
      ]
     },
     "metadata": {
      "needs_background": "light"
     },
     "output_type": "display_data"
    }
   ],
   "source": [
    "histplot(history)"
   ]
  },
  {
   "cell_type": "markdown",
   "metadata": {},
   "source": [
    "Note over-fitting!"
   ]
  },
  {
   "cell_type": "markdown",
   "metadata": {
    "slideshow": {
     "slide_type": "subslide"
    }
   },
   "source": [
    "Over-fitting common, not always a problem.\n",
    "\n",
    "Suggests potential for an approach with fewer parameters or regularisation, and hence better generalisation.\n",
    "\n",
    "Note that could have stopped training when the validation loss plateaued: *early stopping* approach to avoiding over-fitting.\n",
    "\n",
    "Training a fully-connected network with many layers is challenging. Consider alternative architectures which exploit key properties of the data."
   ]
  },
  {
   "cell_type": "markdown",
   "metadata": {
    "slideshow": {
     "slide_type": "slide"
    }
   },
   "source": [
    "## Convolutional Neural Network (CNN)\n",
    "\n",
    "<br/>\n",
    "<br/>\n",
    "\n",
    "<img src=\"https://upload.wikimedia.org/wikipedia/commons/6/63/Typical_cnn.png\" alt=\"CNN\" width=\"80%\" />\n"
   ]
  },
  {
   "cell_type": "markdown",
   "metadata": {
    "slideshow": {
     "slide_type": "subslide"
    }
   },
   "source": [
    "#### Convolution\n",
    "\n",
    "<img src=\"https://upload.wikimedia.org/wikipedia/commons/1/19/2D_Convolution_Animation.gif\" width=\"50%\" />"
   ]
  },
  {
   "cell_type": "markdown",
   "metadata": {
    "slideshow": {
     "slide_type": "subslide"
    }
   },
   "source": [
    "#### Pooling\n",
    "\n",
    "<img src=\"https://upload.wikimedia.org/wikipedia/commons/e/e9/Max_pooling.png\" width=\"30%\" />"
   ]
  },
  {
   "cell_type": "markdown",
   "metadata": {
    "slideshow": {
     "slide_type": "subslide"
    }
   },
   "source": [
    "### Reshape the data"
   ]
  },
  {
   "cell_type": "code",
   "execution_count": 27,
   "metadata": {
    "slideshow": {
     "slide_type": "-"
    }
   },
   "outputs": [],
   "source": [
    "# Turn back into stacks of 2D images\n",
    "x_train = x_train.reshape(-1, 28, 28, 1)\n",
    "x_test = x_test.reshape(-1, 28, 28, 1)"
   ]
  },
  {
   "cell_type": "markdown",
   "metadata": {
    "slideshow": {
     "slide_type": "slide"
    }
   },
   "source": [
    "### Construct the network"
   ]
  },
  {
   "cell_type": "code",
   "execution_count": 28,
   "metadata": {
    "slideshow": {
     "slide_type": "-"
    }
   },
   "outputs": [],
   "source": [
    "# a fairly small network for speed\n",
    "cnnmodel = Sequential()\n",
    "cnnmodel.add(Conv2D(8, (3, 3), activation='relu', input_shape=(28, 28, 1)))\n",
    "cnnmodel.add(MaxPooling2D((3, 3)))\n",
    "cnnmodel.add(Conv2D(16, (3, 3), activation='relu'))\n",
    "cnnmodel.add(MaxPooling2D((2, 2)))\n",
    "# could include dropout, regularisation, ...\n",
    "#cnnmodel.add(Dropout(0.5))\n",
    "cnnmodel.add(Flatten())\n",
    "cnnmodel.add(Dense(num_classes, activation='softmax'))"
   ]
  },
  {
   "cell_type": "code",
   "execution_count": 29,
   "metadata": {
    "slideshow": {
     "slide_type": "fragment"
    }
   },
   "outputs": [],
   "source": [
    "cnnmodel.compile(loss='categorical_crossentropy',\n",
    "                optimizer=RMSprop(),\n",
    "                metrics=['accuracy'])"
   ]
  },
  {
   "cell_type": "code",
   "execution_count": 30,
   "metadata": {
    "slideshow": {
     "slide_type": "subslide"
    }
   },
   "outputs": [
    {
     "name": "stdout",
     "output_type": "stream",
     "text": [
      "Model: \"sequential_1\"\n",
      "_________________________________________________________________\n",
      "Layer (type)                 Output Shape              Param #   \n",
      "=================================================================\n",
      "conv2d (Conv2D)              (None, 26, 26, 8)         80        \n",
      "_________________________________________________________________\n",
      "max_pooling2d (MaxPooling2D) (None, 8, 8, 8)           0         \n",
      "_________________________________________________________________\n",
      "conv2d_1 (Conv2D)            (None, 6, 6, 16)          1168      \n",
      "_________________________________________________________________\n",
      "max_pooling2d_1 (MaxPooling2 (None, 3, 3, 16)          0         \n",
      "_________________________________________________________________\n",
      "flatten (Flatten)            (None, 144)               0         \n",
      "_________________________________________________________________\n",
      "dense_3 (Dense)              (None, 10)                1450      \n",
      "=================================================================\n",
      "Total params: 2,698\n",
      "Trainable params: 2,698\n",
      "Non-trainable params: 0\n",
      "_________________________________________________________________\n"
     ]
    }
   ],
   "source": [
    "cnnmodel.summary()"
   ]
  },
  {
   "cell_type": "code",
   "execution_count": 31,
   "metadata": {
    "slideshow": {
     "slide_type": "subslide"
    }
   },
   "outputs": [],
   "source": [
    "# save weights for reinitialising below\n",
    "cnnmodel.save_weights('/tmp/cnnmodel_init_weights.tf')"
   ]
  },
  {
   "cell_type": "markdown",
   "metadata": {
    "slideshow": {
     "slide_type": "slide"
    }
   },
   "source": [
    "### Train the network"
   ]
  },
  {
   "cell_type": "code",
   "execution_count": 32,
   "metadata": {
    "slideshow": {
     "slide_type": "-"
    }
   },
   "outputs": [
    {
     "name": "stdout",
     "output_type": "stream",
     "text": [
      "Epoch 1/150\n",
      "19/19 - 0s - loss: 2.2675 - accuracy: 0.1650 - val_loss: 2.2067 - val_accuracy: 0.3090\n",
      "Epoch 2/150\n",
      "19/19 - 0s - loss: 2.1324 - accuracy: 0.3950 - val_loss: 2.0597 - val_accuracy: 0.5120\n",
      "Epoch 3/150\n",
      "19/19 - 0s - loss: 1.9418 - accuracy: 0.5500 - val_loss: 1.8426 - val_accuracy: 0.6010\n",
      "Epoch 4/150\n",
      "19/19 - 0s - loss: 1.6793 - accuracy: 0.6400 - val_loss: 1.5722 - val_accuracy: 0.6588\n",
      "Epoch 5/150\n",
      "19/19 - 0s - loss: 1.4001 - accuracy: 0.7150 - val_loss: 1.3026 - val_accuracy: 0.7406\n",
      "Epoch 6/150\n",
      "19/19 - 0s - loss: 1.1382 - accuracy: 0.7750 - val_loss: 1.0833 - val_accuracy: 0.7548\n",
      "Epoch 7/150\n",
      "19/19 - 0s - loss: 0.9202 - accuracy: 0.8233 - val_loss: 0.9121 - val_accuracy: 0.7762\n",
      "Epoch 8/150\n",
      "19/19 - 0s - loss: 0.7527 - accuracy: 0.8550 - val_loss: 0.7696 - val_accuracy: 0.7958\n",
      "Epoch 9/150\n",
      "19/19 - 0s - loss: 0.6194 - accuracy: 0.8600 - val_loss: 0.6827 - val_accuracy: 0.8058\n",
      "Epoch 10/150\n",
      "19/19 - 0s - loss: 0.5260 - accuracy: 0.8683 - val_loss: 0.5991 - val_accuracy: 0.8278\n",
      "Epoch 11/150\n",
      "19/19 - 0s - loss: 0.4559 - accuracy: 0.8833 - val_loss: 0.5488 - val_accuracy: 0.8360\n",
      "Epoch 12/150\n",
      "19/19 - 0s - loss: 0.4017 - accuracy: 0.9000 - val_loss: 0.4912 - val_accuracy: 0.8560\n",
      "Epoch 13/150\n",
      "19/19 - 0s - loss: 0.3591 - accuracy: 0.9017 - val_loss: 0.4825 - val_accuracy: 0.8540\n",
      "Epoch 14/150\n",
      "19/19 - 0s - loss: 0.3231 - accuracy: 0.9017 - val_loss: 0.4749 - val_accuracy: 0.8504\n",
      "Epoch 15/150\n",
      "19/19 - 0s - loss: 0.3018 - accuracy: 0.9150 - val_loss: 0.4545 - val_accuracy: 0.8544\n",
      "Epoch 16/150\n",
      "19/19 - 0s - loss: 0.2757 - accuracy: 0.9250 - val_loss: 0.3980 - val_accuracy: 0.8810\n",
      "Epoch 17/150\n",
      "19/19 - 0s - loss: 0.2501 - accuracy: 0.9317 - val_loss: 0.3999 - val_accuracy: 0.8784\n",
      "Epoch 18/150\n",
      "19/19 - 0s - loss: 0.2351 - accuracy: 0.9383 - val_loss: 0.3934 - val_accuracy: 0.8726\n",
      "Epoch 19/150\n",
      "19/19 - 0s - loss: 0.2160 - accuracy: 0.9450 - val_loss: 0.3825 - val_accuracy: 0.8810\n",
      "Epoch 20/150\n",
      "19/19 - 0s - loss: 0.1948 - accuracy: 0.9450 - val_loss: 0.3627 - val_accuracy: 0.8910\n",
      "Epoch 21/150\n",
      "19/19 - 0s - loss: 0.1941 - accuracy: 0.9483 - val_loss: 0.3282 - val_accuracy: 0.9042\n",
      "Epoch 22/150\n",
      "19/19 - 0s - loss: 0.1728 - accuracy: 0.9533 - val_loss: 0.3263 - val_accuracy: 0.9032\n",
      "Epoch 23/150\n",
      "19/19 - 0s - loss: 0.1574 - accuracy: 0.9583 - val_loss: 0.3123 - val_accuracy: 0.9076\n",
      "Epoch 24/150\n",
      "19/19 - 0s - loss: 0.1501 - accuracy: 0.9667 - val_loss: 0.3426 - val_accuracy: 0.8966\n",
      "Epoch 25/150\n",
      "19/19 - 0s - loss: 0.1412 - accuracy: 0.9683 - val_loss: 0.3156 - val_accuracy: 0.9050\n",
      "Epoch 26/150\n",
      "19/19 - 0s - loss: 0.1317 - accuracy: 0.9667 - val_loss: 0.3358 - val_accuracy: 0.8990\n",
      "Epoch 27/150\n",
      "19/19 - 0s - loss: 0.1216 - accuracy: 0.9633 - val_loss: 0.3201 - val_accuracy: 0.9022\n",
      "Epoch 28/150\n",
      "19/19 - 0s - loss: 0.1114 - accuracy: 0.9750 - val_loss: 0.3141 - val_accuracy: 0.9056\n",
      "Epoch 29/150\n",
      "19/19 - 0s - loss: 0.1037 - accuracy: 0.9817 - val_loss: 0.3098 - val_accuracy: 0.9118\n",
      "Epoch 30/150\n",
      "19/19 - 0s - loss: 0.0995 - accuracy: 0.9767 - val_loss: 0.2940 - val_accuracy: 0.9160\n",
      "Epoch 31/150\n",
      "19/19 - 0s - loss: 0.0911 - accuracy: 0.9800 - val_loss: 0.3012 - val_accuracy: 0.9132\n",
      "Epoch 32/150\n",
      "19/19 - 0s - loss: 0.0830 - accuracy: 0.9817 - val_loss: 0.3128 - val_accuracy: 0.9098\n",
      "Epoch 33/150\n",
      "19/19 - 0s - loss: 0.0757 - accuracy: 0.9817 - val_loss: 0.3010 - val_accuracy: 0.9140\n",
      "Epoch 34/150\n",
      "19/19 - 0s - loss: 0.0757 - accuracy: 0.9867 - val_loss: 0.2942 - val_accuracy: 0.9162\n",
      "Epoch 35/150\n",
      "19/19 - 0s - loss: 0.0671 - accuracy: 0.9883 - val_loss: 0.2974 - val_accuracy: 0.9176\n",
      "Epoch 36/150\n",
      "19/19 - 0s - loss: 0.0649 - accuracy: 0.9883 - val_loss: 0.2977 - val_accuracy: 0.9138\n",
      "Epoch 37/150\n",
      "19/19 - 0s - loss: 0.0601 - accuracy: 0.9917 - val_loss: 0.2893 - val_accuracy: 0.9202\n",
      "Epoch 38/150\n",
      "19/19 - 0s - loss: 0.0554 - accuracy: 0.9933 - val_loss: 0.2919 - val_accuracy: 0.9198\n",
      "Epoch 39/150\n",
      "19/19 - 0s - loss: 0.0469 - accuracy: 0.9917 - val_loss: 0.3092 - val_accuracy: 0.9148\n",
      "Epoch 40/150\n",
      "19/19 - 0s - loss: 0.0447 - accuracy: 0.9933 - val_loss: 0.2966 - val_accuracy: 0.9196\n",
      "Epoch 41/150\n",
      "19/19 - 0s - loss: 0.0427 - accuracy: 0.9883 - val_loss: 0.3335 - val_accuracy: 0.9076\n",
      "Epoch 42/150\n",
      "19/19 - 0s - loss: 0.0412 - accuracy: 0.9950 - val_loss: 0.3087 - val_accuracy: 0.9182\n",
      "Epoch 43/150\n",
      "19/19 - 0s - loss: 0.0362 - accuracy: 0.9950 - val_loss: 0.2893 - val_accuracy: 0.9260\n",
      "Epoch 44/150\n",
      "19/19 - 0s - loss: 0.0319 - accuracy: 0.9983 - val_loss: 0.3149 - val_accuracy: 0.9210\n",
      "Epoch 45/150\n",
      "19/19 - 0s - loss: 0.0319 - accuracy: 0.9983 - val_loss: 0.2999 - val_accuracy: 0.9250\n",
      "Epoch 46/150\n",
      "19/19 - 0s - loss: 0.0287 - accuracy: 0.9950 - val_loss: 0.2894 - val_accuracy: 0.9292\n",
      "Epoch 47/150\n",
      "19/19 - 0s - loss: 0.0262 - accuracy: 0.9983 - val_loss: 0.3101 - val_accuracy: 0.9206\n",
      "Epoch 48/150\n",
      "19/19 - 0s - loss: 0.0219 - accuracy: 0.9983 - val_loss: 0.2999 - val_accuracy: 0.9268\n",
      "Epoch 49/150\n",
      "19/19 - 0s - loss: 0.0226 - accuracy: 0.9983 - val_loss: 0.3303 - val_accuracy: 0.9174\n",
      "Epoch 50/150\n",
      "19/19 - 0s - loss: 0.0220 - accuracy: 0.9967 - val_loss: 0.3112 - val_accuracy: 0.9234\n",
      "Epoch 51/150\n",
      "19/19 - 0s - loss: 0.0167 - accuracy: 1.0000 - val_loss: 0.3282 - val_accuracy: 0.9208\n",
      "Epoch 52/150\n",
      "19/19 - 0s - loss: 0.0163 - accuracy: 0.9983 - val_loss: 0.3553 - val_accuracy: 0.9124\n",
      "Epoch 53/150\n",
      "19/19 - 0s - loss: 0.0154 - accuracy: 0.9983 - val_loss: 0.3397 - val_accuracy: 0.9192\n",
      "Epoch 54/150\n",
      "19/19 - 0s - loss: 0.0163 - accuracy: 0.9967 - val_loss: 0.3305 - val_accuracy: 0.9246\n",
      "Epoch 55/150\n",
      "19/19 - 0s - loss: 0.0116 - accuracy: 1.0000 - val_loss: 0.3553 - val_accuracy: 0.9186\n",
      "Epoch 56/150\n",
      "19/19 - 0s - loss: 0.0129 - accuracy: 0.9983 - val_loss: 0.3399 - val_accuracy: 0.9234\n",
      "Epoch 57/150\n",
      "19/19 - 0s - loss: 0.0127 - accuracy: 0.9983 - val_loss: 0.3247 - val_accuracy: 0.9268\n",
      "Epoch 58/150\n",
      "19/19 - 0s - loss: 0.0098 - accuracy: 1.0000 - val_loss: 0.3315 - val_accuracy: 0.9250\n",
      "Epoch 59/150\n",
      "19/19 - 0s - loss: 0.0066 - accuracy: 1.0000 - val_loss: 0.3412 - val_accuracy: 0.9242\n",
      "Epoch 60/150\n",
      "19/19 - 0s - loss: 0.0068 - accuracy: 1.0000 - val_loss: 0.3332 - val_accuracy: 0.9262\n",
      "Epoch 61/150\n",
      "19/19 - 0s - loss: 0.0100 - accuracy: 0.9983 - val_loss: 0.3343 - val_accuracy: 0.9276\n",
      "Epoch 62/150\n",
      "19/19 - 0s - loss: 0.0058 - accuracy: 1.0000 - val_loss: 0.3439 - val_accuracy: 0.9268\n",
      "Epoch 63/150\n",
      "19/19 - 0s - loss: 0.0065 - accuracy: 1.0000 - val_loss: 0.3588 - val_accuracy: 0.9216\n",
      "Epoch 64/150\n",
      "19/19 - 0s - loss: 0.0046 - accuracy: 1.0000 - val_loss: 0.3830 - val_accuracy: 0.9208\n",
      "Epoch 65/150\n",
      "19/19 - 0s - loss: 0.0056 - accuracy: 1.0000 - val_loss: 0.3765 - val_accuracy: 0.9246\n",
      "Epoch 66/150\n",
      "19/19 - 0s - loss: 0.0043 - accuracy: 1.0000 - val_loss: 0.4037 - val_accuracy: 0.9172\n",
      "Epoch 67/150\n",
      "19/19 - 0s - loss: 0.0044 - accuracy: 1.0000 - val_loss: 0.3565 - val_accuracy: 0.9292\n",
      "Epoch 68/150\n",
      "19/19 - 0s - loss: 0.0052 - accuracy: 0.9983 - val_loss: 0.3760 - val_accuracy: 0.9246\n",
      "Epoch 69/150\n",
      "19/19 - 0s - loss: 0.0033 - accuracy: 1.0000 - val_loss: 0.3884 - val_accuracy: 0.9246\n",
      "Epoch 70/150\n",
      "19/19 - 0s - loss: 0.0028 - accuracy: 1.0000 - val_loss: 0.3669 - val_accuracy: 0.9278\n",
      "Epoch 71/150\n",
      "19/19 - 0s - loss: 0.0032 - accuracy: 1.0000 - val_loss: 0.3793 - val_accuracy: 0.9260\n",
      "Epoch 72/150\n",
      "19/19 - 0s - loss: 0.0027 - accuracy: 1.0000 - val_loss: 0.3786 - val_accuracy: 0.9278\n",
      "Epoch 73/150\n",
      "19/19 - 0s - loss: 0.0037 - accuracy: 1.0000 - val_loss: 0.3908 - val_accuracy: 0.9256\n",
      "Epoch 74/150\n",
      "19/19 - 0s - loss: 0.0016 - accuracy: 1.0000 - val_loss: 0.3954 - val_accuracy: 0.9260\n",
      "Epoch 75/150\n",
      "19/19 - 0s - loss: 0.0035 - accuracy: 1.0000 - val_loss: 0.4316 - val_accuracy: 0.9220\n",
      "Epoch 76/150\n",
      "19/19 - 0s - loss: 0.0019 - accuracy: 1.0000 - val_loss: 0.3817 - val_accuracy: 0.9318\n",
      "Epoch 77/150\n",
      "19/19 - 0s - loss: 0.0013 - accuracy: 1.0000 - val_loss: 0.3833 - val_accuracy: 0.9312\n",
      "Epoch 78/150\n",
      "19/19 - 0s - loss: 0.0018 - accuracy: 1.0000 - val_loss: 0.3976 - val_accuracy: 0.9274\n",
      "Epoch 79/150\n",
      "19/19 - 0s - loss: 0.0014 - accuracy: 1.0000 - val_loss: 0.3906 - val_accuracy: 0.9292\n",
      "Epoch 80/150\n",
      "19/19 - 0s - loss: 0.0012 - accuracy: 1.0000 - val_loss: 0.4005 - val_accuracy: 0.9318\n",
      "Epoch 81/150\n",
      "19/19 - 0s - loss: 0.0014 - accuracy: 1.0000 - val_loss: 0.4269 - val_accuracy: 0.9246\n",
      "Epoch 82/150\n",
      "19/19 - 0s - loss: 0.0017 - accuracy: 1.0000 - val_loss: 0.4132 - val_accuracy: 0.9270\n",
      "Epoch 83/150\n"
     ]
    },
    {
     "name": "stdout",
     "output_type": "stream",
     "text": [
      "19/19 - 0s - loss: 7.6775e-04 - accuracy: 1.0000 - val_loss: 0.4134 - val_accuracy: 0.9310\n",
      "Epoch 84/150\n",
      "19/19 - 0s - loss: 8.9007e-04 - accuracy: 1.0000 - val_loss: 0.4524 - val_accuracy: 0.9212\n",
      "Epoch 85/150\n",
      "19/19 - 0s - loss: 0.0011 - accuracy: 1.0000 - val_loss: 0.4078 - val_accuracy: 0.9334\n",
      "Epoch 86/150\n",
      "19/19 - 0s - loss: 5.4752e-04 - accuracy: 1.0000 - val_loss: 0.4642 - val_accuracy: 0.9250\n",
      "Epoch 87/150\n",
      "19/19 - 0s - loss: 0.0012 - accuracy: 1.0000 - val_loss: 0.4344 - val_accuracy: 0.9284\n",
      "Epoch 88/150\n",
      "19/19 - 0s - loss: 5.3300e-04 - accuracy: 1.0000 - val_loss: 0.4338 - val_accuracy: 0.9292\n",
      "Epoch 89/150\n",
      "19/19 - 0s - loss: 5.6204e-04 - accuracy: 1.0000 - val_loss: 0.4392 - val_accuracy: 0.9288\n",
      "Epoch 90/150\n",
      "19/19 - 0s - loss: 4.3818e-04 - accuracy: 1.0000 - val_loss: 0.4613 - val_accuracy: 0.9268\n",
      "Epoch 91/150\n",
      "19/19 - 0s - loss: 4.6371e-04 - accuracy: 1.0000 - val_loss: 0.4692 - val_accuracy: 0.9258\n",
      "Epoch 92/150\n",
      "19/19 - 0s - loss: 8.8914e-04 - accuracy: 1.0000 - val_loss: 0.4575 - val_accuracy: 0.9286\n",
      "Epoch 93/150\n",
      "19/19 - 0s - loss: 2.9430e-04 - accuracy: 1.0000 - val_loss: 0.4608 - val_accuracy: 0.9278\n",
      "Epoch 94/150\n",
      "19/19 - 0s - loss: 3.9807e-04 - accuracy: 1.0000 - val_loss: 0.4619 - val_accuracy: 0.9292\n",
      "Epoch 95/150\n",
      "19/19 - 0s - loss: 2.0776e-04 - accuracy: 1.0000 - val_loss: 0.4585 - val_accuracy: 0.9298\n",
      "Epoch 96/150\n",
      "19/19 - 0s - loss: 3.4088e-04 - accuracy: 1.0000 - val_loss: 0.4796 - val_accuracy: 0.9284\n",
      "Epoch 97/150\n",
      "19/19 - 0s - loss: 2.7135e-04 - accuracy: 1.0000 - val_loss: 0.4859 - val_accuracy: 0.9278\n",
      "Epoch 98/150\n",
      "19/19 - 0s - loss: 1.6615e-04 - accuracy: 1.0000 - val_loss: 0.4739 - val_accuracy: 0.9308\n",
      "Epoch 99/150\n",
      "19/19 - 0s - loss: 3.5921e-04 - accuracy: 1.0000 - val_loss: 0.4799 - val_accuracy: 0.9286\n",
      "Epoch 100/150\n",
      "19/19 - 0s - loss: 1.1229e-04 - accuracy: 1.0000 - val_loss: 0.4758 - val_accuracy: 0.9284\n",
      "Epoch 101/150\n",
      "19/19 - 0s - loss: 1.2887e-04 - accuracy: 1.0000 - val_loss: 0.5082 - val_accuracy: 0.9268\n",
      "Epoch 102/150\n",
      "19/19 - 0s - loss: 2.5588e-04 - accuracy: 1.0000 - val_loss: 0.5449 - val_accuracy: 0.9240\n",
      "Epoch 103/150\n",
      "19/19 - 0s - loss: 1.3036e-04 - accuracy: 1.0000 - val_loss: 0.5012 - val_accuracy: 0.9284\n",
      "Epoch 104/150\n",
      "19/19 - 0s - loss: 8.6166e-05 - accuracy: 1.0000 - val_loss: 0.5074 - val_accuracy: 0.9300\n",
      "Epoch 105/150\n",
      "19/19 - 0s - loss: 1.1567e-04 - accuracy: 1.0000 - val_loss: 0.4925 - val_accuracy: 0.9342\n",
      "Epoch 106/150\n",
      "19/19 - 0s - loss: 2.0110e-04 - accuracy: 1.0000 - val_loss: 0.5025 - val_accuracy: 0.9312\n",
      "Epoch 107/150\n",
      "19/19 - 0s - loss: 1.5876e-04 - accuracy: 1.0000 - val_loss: 0.5118 - val_accuracy: 0.9318\n",
      "Epoch 108/150\n",
      "19/19 - 0s - loss: 4.9883e-05 - accuracy: 1.0000 - val_loss: 0.5160 - val_accuracy: 0.9314\n",
      "Epoch 109/150\n",
      "19/19 - 0s - loss: 1.0933e-04 - accuracy: 1.0000 - val_loss: 0.5335 - val_accuracy: 0.9292\n",
      "Epoch 110/150\n",
      "19/19 - 0s - loss: 4.5013e-05 - accuracy: 1.0000 - val_loss: 0.5489 - val_accuracy: 0.9272\n",
      "Epoch 111/150\n",
      "19/19 - 0s - loss: 1.1178e-04 - accuracy: 1.0000 - val_loss: 0.5159 - val_accuracy: 0.9322\n",
      "Epoch 112/150\n",
      "19/19 - 0s - loss: 3.4380e-05 - accuracy: 1.0000 - val_loss: 0.5182 - val_accuracy: 0.9328\n",
      "Epoch 113/150\n",
      "19/19 - 0s - loss: 8.8088e-05 - accuracy: 1.0000 - val_loss: 0.5547 - val_accuracy: 0.9268\n",
      "Epoch 114/150\n",
      "19/19 - 0s - loss: 3.4368e-05 - accuracy: 1.0000 - val_loss: 0.5441 - val_accuracy: 0.9318\n",
      "Epoch 115/150\n",
      "19/19 - 0s - loss: 5.8387e-05 - accuracy: 1.0000 - val_loss: 0.5355 - val_accuracy: 0.9318\n",
      "Epoch 116/150\n",
      "19/19 - 0s - loss: 5.6850e-05 - accuracy: 1.0000 - val_loss: 0.5597 - val_accuracy: 0.9292\n",
      "Epoch 117/150\n",
      "19/19 - 0s - loss: 2.9356e-05 - accuracy: 1.0000 - val_loss: 0.5669 - val_accuracy: 0.9282\n",
      "Epoch 118/150\n",
      "19/19 - 0s - loss: 4.6554e-05 - accuracy: 1.0000 - val_loss: 0.5460 - val_accuracy: 0.9308\n",
      "Epoch 119/150\n",
      "19/19 - 0s - loss: 8.0142e-05 - accuracy: 1.0000 - val_loss: 0.5711 - val_accuracy: 0.9290\n",
      "Epoch 120/150\n",
      "19/19 - 0s - loss: 3.2763e-05 - accuracy: 1.0000 - val_loss: 0.5555 - val_accuracy: 0.9310\n",
      "Epoch 121/150\n",
      "19/19 - 0s - loss: 1.3905e-05 - accuracy: 1.0000 - val_loss: 0.5532 - val_accuracy: 0.9320\n",
      "Epoch 122/150\n",
      "19/19 - 0s - loss: 3.8470e-05 - accuracy: 1.0000 - val_loss: 0.5739 - val_accuracy: 0.9320\n",
      "Epoch 123/150\n",
      "19/19 - 0s - loss: 1.5848e-05 - accuracy: 1.0000 - val_loss: 0.5654 - val_accuracy: 0.9310\n",
      "Epoch 124/150\n",
      "19/19 - 0s - loss: 2.1914e-05 - accuracy: 1.0000 - val_loss: 0.5847 - val_accuracy: 0.9294\n",
      "Epoch 125/150\n",
      "19/19 - 0s - loss: 1.5129e-05 - accuracy: 1.0000 - val_loss: 0.5805 - val_accuracy: 0.9316\n",
      "Epoch 126/150\n",
      "19/19 - 0s - loss: 1.5128e-05 - accuracy: 1.0000 - val_loss: 0.6197 - val_accuracy: 0.9278\n",
      "Epoch 127/150\n",
      "19/19 - 0s - loss: 9.5045e-05 - accuracy: 1.0000 - val_loss: 0.5903 - val_accuracy: 0.9316\n",
      "Epoch 128/150\n",
      "19/19 - 0s - loss: 5.9645e-06 - accuracy: 1.0000 - val_loss: 0.6096 - val_accuracy: 0.9296\n",
      "Epoch 129/150\n",
      "19/19 - 0s - loss: 8.2697e-06 - accuracy: 1.0000 - val_loss: 0.6271 - val_accuracy: 0.9276\n",
      "Epoch 130/150\n",
      "19/19 - 0s - loss: 3.5946e-05 - accuracy: 1.0000 - val_loss: 0.6901 - val_accuracy: 0.9226\n",
      "Epoch 131/150\n",
      "19/19 - 0s - loss: 2.8376e-05 - accuracy: 1.0000 - val_loss: 0.6125 - val_accuracy: 0.9308\n",
      "Epoch 132/150\n",
      "19/19 - 0s - loss: 5.9002e-06 - accuracy: 1.0000 - val_loss: 0.6008 - val_accuracy: 0.9332\n",
      "Epoch 133/150\n",
      "19/19 - 0s - loss: 4.7535e-06 - accuracy: 1.0000 - val_loss: 0.6103 - val_accuracy: 0.9314\n",
      "Epoch 134/150\n",
      "19/19 - 0s - loss: 1.8664e-04 - accuracy: 1.0000 - val_loss: 0.6320 - val_accuracy: 0.9304\n",
      "Epoch 135/150\n",
      "19/19 - 0s - loss: 9.1207e-06 - accuracy: 1.0000 - val_loss: 0.6155 - val_accuracy: 0.9310\n",
      "Epoch 136/150\n",
      "19/19 - 0s - loss: 6.1225e-06 - accuracy: 1.0000 - val_loss: 0.6263 - val_accuracy: 0.9316\n",
      "Epoch 137/150\n",
      "19/19 - 0s - loss: 4.7293e-06 - accuracy: 1.0000 - val_loss: 0.6135 - val_accuracy: 0.9322\n",
      "Epoch 138/150\n",
      "19/19 - 0s - loss: 4.6047e-06 - accuracy: 1.0000 - val_loss: 0.6164 - val_accuracy: 0.9328\n",
      "Epoch 139/150\n",
      "19/19 - 0s - loss: 3.3493e-06 - accuracy: 1.0000 - val_loss: 0.6729 - val_accuracy: 0.9272\n",
      "Epoch 140/150\n",
      "19/19 - 0s - loss: 1.1654e-05 - accuracy: 1.0000 - val_loss: 0.6297 - val_accuracy: 0.9306\n",
      "Epoch 141/150\n",
      "19/19 - 0s - loss: 3.4761e-06 - accuracy: 1.0000 - val_loss: 0.6470 - val_accuracy: 0.9268\n",
      "Epoch 142/150\n",
      "19/19 - 0s - loss: 2.1367e-05 - accuracy: 1.0000 - val_loss: 0.6421 - val_accuracy: 0.9320\n",
      "Epoch 143/150\n",
      "19/19 - 0s - loss: 2.5445e-06 - accuracy: 1.0000 - val_loss: 0.6373 - val_accuracy: 0.9320\n",
      "Epoch 144/150\n",
      "19/19 - 0s - loss: 2.0494e-06 - accuracy: 1.0000 - val_loss: 0.6428 - val_accuracy: 0.9308\n",
      "Epoch 145/150\n",
      "19/19 - 0s - loss: 4.0810e-05 - accuracy: 1.0000 - val_loss: 0.6750 - val_accuracy: 0.9270\n",
      "Epoch 146/150\n",
      "19/19 - 0s - loss: 6.1921e-06 - accuracy: 1.0000 - val_loss: 0.6465 - val_accuracy: 0.9302\n",
      "Epoch 147/150\n",
      "19/19 - 0s - loss: 1.7168e-06 - accuracy: 1.0000 - val_loss: 0.6478 - val_accuracy: 0.9312\n",
      "Epoch 148/150\n",
      "19/19 - 0s - loss: 1.7678e-06 - accuracy: 1.0000 - val_loss: 0.6543 - val_accuracy: 0.9298\n",
      "Epoch 149/150\n",
      "19/19 - 0s - loss: 2.1004e-06 - accuracy: 1.0000 - val_loss: 0.6871 - val_accuracy: 0.9300\n",
      "Epoch 150/150\n",
      "19/19 - 0s - loss: 5.1212e-06 - accuracy: 1.0000 - val_loss: 0.6825 - val_accuracy: 0.9300\n"
     ]
    }
   ],
   "source": [
    "history = cnnmodel.fit(x_train, y_train,\n",
    "                       batch_size=batch_size, \n",
    "                       epochs=3*epochs,\n",
    "                       verbose=2,\n",
    "                       validation_data=(x_test, y_test))"
   ]
  },
  {
   "cell_type": "code",
   "execution_count": 33,
   "metadata": {
    "scrolled": true,
    "slideshow": {
     "slide_type": "subslide"
    }
   },
   "outputs": [
    {
     "data": {
      "image/png": "[encoded data removed]",
      "text/plain": [
       "<Figure size 1080x360 with 2 Axes>"
      ]
     },
     "metadata": {
      "needs_background": "light"
     },
     "output_type": "display_data"
    }
   ],
   "source": [
    "histplot(history)"
   ]
  },
  {
   "cell_type": "markdown",
   "metadata": {
    "slideshow": {
     "slide_type": "subslide"
    }
   },
   "source": [
    "### Evaluate models"
   ]
  },
  {
   "cell_type": "code",
   "execution_count": 34,
   "metadata": {
    "slideshow": {
     "slide_type": "-"
    }
   },
   "outputs": [
    {
     "name": "stdout",
     "output_type": "stream",
     "text": [
      "FC:   loss: 0.912,  accuracy: 0.869\n",
      "CNN:  loss: 0.624,  accuracy: 0.932\n"
     ]
    }
   ],
   "source": [
    "x_val_1d = process_data(x_val)\n",
    "x_val_2d = x_val_1d.reshape(-1, 28, 28, 1)\n",
    "fcscore = fcmodel.evaluate(x_val_1d, y_val, verbose=0)\n",
    "cnnscore = cnnmodel.evaluate(x_val_2d, y_val, verbose=0)\n",
    "print('FC:   loss: {:.3f},  accuracy: {:.3f}'.format(*fcscore))\n",
    "print('CNN:  loss: {:.3f},  accuracy: {:.3f}'.format(*cnnscore))"
   ]
  },
  {
   "cell_type": "markdown",
   "metadata": {
    "slideshow": {
     "slide_type": "slide"
    }
   },
   "source": [
    "## Online data augmentation"
   ]
  },
  {
   "cell_type": "code",
   "execution_count": 35,
   "metadata": {
    "slideshow": {
     "slide_type": "fragment"
    }
   },
   "outputs": [],
   "source": [
    "from tensorflow.keras.preprocessing.image import ImageDataGenerator\n",
    "\n",
    "datagen = ImageDataGenerator(\n",
    "    rotation_range=10,\n",
    "    width_shift_range=0.05,\n",
    "    height_shift_range=0.05,\n",
    "    shear_range=20.0,\n",
    "    zoom_range=0.05)\n",
    "\n",
    "#datagen.fit(x_train)  # only required if normalizing"
   ]
  },
  {
   "cell_type": "code",
   "execution_count": 36,
   "metadata": {
    "slideshow": {
     "slide_type": "subslide"
    }
   },
   "outputs": [],
   "source": [
    "gen = datagen.flow(x_train, y_train, batch_size=1)"
   ]
  },
  {
   "cell_type": "code",
   "execution_count": 37,
   "metadata": {
    "slideshow": {
     "slide_type": "fragment"
    }
   },
   "outputs": [
    {
     "name": "stdout",
     "output_type": "stream",
     "text": [
      "label = 6\n"
     ]
    },
    {
     "data": {
      "image/png": "[encoded data removed]",
      "text/plain": [
       "<Figure size 432x288 with 5 Axes>"
      ]
     },
     "metadata": {
      "needs_background": "light"
     },
     "output_type": "display_data"
    }
   ],
   "source": [
    "# run this several times to see more augmented examples\n",
    "i = 1\n",
    "fig, axarr = plt.subplots(1, 5)\n",
    "for ax in axarr:\n",
    "    img = gen[i][0][0, : , :, 0]\n",
    "    ax.imshow(img, cmap='gray');\n",
    "    ax.axis('off')\n",
    "print('label =', gen[i][1][0].argmax())"
   ]
  },
  {
   "cell_type": "code",
   "execution_count": 38,
   "metadata": {
    "slideshow": {
     "slide_type": "subslide"
    }
   },
   "outputs": [
    {
     "data": {
      "text/plain": [
       "<tensorflow.python.training.tracking.util.CheckpointLoadStatus at 0x7fc4a19d2130>"
      ]
     },
     "execution_count": 38,
     "metadata": {},
     "output_type": "execute_result"
    }
   ],
   "source": [
    "# Reinitialise model\n",
    "cnnmodel.load_weights('/tmp/cnnmodel_init_weights.tf')"
   ]
  },
  {
   "cell_type": "code",
   "execution_count": 39,
   "metadata": {
    "slideshow": {
     "slide_type": "fragment"
    }
   },
   "outputs": [],
   "source": [
    "cnnmodel.compile(loss='categorical_crossentropy',\n",
    "                 optimizer=RMSprop(),\n",
    "                 metrics=['accuracy'])"
   ]
  },
  {
   "cell_type": "code",
   "execution_count": 40,
   "metadata": {
    "scrolled": true,
    "slideshow": {
     "slide_type": "subslide"
    }
   },
   "outputs": [
    {
     "name": "stdout",
     "output_type": "stream",
     "text": [
      "WARNING:tensorflow:From <ipython-input-40-41f51a0e9c26>:3: Model.fit_generator (from tensorflow.python.keras.engine.training) is deprecated and will be removed in a future version.\n",
      "Instructions for updating:\n",
      "Please use Model.fit, which supports generators.\n",
      "Epoch 1/150\n",
      "19/19 - 0s - loss: 2.2767 - accuracy: 0.1717 - val_loss: 2.2180 - val_accuracy: 0.2802\n",
      "Epoch 2/150\n",
      "19/19 - 0s - loss: 2.1829 - accuracy: 0.3700 - val_loss: 2.0937 - val_accuracy: 0.4688\n",
      "Epoch 3/150\n",
      "19/19 - 0s - loss: 2.0555 - accuracy: 0.4850 - val_loss: 1.9068 - val_accuracy: 0.5308\n",
      "Epoch 4/150\n",
      "19/19 - 0s - loss: 1.8766 - accuracy: 0.5250 - val_loss: 1.6706 - val_accuracy: 0.6484\n",
      "Epoch 5/150\n",
      "19/19 - 0s - loss: 1.6597 - accuracy: 0.6183 - val_loss: 1.4125 - val_accuracy: 0.6750\n",
      "Epoch 6/150\n",
      "19/19 - 0s - loss: 1.4237 - accuracy: 0.6600 - val_loss: 1.1948 - val_accuracy: 0.7054\n",
      "Epoch 7/150\n",
      "19/19 - 0s - loss: 1.2497 - accuracy: 0.6867 - val_loss: 1.0110 - val_accuracy: 0.7410\n",
      "Epoch 8/150\n",
      "19/19 - 0s - loss: 1.0757 - accuracy: 0.7217 - val_loss: 0.8601 - val_accuracy: 0.7818\n",
      "Epoch 9/150\n",
      "19/19 - 0s - loss: 0.9458 - accuracy: 0.7350 - val_loss: 0.7580 - val_accuracy: 0.7760\n",
      "Epoch 10/150\n",
      "19/19 - 0s - loss: 0.8503 - accuracy: 0.7633 - val_loss: 0.6673 - val_accuracy: 0.8050\n",
      "Epoch 11/150\n",
      "19/19 - 0s - loss: 0.8134 - accuracy: 0.7567 - val_loss: 0.6258 - val_accuracy: 0.8166\n",
      "Epoch 12/150\n",
      "19/19 - 0s - loss: 0.7751 - accuracy: 0.7883 - val_loss: 0.5677 - val_accuracy: 0.8346\n",
      "Epoch 13/150\n",
      "19/19 - 0s - loss: 0.6871 - accuracy: 0.8117 - val_loss: 0.5167 - val_accuracy: 0.8482\n",
      "Epoch 14/150\n",
      "19/19 - 0s - loss: 0.6595 - accuracy: 0.7883 - val_loss: 0.4922 - val_accuracy: 0.8554\n",
      "Epoch 15/150\n",
      "19/19 - 0s - loss: 0.6027 - accuracy: 0.8117 - val_loss: 0.4805 - val_accuracy: 0.8508\n",
      "Epoch 16/150\n",
      "19/19 - 0s - loss: 0.5254 - accuracy: 0.8500 - val_loss: 0.4299 - val_accuracy: 0.8710\n",
      "Epoch 17/150\n",
      "19/19 - 0s - loss: 0.5415 - accuracy: 0.8367 - val_loss: 0.4344 - val_accuracy: 0.8624\n",
      "Epoch 18/150\n",
      "19/19 - 0s - loss: 0.5335 - accuracy: 0.8400 - val_loss: 0.3890 - val_accuracy: 0.8828\n",
      "Epoch 19/150\n",
      "19/19 - 0s - loss: 0.4889 - accuracy: 0.8483 - val_loss: 0.4160 - val_accuracy: 0.8684\n",
      "Epoch 20/150\n",
      "19/19 - 0s - loss: 0.4992 - accuracy: 0.8367 - val_loss: 0.3764 - val_accuracy: 0.8796\n",
      "Epoch 21/150\n",
      "19/19 - 0s - loss: 0.4227 - accuracy: 0.8750 - val_loss: 0.3801 - val_accuracy: 0.8786\n",
      "Epoch 22/150\n",
      "19/19 - 0s - loss: 0.4561 - accuracy: 0.8683 - val_loss: 0.3643 - val_accuracy: 0.8890\n",
      "Epoch 23/150\n",
      "19/19 - 0s - loss: 0.4091 - accuracy: 0.8783 - val_loss: 0.3381 - val_accuracy: 0.8974\n",
      "Epoch 24/150\n",
      "19/19 - 0s - loss: 0.3974 - accuracy: 0.8867 - val_loss: 0.3193 - val_accuracy: 0.9040\n",
      "Epoch 25/150\n",
      "19/19 - 0s - loss: 0.4395 - accuracy: 0.8567 - val_loss: 0.3394 - val_accuracy: 0.8974\n",
      "Epoch 26/150\n",
      "19/19 - 0s - loss: 0.4212 - accuracy: 0.8650 - val_loss: 0.2928 - val_accuracy: 0.9136\n",
      "Epoch 27/150\n",
      "19/19 - 0s - loss: 0.3733 - accuracy: 0.8950 - val_loss: 0.3207 - val_accuracy: 0.8944\n",
      "Epoch 28/150\n",
      "19/19 - 0s - loss: 0.3970 - accuracy: 0.8700 - val_loss: 0.3178 - val_accuracy: 0.8982\n",
      "Epoch 29/150\n",
      "19/19 - 0s - loss: 0.4235 - accuracy: 0.8750 - val_loss: 0.3108 - val_accuracy: 0.9024\n",
      "Epoch 30/150\n",
      "19/19 - 0s - loss: 0.3702 - accuracy: 0.8883 - val_loss: 0.2902 - val_accuracy: 0.9122\n",
      "Epoch 31/150\n",
      "19/19 - 0s - loss: 0.3983 - accuracy: 0.8817 - val_loss: 0.2629 - val_accuracy: 0.9186\n",
      "Epoch 32/150\n",
      "19/19 - 0s - loss: 0.3693 - accuracy: 0.8967 - val_loss: 0.2625 - val_accuracy: 0.9182\n",
      "Epoch 33/150\n",
      "19/19 - 0s - loss: 0.3536 - accuracy: 0.8983 - val_loss: 0.2818 - val_accuracy: 0.9166\n",
      "Epoch 34/150\n",
      "19/19 - 0s - loss: 0.3489 - accuracy: 0.8950 - val_loss: 0.2555 - val_accuracy: 0.9224\n",
      "Epoch 35/150\n",
      "19/19 - 0s - loss: 0.3461 - accuracy: 0.8850 - val_loss: 0.2570 - val_accuracy: 0.9194\n",
      "Epoch 36/150\n",
      "19/19 - 0s - loss: 0.3400 - accuracy: 0.8900 - val_loss: 0.2529 - val_accuracy: 0.9256\n",
      "Epoch 37/150\n",
      "19/19 - 0s - loss: 0.3702 - accuracy: 0.9017 - val_loss: 0.2532 - val_accuracy: 0.9194\n",
      "Epoch 38/150\n",
      "19/19 - 0s - loss: 0.3263 - accuracy: 0.8917 - val_loss: 0.2596 - val_accuracy: 0.9194\n",
      "Epoch 39/150\n",
      "19/19 - 0s - loss: 0.3070 - accuracy: 0.9100 - val_loss: 0.2351 - val_accuracy: 0.9278\n",
      "Epoch 40/150\n",
      "19/19 - 0s - loss: 0.3075 - accuracy: 0.9100 - val_loss: 0.2353 - val_accuracy: 0.9312\n",
      "Epoch 41/150\n",
      "19/19 - 0s - loss: 0.2834 - accuracy: 0.9167 - val_loss: 0.2594 - val_accuracy: 0.9206\n",
      "Epoch 42/150\n",
      "19/19 - 0s - loss: 0.3131 - accuracy: 0.9183 - val_loss: 0.2754 - val_accuracy: 0.9114\n",
      "Epoch 43/150\n",
      "19/19 - 0s - loss: 0.3092 - accuracy: 0.8900 - val_loss: 0.2202 - val_accuracy: 0.9336\n",
      "Epoch 44/150\n",
      "19/19 - 0s - loss: 0.2518 - accuracy: 0.9200 - val_loss: 0.2296 - val_accuracy: 0.9288\n",
      "Epoch 45/150\n",
      "19/19 - 0s - loss: 0.2682 - accuracy: 0.9150 - val_loss: 0.2313 - val_accuracy: 0.9326\n",
      "Epoch 46/150\n",
      "19/19 - 0s - loss: 0.2876 - accuracy: 0.8983 - val_loss: 0.2365 - val_accuracy: 0.9292\n",
      "Epoch 47/150\n",
      "19/19 - 0s - loss: 0.2811 - accuracy: 0.9317 - val_loss: 0.2437 - val_accuracy: 0.9262\n",
      "Epoch 48/150\n",
      "19/19 - 0s - loss: 0.2704 - accuracy: 0.9217 - val_loss: 0.2176 - val_accuracy: 0.9342\n",
      "Epoch 49/150\n",
      "19/19 - 0s - loss: 0.2634 - accuracy: 0.9100 - val_loss: 0.2412 - val_accuracy: 0.9258\n",
      "Epoch 50/150\n",
      "19/19 - 0s - loss: 0.2827 - accuracy: 0.9033 - val_loss: 0.2115 - val_accuracy: 0.9376\n",
      "Epoch 51/150\n",
      "19/19 - 0s - loss: 0.2513 - accuracy: 0.9083 - val_loss: 0.1994 - val_accuracy: 0.9402\n",
      "Epoch 52/150\n",
      "19/19 - 0s - loss: 0.2407 - accuracy: 0.9250 - val_loss: 0.2107 - val_accuracy: 0.9396\n",
      "Epoch 53/150\n",
      "19/19 - 0s - loss: 0.2633 - accuracy: 0.9183 - val_loss: 0.2245 - val_accuracy: 0.9294\n",
      "Epoch 54/150\n",
      "19/19 - 0s - loss: 0.2241 - accuracy: 0.9350 - val_loss: 0.2200 - val_accuracy: 0.9332\n",
      "Epoch 55/150\n",
      "19/19 - 0s - loss: 0.2461 - accuracy: 0.9250 - val_loss: 0.2224 - val_accuracy: 0.9308\n",
      "Epoch 56/150\n",
      "19/19 - 0s - loss: 0.2326 - accuracy: 0.9233 - val_loss: 0.1946 - val_accuracy: 0.9442\n",
      "Epoch 57/150\n",
      "19/19 - 0s - loss: 0.2579 - accuracy: 0.9117 - val_loss: 0.2170 - val_accuracy: 0.9344\n",
      "Epoch 58/150\n",
      "19/19 - 0s - loss: 0.2779 - accuracy: 0.9067 - val_loss: 0.2175 - val_accuracy: 0.9332\n",
      "Epoch 59/150\n",
      "19/19 - 0s - loss: 0.2393 - accuracy: 0.9250 - val_loss: 0.1986 - val_accuracy: 0.9420\n",
      "Epoch 60/150\n",
      "19/19 - 0s - loss: 0.2266 - accuracy: 0.9283 - val_loss: 0.2103 - val_accuracy: 0.9382\n",
      "Epoch 61/150\n",
      "19/19 - 0s - loss: 0.2355 - accuracy: 0.9300 - val_loss: 0.2057 - val_accuracy: 0.9366\n",
      "Epoch 62/150\n",
      "19/19 - 0s - loss: 0.1866 - accuracy: 0.9483 - val_loss: 0.1943 - val_accuracy: 0.9458\n",
      "Epoch 63/150\n",
      "19/19 - 0s - loss: 0.2298 - accuracy: 0.9150 - val_loss: 0.2311 - val_accuracy: 0.9322\n",
      "Epoch 64/150\n",
      "19/19 - 0s - loss: 0.2634 - accuracy: 0.9167 - val_loss: 0.1901 - val_accuracy: 0.9446\n",
      "Epoch 65/150\n",
      "19/19 - 0s - loss: 0.2512 - accuracy: 0.9283 - val_loss: 0.1888 - val_accuracy: 0.9462\n",
      "Epoch 66/150\n",
      "19/19 - 0s - loss: 0.2116 - accuracy: 0.9367 - val_loss: 0.1902 - val_accuracy: 0.9448\n",
      "Epoch 67/150\n",
      "19/19 - 0s - loss: 0.2129 - accuracy: 0.9317 - val_loss: 0.2016 - val_accuracy: 0.9404\n",
      "Epoch 68/150\n",
      "19/19 - 0s - loss: 0.2005 - accuracy: 0.9450 - val_loss: 0.2109 - val_accuracy: 0.9376\n",
      "Epoch 69/150\n",
      "19/19 - 0s - loss: 0.1980 - accuracy: 0.9433 - val_loss: 0.1908 - val_accuracy: 0.9446\n",
      "Epoch 70/150\n",
      "19/19 - 0s - loss: 0.2163 - accuracy: 0.9350 - val_loss: 0.1901 - val_accuracy: 0.9452\n",
      "Epoch 71/150\n",
      "19/19 - 0s - loss: 0.1648 - accuracy: 0.9533 - val_loss: 0.1889 - val_accuracy: 0.9444\n",
      "Epoch 72/150\n",
      "19/19 - 0s - loss: 0.2060 - accuracy: 0.9283 - val_loss: 0.1855 - val_accuracy: 0.9452\n",
      "Epoch 73/150\n",
      "19/19 - 0s - loss: 0.2189 - accuracy: 0.9250 - val_loss: 0.1877 - val_accuracy: 0.9448\n",
      "Epoch 74/150\n",
      "19/19 - 0s - loss: 0.1688 - accuracy: 0.9400 - val_loss: 0.1791 - val_accuracy: 0.9468\n",
      "Epoch 75/150\n",
      "19/19 - 0s - loss: 0.1889 - accuracy: 0.9383 - val_loss: 0.1908 - val_accuracy: 0.9438\n",
      "Epoch 76/150\n",
      "19/19 - 0s - loss: 0.2107 - accuracy: 0.9333 - val_loss: 0.1784 - val_accuracy: 0.9478\n",
      "Epoch 77/150\n",
      "19/19 - 0s - loss: 0.1805 - accuracy: 0.9383 - val_loss: 0.1788 - val_accuracy: 0.9476\n",
      "Epoch 78/150\n",
      "19/19 - 0s - loss: 0.1954 - accuracy: 0.9317 - val_loss: 0.1749 - val_accuracy: 0.9506\n",
      "Epoch 79/150\n",
      "19/19 - 0s - loss: 0.1737 - accuracy: 0.9450 - val_loss: 0.1723 - val_accuracy: 0.9512\n",
      "Epoch 80/150\n",
      "19/19 - 0s - loss: 0.2083 - accuracy: 0.9233 - val_loss: 0.1977 - val_accuracy: 0.9426\n"
     ]
    },
    {
     "name": "stdout",
     "output_type": "stream",
     "text": [
      "Epoch 81/150\n",
      "19/19 - 0s - loss: 0.2067 - accuracy: 0.9283 - val_loss: 0.1830 - val_accuracy: 0.9466\n",
      "Epoch 82/150\n",
      "19/19 - 0s - loss: 0.1667 - accuracy: 0.9450 - val_loss: 0.1820 - val_accuracy: 0.9472\n",
      "Epoch 83/150\n",
      "19/19 - 0s - loss: 0.2049 - accuracy: 0.9433 - val_loss: 0.1806 - val_accuracy: 0.9474\n",
      "Epoch 84/150\n",
      "19/19 - 0s - loss: 0.1897 - accuracy: 0.9433 - val_loss: 0.1840 - val_accuracy: 0.9466\n",
      "Epoch 85/150\n",
      "19/19 - 0s - loss: 0.1923 - accuracy: 0.9417 - val_loss: 0.1654 - val_accuracy: 0.9544\n",
      "Epoch 86/150\n",
      "19/19 - 0s - loss: 0.1812 - accuracy: 0.9417 - val_loss: 0.1756 - val_accuracy: 0.9510\n",
      "Epoch 87/150\n",
      "19/19 - 0s - loss: 0.1863 - accuracy: 0.9400 - val_loss: 0.1634 - val_accuracy: 0.9542\n",
      "Epoch 88/150\n",
      "19/19 - 0s - loss: 0.2004 - accuracy: 0.9200 - val_loss: 0.1735 - val_accuracy: 0.9492\n",
      "Epoch 89/150\n",
      "19/19 - 0s - loss: 0.1957 - accuracy: 0.9467 - val_loss: 0.1713 - val_accuracy: 0.9538\n",
      "Epoch 90/150\n",
      "19/19 - 0s - loss: 0.1530 - accuracy: 0.9567 - val_loss: 0.1683 - val_accuracy: 0.9530\n",
      "Epoch 91/150\n",
      "19/19 - 0s - loss: 0.1692 - accuracy: 0.9367 - val_loss: 0.1656 - val_accuracy: 0.9550\n",
      "Epoch 92/150\n",
      "19/19 - 0s - loss: 0.1634 - accuracy: 0.9483 - val_loss: 0.1962 - val_accuracy: 0.9418\n",
      "Epoch 93/150\n",
      "19/19 - 0s - loss: 0.1884 - accuracy: 0.9317 - val_loss: 0.1933 - val_accuracy: 0.9414\n",
      "Epoch 94/150\n",
      "19/19 - 0s - loss: 0.1821 - accuracy: 0.9333 - val_loss: 0.1803 - val_accuracy: 0.9472\n",
      "Epoch 95/150\n",
      "19/19 - 0s - loss: 0.1700 - accuracy: 0.9450 - val_loss: 0.1666 - val_accuracy: 0.9576\n",
      "Epoch 96/150\n",
      "19/19 - 0s - loss: 0.2004 - accuracy: 0.9317 - val_loss: 0.1640 - val_accuracy: 0.9526\n",
      "Epoch 97/150\n",
      "19/19 - 0s - loss: 0.1703 - accuracy: 0.9283 - val_loss: 0.1810 - val_accuracy: 0.9478\n",
      "Epoch 98/150\n",
      "19/19 - 0s - loss: 0.1552 - accuracy: 0.9450 - val_loss: 0.1761 - val_accuracy: 0.9494\n",
      "Epoch 99/150\n",
      "19/19 - 0s - loss: 0.1787 - accuracy: 0.9350 - val_loss: 0.1686 - val_accuracy: 0.9544\n",
      "Epoch 100/150\n",
      "19/19 - 0s - loss: 0.1256 - accuracy: 0.9617 - val_loss: 0.1700 - val_accuracy: 0.9522\n",
      "Epoch 101/150\n",
      "19/19 - 0s - loss: 0.1633 - accuracy: 0.9467 - val_loss: 0.1763 - val_accuracy: 0.9520\n",
      "Epoch 102/150\n",
      "19/19 - 0s - loss: 0.1463 - accuracy: 0.9500 - val_loss: 0.1683 - val_accuracy: 0.9518\n",
      "Epoch 103/150\n",
      "19/19 - 0s - loss: 0.1743 - accuracy: 0.9400 - val_loss: 0.1712 - val_accuracy: 0.9510\n",
      "Epoch 104/150\n",
      "19/19 - 0s - loss: 0.1328 - accuracy: 0.9483 - val_loss: 0.1787 - val_accuracy: 0.9504\n",
      "Epoch 105/150\n",
      "19/19 - 0s - loss: 0.1552 - accuracy: 0.9500 - val_loss: 0.1617 - val_accuracy: 0.9558\n",
      "Epoch 106/150\n",
      "19/19 - 0s - loss: 0.1381 - accuracy: 0.9550 - val_loss: 0.1596 - val_accuracy: 0.9602\n",
      "Epoch 107/150\n",
      "19/19 - 0s - loss: 0.1746 - accuracy: 0.9367 - val_loss: 0.1697 - val_accuracy: 0.9552\n",
      "Epoch 108/150\n",
      "19/19 - 0s - loss: 0.1115 - accuracy: 0.9633 - val_loss: 0.2128 - val_accuracy: 0.9388\n",
      "Epoch 109/150\n",
      "19/19 - 0s - loss: 0.1408 - accuracy: 0.9567 - val_loss: 0.1632 - val_accuracy: 0.9538\n",
      "Epoch 110/150\n",
      "19/19 - 0s - loss: 0.1955 - accuracy: 0.9383 - val_loss: 0.1639 - val_accuracy: 0.9544\n",
      "Epoch 111/150\n",
      "19/19 - 0s - loss: 0.1678 - accuracy: 0.9450 - val_loss: 0.1910 - val_accuracy: 0.9452\n",
      "Epoch 112/150\n",
      "19/19 - 0s - loss: 0.1605 - accuracy: 0.9417 - val_loss: 0.1641 - val_accuracy: 0.9560\n",
      "Epoch 113/150\n",
      "19/19 - 0s - loss: 0.1595 - accuracy: 0.9567 - val_loss: 0.1658 - val_accuracy: 0.9534\n",
      "Epoch 114/150\n",
      "19/19 - 0s - loss: 0.1376 - accuracy: 0.9600 - val_loss: 0.1598 - val_accuracy: 0.9552\n",
      "Epoch 115/150\n",
      "19/19 - 0s - loss: 0.1459 - accuracy: 0.9417 - val_loss: 0.1707 - val_accuracy: 0.9530\n",
      "Epoch 116/150\n",
      "19/19 - 0s - loss: 0.1382 - accuracy: 0.9517 - val_loss: 0.1865 - val_accuracy: 0.9480\n",
      "Epoch 117/150\n",
      "19/19 - 0s - loss: 0.1565 - accuracy: 0.9550 - val_loss: 0.1935 - val_accuracy: 0.9472\n",
      "Epoch 118/150\n",
      "19/19 - 0s - loss: 0.1546 - accuracy: 0.9533 - val_loss: 0.1629 - val_accuracy: 0.9558\n",
      "Epoch 119/150\n",
      "19/19 - 0s - loss: 0.1465 - accuracy: 0.9550 - val_loss: 0.1562 - val_accuracy: 0.9582\n",
      "Epoch 120/150\n",
      "19/19 - 0s - loss: 0.1423 - accuracy: 0.9583 - val_loss: 0.1698 - val_accuracy: 0.9528\n",
      "Epoch 121/150\n",
      "19/19 - 0s - loss: 0.1027 - accuracy: 0.9650 - val_loss: 0.1746 - val_accuracy: 0.9538\n",
      "Epoch 122/150\n",
      "19/19 - 0s - loss: 0.1539 - accuracy: 0.9500 - val_loss: 0.1701 - val_accuracy: 0.9528\n",
      "Epoch 123/150\n",
      "19/19 - 0s - loss: 0.1130 - accuracy: 0.9650 - val_loss: 0.1900 - val_accuracy: 0.9466\n",
      "Epoch 124/150\n",
      "19/19 - 0s - loss: 0.1282 - accuracy: 0.9600 - val_loss: 0.1683 - val_accuracy: 0.9518\n",
      "Epoch 125/150\n",
      "19/19 - 0s - loss: 0.1452 - accuracy: 0.9550 - val_loss: 0.1577 - val_accuracy: 0.9560\n",
      "Epoch 126/150\n",
      "19/19 - 0s - loss: 0.1103 - accuracy: 0.9650 - val_loss: 0.1774 - val_accuracy: 0.9488\n",
      "Epoch 127/150\n",
      "19/19 - 0s - loss: 0.1210 - accuracy: 0.9617 - val_loss: 0.1673 - val_accuracy: 0.9536\n",
      "Epoch 128/150\n",
      "19/19 - 0s - loss: 0.1608 - accuracy: 0.9500 - val_loss: 0.1728 - val_accuracy: 0.9550\n",
      "Epoch 129/150\n",
      "19/19 - 0s - loss: 0.1350 - accuracy: 0.9517 - val_loss: 0.1644 - val_accuracy: 0.9534\n",
      "Epoch 130/150\n",
      "19/19 - 0s - loss: 0.1153 - accuracy: 0.9617 - val_loss: 0.1680 - val_accuracy: 0.9510\n",
      "Epoch 131/150\n",
      "19/19 - 0s - loss: 0.1112 - accuracy: 0.9650 - val_loss: 0.1808 - val_accuracy: 0.9498\n",
      "Epoch 132/150\n",
      "19/19 - 0s - loss: 0.1131 - accuracy: 0.9583 - val_loss: 0.1601 - val_accuracy: 0.9558\n",
      "Epoch 133/150\n",
      "19/19 - 0s - loss: 0.1410 - accuracy: 0.9533 - val_loss: 0.1565 - val_accuracy: 0.9584\n",
      "Epoch 134/150\n",
      "19/19 - 0s - loss: 0.1173 - accuracy: 0.9600 - val_loss: 0.1671 - val_accuracy: 0.9562\n",
      "Epoch 135/150\n",
      "19/19 - 0s - loss: 0.1371 - accuracy: 0.9550 - val_loss: 0.1602 - val_accuracy: 0.9554\n",
      "Epoch 136/150\n",
      "19/19 - 0s - loss: 0.1243 - accuracy: 0.9550 - val_loss: 0.1784 - val_accuracy: 0.9500\n",
      "Epoch 137/150\n",
      "19/19 - 0s - loss: 0.1263 - accuracy: 0.9583 - val_loss: 0.1555 - val_accuracy: 0.9584\n",
      "Epoch 138/150\n",
      "19/19 - 0s - loss: 0.1183 - accuracy: 0.9567 - val_loss: 0.1754 - val_accuracy: 0.9528\n",
      "Epoch 139/150\n",
      "19/19 - 0s - loss: 0.1265 - accuracy: 0.9617 - val_loss: 0.1718 - val_accuracy: 0.9514\n",
      "Epoch 140/150\n",
      "19/19 - 0s - loss: 0.1421 - accuracy: 0.9567 - val_loss: 0.1602 - val_accuracy: 0.9548\n",
      "Epoch 141/150\n",
      "19/19 - 0s - loss: 0.1433 - accuracy: 0.9450 - val_loss: 0.1770 - val_accuracy: 0.9496\n",
      "Epoch 142/150\n",
      "19/19 - 0s - loss: 0.1243 - accuracy: 0.9633 - val_loss: 0.1691 - val_accuracy: 0.9530\n",
      "Epoch 143/150\n",
      "19/19 - 0s - loss: 0.1109 - accuracy: 0.9650 - val_loss: 0.1834 - val_accuracy: 0.9492\n",
      "Epoch 144/150\n",
      "19/19 - 0s - loss: 0.0995 - accuracy: 0.9683 - val_loss: 0.1628 - val_accuracy: 0.9568\n",
      "Epoch 145/150\n",
      "19/19 - 0s - loss: 0.1393 - accuracy: 0.9550 - val_loss: 0.1691 - val_accuracy: 0.9524\n",
      "Epoch 146/150\n",
      "19/19 - 0s - loss: 0.1569 - accuracy: 0.9517 - val_loss: 0.1594 - val_accuracy: 0.9548\n",
      "Epoch 147/150\n",
      "19/19 - 0s - loss: 0.1358 - accuracy: 0.9667 - val_loss: 0.1620 - val_accuracy: 0.9560\n",
      "Epoch 148/150\n",
      "19/19 - 0s - loss: 0.1128 - accuracy: 0.9617 - val_loss: 0.1543 - val_accuracy: 0.9566\n",
      "Epoch 149/150\n",
      "19/19 - 0s - loss: 0.1307 - accuracy: 0.9583 - val_loss: 0.1677 - val_accuracy: 0.9562\n",
      "Epoch 150/150\n",
      "19/19 - 0s - loss: 0.1356 - accuracy: 0.9483 - val_loss: 0.1586 - val_accuracy: 0.9604\n"
     ]
    }
   ],
   "source": [
    "# fits the model on batches with real-time data augmentation:\n",
    "# the accuracy continues to (slowly) rise, due to the augmentation\n",
    "history = cnnmodel.fit_generator(datagen.flow(x_train, y_train, batch_size=batch_size), \n",
    "                                 epochs=3*epochs,\n",
    "                                 verbose=2,\n",
    "                                 validation_data=(x_test, y_test))"
   ]
  },
  {
   "cell_type": "code",
   "execution_count": 41,
   "metadata": {
    "scrolled": true,
    "slideshow": {
     "slide_type": "subslide"
    }
   },
   "outputs": [
    {
     "data": {
      "image/png": "[encoded data removed]",
      "text/plain": [
       "<Figure size 1080x360 with 2 Axes>"
      ]
     },
     "metadata": {
      "needs_background": "light"
     },
     "output_type": "display_data"
    }
   ],
   "source": [
    "histplot(history)"
   ]
  },
  {
   "cell_type": "markdown",
   "metadata": {
    "slideshow": {
     "slide_type": "fragment"
    }
   },
   "source": [
    "Data augmentation reduced number of misclassifications by half."
   ]
  },
  {
   "cell_type": "markdown",
   "metadata": {
    "slideshow": {
     "slide_type": "slide"
    }
   },
   "source": [
    "### Any questions?"
   ]
  }
 ],
 "metadata": {
  "anaconda-cloud": {},
  "celltoolbar": "Slideshow",
  "hide_input": false,
  "kernelspec": {
   "display_name": "Python [conda env:course]",
   "language": "python",
   "name": "conda-env-course-py"
  },
  "language_info": {
   "codemirror_mode": {
    "name": "ipython",
    "version": 3
   },
   "file_extension": ".py",
   "mimetype": "text/x-python",
   "name": "python",
   "nbconvert_exporter": "python",
   "pygments_lexer": "ipython3",
   "version": "3.8.5"
  },
  "latex_envs": {
   "LaTeX_envs_menu_present": true,
   "autocomplete": true,
   "bibliofile": "biblio.bib",
   "cite_by": "apalike",
   "current_citInitial": 1,
   "eqLabelWithNumbers": true,
   "eqNumInitial": 1,
   "hotkeys": {
    "equation": "Ctrl-E",
    "itemize": "Ctrl-I"
   },
   "labels_anchors": false,
   "latex_user_defs": false,
   "report_style_numbering": false,
   "user_envs_cfg": false
  },
  "livereveal": {
   "scroll": true
  }
 },
 "nbformat": 4,
 "nbformat_minor": 2
}
