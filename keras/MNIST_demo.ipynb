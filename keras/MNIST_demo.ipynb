{
 "cells": [
  {
   "cell_type": "markdown",
   "metadata": {
    "slideshow": {
     "slide_type": "slide"
    }
   },
   "source": [
    "# Training simple neural networks on the MNIST dataset using keras"
   ]
  },
  {
   "cell_type": "markdown",
   "metadata": {
    "slideshow": {
     "slide_type": "subslide"
    }
   },
   "source": [
    "### Setting up your environment\n",
    "\n",
    "You can create a suitable conda environment to run this notebook using:\n",
    "\n",
    "    conda create -n keras_demo python=3 tensorflow matplotlib ipykernel scikit-learn pandas\n",
    "    \n",
    "Use `tensorflow-gpu` if you have a suitable GPU. If you have a GPU but haven't got the latest cuda drivers installed, you may also need to specify `cudatoolkit=9.0` or similar.\n",
    "\n",
    "You may need to use `pip` to install the latest version of tensorflow and/or in an existing environment."
   ]
  },
  {
   "cell_type": "markdown",
   "metadata": {
    "slideshow": {
     "slide_type": "slide"
    }
   },
   "source": [
    "### First some common imports..."
   ]
  },
  {
   "cell_type": "code",
   "execution_count": 1,
   "metadata": {
    "slideshow": {
     "slide_type": "fragment"
    }
   },
   "outputs": [],
   "source": [
    "%matplotlib inline\n",
    "from matplotlib import pyplot as plt\n",
    "import numpy as np\n",
    "import pandas as pd"
   ]
  },
  {
   "cell_type": "markdown",
   "metadata": {
    "slideshow": {
     "slide_type": "slide"
    }
   },
   "source": [
    "### Set up TensorFlow in a friendly manner"
   ]
  },
  {
   "cell_type": "code",
   "execution_count": 2,
   "metadata": {
    "slideshow": {
     "slide_type": "fragment"
    }
   },
   "outputs": [
    {
     "name": "stdout",
     "output_type": "stream",
     "text": [
      "Tensorflow using CPU\n"
     ]
    }
   ],
   "source": [
    "import tensorflow as tf\n",
    "\n",
    "gpus = tf.config.experimental.list_physical_devices('GPU')\n",
    "if gpus:\n",
    "    print(gpus)\n",
    "    try:\n",
    "        # Turn on memory growth\n",
    "        for gpu in gpus:\n",
    "            tf.config.experimental.set_memory_growth(gpu, True)\n",
    "            #tf.config.experimental.set_virtual_device_configuration(gpu,\n",
    "            #      [tf.config.experimental.VirtualDeviceConfiguration(memory_limit=1024)])\n",
    "        # Restrict TensorFlow to only use the first GPU\n",
    "        tf.config.experimental.set_visible_devices(gpus[1], 'GPU')\n",
    "        logical_gpus = tf.config.experimental.list_logical_devices('GPU')\n",
    "        print(logical_gpus)\n",
    "    except RuntimeError as e:\n",
    "        # Visible devices must be set before GPUs have been initialized\n",
    "        print(e)\n",
    "else:\n",
    "    print(f'Tensorflow using CPU')"
   ]
  },
  {
   "cell_type": "code",
   "execution_count": 3,
   "metadata": {
    "scrolled": true,
    "slideshow": {
     "slide_type": "fragment"
    }
   },
   "outputs": [
    {
     "data": {
      "text/plain": [
       "[name: \"/device:CPU:0\"\n",
       " device_type: \"CPU\"\n",
       " memory_limit: 268435456\n",
       " locality {\n",
       " }\n",
       " incarnation: 16500109075104841715,\n",
       " name: \"/device:XLA_CPU:0\"\n",
       " device_type: \"XLA_CPU\"\n",
       " memory_limit: 17179869184\n",
       " locality {\n",
       " }\n",
       " incarnation: 1949301378266683509\n",
       " physical_device_desc: \"device: XLA_CPU device\"]"
      ]
     },
     "execution_count": 3,
     "metadata": {},
     "output_type": "execute_result"
    }
   ],
   "source": [
    "# check that we have the devices we expect available\n",
    "from tensorflow.python.client import device_lib\n",
    "device_lib.list_local_devices()"
   ]
  },
  {
   "cell_type": "markdown",
   "metadata": {
    "slideshow": {
     "slide_type": "slide"
    }
   },
   "source": [
    "### Import keras bits and pieces"
   ]
  },
  {
   "cell_type": "code",
   "execution_count": 4,
   "metadata": {
    "slideshow": {
     "slide_type": "fragment"
    }
   },
   "outputs": [],
   "source": [
    "# if you have a recent version of tensorflow, keras is included\n",
    "from tensorflow import keras\n",
    "from tensorflow.keras.datasets import mnist\n",
    "from tensorflow.keras.models import Sequential\n",
    "from tensorflow.keras.layers import Dense, Dropout, Conv2D, MaxPooling2D, Flatten\n",
    "from tensorflow.keras.optimizers import RMSprop"
   ]
  },
  {
   "cell_type": "markdown",
   "metadata": {
    "slideshow": {
     "slide_type": "slide"
    }
   },
   "source": [
    "### We will use a standard demonstration data set: MNIST handwritten digits"
   ]
  },
  {
   "cell_type": "code",
   "execution_count": 5,
   "metadata": {
    "slideshow": {
     "slide_type": "fragment"
    }
   },
   "outputs": [],
   "source": [
    "# the data, split between train and test sets\n",
    "(x_train, y_train), (x_valtest, y_valtest) = mnist.load_data()"
   ]
  },
  {
   "cell_type": "code",
   "execution_count": 6,
   "metadata": {
    "slideshow": {
     "slide_type": "skip"
    }
   },
   "outputs": [],
   "source": [
    "# demo the effect of noisy data\n",
    "#x_train = (x_train/5 + np.random.poisson(200, size=x_train.shape)).clip(0, 255)\n",
    "#x_valtest = (x_valtest/5 + np.random.poisson(200, size=x_valtest.shape)).clip(0, 255)"
   ]
  },
  {
   "cell_type": "code",
   "execution_count": 7,
   "metadata": {
    "slideshow": {
     "slide_type": "fragment"
    }
   },
   "outputs": [],
   "source": [
    "# if we wanted to test our model on limited data,\n",
    "# we could reduce the amount of training data like this...\n",
    "idx = np.random.choice(len(x_train), size=len(x_train)//100)\n",
    "x_train = x_train[idx]\n",
    "y_train = y_train[idx]"
   ]
  },
  {
   "cell_type": "markdown",
   "metadata": {
    "slideshow": {
     "slide_type": "fragment"
    }
   },
   "source": [
    "If your data isn't split, or want a validation set, need to do split manually"
   ]
  },
  {
   "cell_type": "code",
   "execution_count": 8,
   "metadata": {
    "slideshow": {
     "slide_type": "fragment"
    }
   },
   "outputs": [],
   "source": [
    "from sklearn.model_selection import train_test_split\n",
    "x_test, x_val, y_test, y_val = train_test_split(x_valtest, y_valtest, test_size=0.5)"
   ]
  },
  {
   "cell_type": "code",
   "execution_count": 9,
   "metadata": {
    "slideshow": {
     "slide_type": "fragment"
    }
   },
   "outputs": [
    {
     "data": {
      "text/plain": [
       "((600, 28, 28), (600,))"
      ]
     },
     "execution_count": 9,
     "metadata": {},
     "output_type": "execute_result"
    }
   ],
   "source": [
    "x_train.shape, y_train.shape"
   ]
  },
  {
   "cell_type": "code",
   "execution_count": 10,
   "metadata": {
    "slideshow": {
     "slide_type": "fragment"
    }
   },
   "outputs": [
    {
     "data": {
      "text/plain": [
       "((5000, 28, 28), (5000,))"
      ]
     },
     "execution_count": 10,
     "metadata": {},
     "output_type": "execute_result"
    }
   ],
   "source": [
    "x_test.shape, y_test.shape"
   ]
  },
  {
   "cell_type": "code",
   "execution_count": 11,
   "metadata": {
    "slideshow": {
     "slide_type": "fragment"
    }
   },
   "outputs": [
    {
     "data": {
      "text/plain": [
       "((5000, 28, 28), (5000,))"
      ]
     },
     "execution_count": 11,
     "metadata": {},
     "output_type": "execute_result"
    }
   ],
   "source": [
    "x_val.shape, y_val.shape"
   ]
  },
  {
   "cell_type": "markdown",
   "metadata": {
    "slideshow": {
     "slide_type": "slide"
    }
   },
   "source": [
    "### Take a look at the data\n",
    "\n",
    "This is a very quick glance - you should carefully examine any new dataset"
   ]
  },
  {
   "cell_type": "code",
   "execution_count": 12,
   "metadata": {
    "slideshow": {
     "slide_type": "fragment"
    }
   },
   "outputs": [
    {
     "name": "stdout",
     "output_type": "stream",
     "text": [
      "class = 6\n"
     ]
    },
    {
     "data": {
      "image/png": "[encoded data removed]",
      "text/plain": [
       "<Figure size 432x288 with 1 Axes>"
      ]
     },
     "metadata": {
      "needs_background": "light"
     },
     "output_type": "display_data"
    }
   ],
   "source": [
    "i = 3\n",
    "plt.imshow(x_train[i], cmap='gray')\n",
    "print('class =', y_train[i])"
   ]
  },
  {
   "cell_type": "markdown",
   "metadata": {
    "slideshow": {
     "slide_type": "slide"
    }
   },
   "source": [
    "### Prepare the data"
   ]
  },
  {
   "cell_type": "code",
   "execution_count": 13,
   "metadata": {
    "slideshow": {
     "slide_type": "fragment"
    }
   },
   "outputs": [],
   "source": [
    "# convert class vectors to \"one-hot\" binary class matrices\n",
    "num_classes = 10\n",
    "y_train = keras.utils.to_categorical(y_train, num_classes)\n",
    "y_test = keras.utils.to_categorical(y_test, num_classes)\n",
    "y_val = keras.utils.to_categorical(y_val, num_classes)"
   ]
  },
  {
   "cell_type": "code",
   "execution_count": 14,
   "metadata": {
    "slideshow": {
     "slide_type": "fragment"
    }
   },
   "outputs": [
    {
     "data": {
      "text/plain": [
       "array([0., 0., 0., 0., 0., 0., 1., 0., 0., 0.], dtype=float32)"
      ]
     },
     "execution_count": 14,
     "metadata": {},
     "output_type": "execute_result"
    }
   ],
   "source": [
    "y_train[i]"
   ]
  },
  {
   "cell_type": "code",
   "execution_count": 15,
   "metadata": {
    "slideshow": {
     "slide_type": "fragment"
    }
   },
   "outputs": [],
   "source": [
    "def process_data(x):\n",
    "    x = x.reshape(-1, 784)\n",
    "    x = x.astype('float32')\n",
    "    x /= 255\n",
    "    return x"
   ]
  },
  {
   "cell_type": "code",
   "execution_count": 16,
   "metadata": {
    "slideshow": {
     "slide_type": "fragment"
    }
   },
   "outputs": [],
   "source": [
    "x_train = process_data(x_train)\n",
    "x_test = process_data(x_test)\n",
    "x_val = process_data(x_val)"
   ]
  },
  {
   "cell_type": "code",
   "execution_count": 17,
   "metadata": {
    "slideshow": {
     "slide_type": "fragment"
    }
   },
   "outputs": [
    {
     "name": "stdout",
     "output_type": "stream",
     "text": [
      "600 train samples\n",
      "5000 test samples\n",
      "5000 validation samples\n"
     ]
    }
   ],
   "source": [
    "print(x_train.shape[0], 'train samples')\n",
    "print(x_test.shape[0], 'test samples')\n",
    "print(x_val.shape[0], 'validation samples')"
   ]
  },
  {
   "cell_type": "markdown",
   "metadata": {
    "slideshow": {
     "slide_type": "slide"
    }
   },
   "source": [
    "## Fully-connected NN"
   ]
  },
  {
   "cell_type": "markdown",
   "metadata": {
    "slideshow": {
     "slide_type": "slide"
    }
   },
   "source": [
    "### Construct the network"
   ]
  },
  {
   "cell_type": "code",
   "execution_count": 18,
   "metadata": {
    "slideshow": {
     "slide_type": "fragment"
    }
   },
   "outputs": [],
   "source": [
    "# a fairly small network for speed\n",
    "fcmodel = Sequential()\n",
    "fcmodel.add(Dense(32, activation='relu', input_shape=(784,)))\n",
    "fcmodel.add(Dense(32, activation='relu'))\n",
    "# could include dropout, regularisation, ...\n",
    "fcmodel.add(Dense(num_classes, activation='softmax'))"
   ]
  },
  {
   "cell_type": "code",
   "execution_count": 19,
   "metadata": {
    "slideshow": {
     "slide_type": "fragment"
    }
   },
   "outputs": [
    {
     "name": "stdout",
     "output_type": "stream",
     "text": [
      "Model: \"sequential\"\n",
      "_________________________________________________________________\n",
      "Layer (type)                 Output Shape              Param #   \n",
      "=================================================================\n",
      "dense (Dense)                (None, 32)                25120     \n",
      "_________________________________________________________________\n",
      "dense_1 (Dense)              (None, 32)                1056      \n",
      "_________________________________________________________________\n",
      "dense_2 (Dense)              (None, 10)                330       \n",
      "=================================================================\n",
      "Total params: 26,506\n",
      "Trainable params: 26,506\n",
      "Non-trainable params: 0\n",
      "_________________________________________________________________\n"
     ]
    }
   ],
   "source": [
    "fcmodel.summary()"
   ]
  },
  {
   "cell_type": "code",
   "execution_count": 20,
   "metadata": {
    "slideshow": {
     "slide_type": "fragment"
    }
   },
   "outputs": [],
   "source": [
    "fcmodel.compile(loss='categorical_crossentropy',\n",
    "                optimizer=RMSprop(),\n",
    "                metrics=['accuracy'])"
   ]
  },
  {
   "cell_type": "markdown",
   "metadata": {
    "slideshow": {
     "slide_type": "slide"
    }
   },
   "source": [
    "### Train the network"
   ]
  },
  {
   "cell_type": "code",
   "execution_count": 21,
   "metadata": {
    "slideshow": {
     "slide_type": "fragment"
    }
   },
   "outputs": [],
   "source": [
    "batch_size = 32\n",
    "epochs = 50"
   ]
  },
  {
   "cell_type": "code",
   "execution_count": 22,
   "metadata": {
    "scrolled": true,
    "slideshow": {
     "slide_type": "fragment"
    }
   },
   "outputs": [
    {
     "name": "stdout",
     "output_type": "stream",
     "text": [
      "Epoch 1/50\n",
      "19/19 - 0s - loss: 2.1203 - accuracy: 0.3167 - val_loss: 1.8732 - val_accuracy: 0.4916\n",
      "Epoch 2/50\n",
      "19/19 - 0s - loss: 1.6130 - accuracy: 0.5950 - val_loss: 1.4068 - val_accuracy: 0.6322\n",
      "Epoch 3/50\n",
      "19/19 - 0s - loss: 1.1690 - accuracy: 0.6967 - val_loss: 1.0472 - val_accuracy: 0.7270\n",
      "Epoch 4/50\n",
      "19/19 - 0s - loss: 0.8661 - accuracy: 0.8100 - val_loss: 0.8371 - val_accuracy: 0.7820\n",
      "Epoch 5/50\n",
      "19/19 - 0s - loss: 0.6799 - accuracy: 0.8467 - val_loss: 0.7074 - val_accuracy: 0.8048\n",
      "Epoch 6/50\n",
      "19/19 - 0s - loss: 0.5541 - accuracy: 0.8733 - val_loss: 0.6255 - val_accuracy: 0.8164\n",
      "Epoch 7/50\n",
      "19/19 - 0s - loss: 0.4573 - accuracy: 0.9017 - val_loss: 0.5838 - val_accuracy: 0.8244\n",
      "Epoch 8/50\n",
      "19/19 - 0s - loss: 0.3848 - accuracy: 0.9150 - val_loss: 0.5486 - val_accuracy: 0.8326\n",
      "Epoch 9/50\n",
      "19/19 - 0s - loss: 0.3239 - accuracy: 0.9267 - val_loss: 0.5370 - val_accuracy: 0.8348\n",
      "Epoch 10/50\n",
      "19/19 - 0s - loss: 0.2778 - accuracy: 0.9450 - val_loss: 0.4895 - val_accuracy: 0.8470\n",
      "Epoch 11/50\n",
      "19/19 - 0s - loss: 0.2373 - accuracy: 0.9533 - val_loss: 0.4570 - val_accuracy: 0.8608\n",
      "Epoch 12/50\n",
      "19/19 - 0s - loss: 0.2052 - accuracy: 0.9533 - val_loss: 0.4544 - val_accuracy: 0.8580\n",
      "Epoch 13/50\n",
      "19/19 - 0s - loss: 0.1740 - accuracy: 0.9683 - val_loss: 0.4511 - val_accuracy: 0.8588\n",
      "Epoch 14/50\n",
      "19/19 - 0s - loss: 0.1383 - accuracy: 0.9850 - val_loss: 0.4415 - val_accuracy: 0.8640\n",
      "Epoch 15/50\n",
      "19/19 - 0s - loss: 0.1275 - accuracy: 0.9850 - val_loss: 0.4446 - val_accuracy: 0.8622\n",
      "Epoch 16/50\n",
      "19/19 - 0s - loss: 0.1031 - accuracy: 0.9900 - val_loss: 0.4719 - val_accuracy: 0.8566\n",
      "Epoch 17/50\n",
      "19/19 - 0s - loss: 0.0898 - accuracy: 0.9883 - val_loss: 0.4371 - val_accuracy: 0.8676\n",
      "Epoch 18/50\n",
      "19/19 - 0s - loss: 0.0708 - accuracy: 0.9950 - val_loss: 0.4355 - val_accuracy: 0.8682\n",
      "Epoch 19/50\n",
      "19/19 - 0s - loss: 0.0638 - accuracy: 0.9950 - val_loss: 0.4563 - val_accuracy: 0.8652\n",
      "Epoch 20/50\n",
      "19/19 - 0s - loss: 0.0488 - accuracy: 0.9983 - val_loss: 0.4459 - val_accuracy: 0.8698\n",
      "Epoch 21/50\n",
      "19/19 - 0s - loss: 0.0430 - accuracy: 0.9983 - val_loss: 0.4443 - val_accuracy: 0.8714\n",
      "Epoch 22/50\n",
      "19/19 - 0s - loss: 0.0342 - accuracy: 1.0000 - val_loss: 0.4882 - val_accuracy: 0.8648\n",
      "Epoch 23/50\n",
      "19/19 - 0s - loss: 0.0317 - accuracy: 0.9983 - val_loss: 0.4741 - val_accuracy: 0.8684\n",
      "Epoch 24/50\n",
      "19/19 - 0s - loss: 0.0229 - accuracy: 1.0000 - val_loss: 0.4790 - val_accuracy: 0.8704\n",
      "Epoch 25/50\n",
      "19/19 - 0s - loss: 0.0202 - accuracy: 1.0000 - val_loss: 0.5149 - val_accuracy: 0.8660\n",
      "Epoch 26/50\n",
      "19/19 - 0s - loss: 0.0158 - accuracy: 1.0000 - val_loss: 0.4952 - val_accuracy: 0.8702\n",
      "Epoch 27/50\n",
      "19/19 - 0s - loss: 0.0148 - accuracy: 1.0000 - val_loss: 0.5164 - val_accuracy: 0.8680\n",
      "Epoch 28/50\n",
      "19/19 - 0s - loss: 0.0095 - accuracy: 1.0000 - val_loss: 0.5258 - val_accuracy: 0.8682\n",
      "Epoch 29/50\n",
      "19/19 - 0s - loss: 0.0079 - accuracy: 1.0000 - val_loss: 0.5172 - val_accuracy: 0.8756\n",
      "Epoch 30/50\n",
      "19/19 - 0s - loss: 0.0072 - accuracy: 1.0000 - val_loss: 0.5502 - val_accuracy: 0.8688\n",
      "Epoch 31/50\n",
      "19/19 - 0s - loss: 0.0056 - accuracy: 1.0000 - val_loss: 0.5598 - val_accuracy: 0.8694\n",
      "Epoch 32/50\n",
      "19/19 - 0s - loss: 0.0039 - accuracy: 1.0000 - val_loss: 0.6032 - val_accuracy: 0.8664\n",
      "Epoch 33/50\n",
      "19/19 - 0s - loss: 0.0036 - accuracy: 1.0000 - val_loss: 0.5994 - val_accuracy: 0.8668\n",
      "Epoch 34/50\n",
      "19/19 - 0s - loss: 0.0033 - accuracy: 1.0000 - val_loss: 0.6133 - val_accuracy: 0.8686\n",
      "Epoch 35/50\n",
      "19/19 - 0s - loss: 0.0022 - accuracy: 1.0000 - val_loss: 0.5949 - val_accuracy: 0.8750\n",
      "Epoch 36/50\n",
      "19/19 - 0s - loss: 0.0018 - accuracy: 1.0000 - val_loss: 0.6101 - val_accuracy: 0.8712\n",
      "Epoch 37/50\n",
      "19/19 - 0s - loss: 0.0014 - accuracy: 1.0000 - val_loss: 0.6256 - val_accuracy: 0.8718\n",
      "Epoch 38/50\n",
      "19/19 - 0s - loss: 0.0010 - accuracy: 1.0000 - val_loss: 0.6512 - val_accuracy: 0.8730\n",
      "Epoch 39/50\n",
      "19/19 - 0s - loss: 0.0010 - accuracy: 1.0000 - val_loss: 0.6609 - val_accuracy: 0.8700\n",
      "Epoch 40/50\n",
      "19/19 - 0s - loss: 6.3966e-04 - accuracy: 1.0000 - val_loss: 0.6726 - val_accuracy: 0.8730\n",
      "Epoch 41/50\n",
      "19/19 - 0s - loss: 5.2608e-04 - accuracy: 1.0000 - val_loss: 0.7079 - val_accuracy: 0.8706\n",
      "Epoch 42/50\n",
      "19/19 - 0s - loss: 4.0033e-04 - accuracy: 1.0000 - val_loss: 0.7309 - val_accuracy: 0.8658\n",
      "Epoch 43/50\n",
      "19/19 - 0s - loss: 3.2098e-04 - accuracy: 1.0000 - val_loss: 0.7309 - val_accuracy: 0.8718\n",
      "Epoch 44/50\n",
      "19/19 - 0s - loss: 2.5168e-04 - accuracy: 1.0000 - val_loss: 0.7663 - val_accuracy: 0.8696\n",
      "Epoch 45/50\n",
      "19/19 - 0s - loss: 1.9000e-04 - accuracy: 1.0000 - val_loss: 0.7735 - val_accuracy: 0.8708\n",
      "Epoch 46/50\n",
      "19/19 - 0s - loss: 1.4453e-04 - accuracy: 1.0000 - val_loss: 0.7927 - val_accuracy: 0.8674\n",
      "Epoch 47/50\n",
      "19/19 - 0s - loss: 9.2154e-05 - accuracy: 1.0000 - val_loss: 0.7990 - val_accuracy: 0.8730\n",
      "Epoch 48/50\n",
      "19/19 - 0s - loss: 9.9168e-05 - accuracy: 1.0000 - val_loss: 0.8236 - val_accuracy: 0.8688\n",
      "Epoch 49/50\n",
      "19/19 - 0s - loss: 5.5895e-05 - accuracy: 1.0000 - val_loss: 0.8349 - val_accuracy: 0.8702\n",
      "Epoch 50/50\n",
      "19/19 - 0s - loss: 8.4984e-05 - accuracy: 1.0000 - val_loss: 0.8339 - val_accuracy: 0.8740\n"
     ]
    }
   ],
   "source": [
    "history = fcmodel.fit(x_train, y_train,\n",
    "                      batch_size=batch_size,\n",
    "                      epochs=epochs,\n",
    "                      verbose=2,\n",
    "                      validation_data=(x_test, y_test))"
   ]
  },
  {
   "cell_type": "code",
   "execution_count": 23,
   "metadata": {
    "slideshow": {
     "slide_type": "subslide"
    }
   },
   "outputs": [
    {
     "name": "stdout",
     "output_type": "stream",
     "text": [
      "Test loss: 0.8338583111763\n",
      "Test accuracy: 0.8740000128746033\n"
     ]
    }
   ],
   "source": [
    "score = fcmodel.evaluate(x_test, y_test, verbose=0)\n",
    "print('Test loss:', score[0])\n",
    "print('Test accuracy:', score[1])"
   ]
  },
  {
   "cell_type": "code",
   "execution_count": 24,
   "metadata": {
    "slideshow": {
     "slide_type": "subslide"
    }
   },
   "outputs": [
    {
     "name": "stdout",
     "output_type": "stream",
     "text": [
      "Test loss: 0.9034996032714844\n",
      "Test accuracy: 0.8669999837875366\n"
     ]
    }
   ],
   "source": [
    "# really we should not look at the score for this set of data\n",
    "# until we have finished tuning our model\n",
    "score = fcmodel.evaluate(x_val, y_val, verbose=0)\n",
    "print('Test loss:', score[0])\n",
    "print('Test accuracy:', score[1])"
   ]
  },
  {
   "cell_type": "code",
   "execution_count": 25,
   "metadata": {
    "slideshow": {
     "slide_type": "subslide"
    }
   },
   "outputs": [],
   "source": [
    "def histplot(history):\n",
    "    hist = pd.DataFrame(history.history)\n",
    "    fig, (ax1, ax2) = plt.subplots(1, 2, figsize=(15, 5))\n",
    "    hist.plot(y=['loss', 'val_loss'], ax=ax1)\n",
    "    min_loss = hist['val_loss'].min()\n",
    "    ax1.hlines(min_loss, 0, len(hist), linestyle='dotted',\n",
    "               label='min(val_loss) = {:.3f}'.format(min_loss))\n",
    "    ax1.legend(loc='upper right')\n",
    "    hist.plot(y=['accuracy', 'val_accuracy'], ax=ax2)\n",
    "    max_acc = hist['val_accuracy'].max()\n",
    "    ax2.hlines(max_acc, 0, len(hist), linestyle='dotted',\n",
    "               label='max(val_acc) = {:.3f}'.format(max_acc))\n",
    "    ax2.legend(loc='lower right', fontsize='large')"
   ]
  },
  {
   "cell_type": "code",
   "execution_count": 26,
   "metadata": {},
   "outputs": [
    {
     "data": {
      "text/plain": [
       "dict_keys(['loss', 'accuracy', 'val_loss', 'val_accuracy'])"
      ]
     },
     "execution_count": 26,
     "metadata": {},
     "output_type": "execute_result"
    }
   ],
   "source": [
    "history.history.keys()"
   ]
  },
  {
   "cell_type": "code",
   "execution_count": 27,
   "metadata": {
    "scrolled": true,
    "slideshow": {
     "slide_type": "subslide"
    }
   },
   "outputs": [
    {
     "data": {
      "image/png": "[encoded data removed]",
      "text/plain": [
       "<Figure size 1080x360 with 2 Axes>"
      ]
     },
     "metadata": {
      "needs_background": "light"
     },
     "output_type": "display_data"
    }
   ],
   "source": [
    "histplot(history)"
   ]
  },
  {
   "cell_type": "markdown",
   "metadata": {
    "slideshow": {
     "slide_type": "slide"
    }
   },
   "source": [
    "## Convolutional Neural Network (CNN)"
   ]
  },
  {
   "cell_type": "markdown",
   "metadata": {
    "slideshow": {
     "slide_type": "slide"
    }
   },
   "source": [
    "### Reshape the data"
   ]
  },
  {
   "cell_type": "code",
   "execution_count": 28,
   "metadata": {
    "slideshow": {
     "slide_type": "fragment"
    }
   },
   "outputs": [],
   "source": [
    "x_train = x_train.reshape(-1, 28, 28, 1)\n",
    "x_test = x_test.reshape(-1, 28, 28, 1)"
   ]
  },
  {
   "cell_type": "markdown",
   "metadata": {
    "slideshow": {
     "slide_type": "slide"
    }
   },
   "source": [
    "### Construct the network"
   ]
  },
  {
   "cell_type": "code",
   "execution_count": 29,
   "metadata": {
    "slideshow": {
     "slide_type": "fragment"
    }
   },
   "outputs": [],
   "source": [
    "# a fairly small network for speed\n",
    "cnnmodel = Sequential()\n",
    "cnnmodel.add(Conv2D(8, (3, 3), activation='relu', input_shape=(28, 28, 1)))\n",
    "cnnmodel.add(MaxPooling2D((3, 3)))\n",
    "cnnmodel.add(Conv2D(16, (3, 3), activation='relu'))\n",
    "cnnmodel.add(MaxPooling2D((2, 2)))\n",
    "cnnmodel.add(Flatten())\n",
    "cnnmodel.add(Dense(num_classes, activation='softmax'))\n",
    "# could include dropout, regularisation, ..."
   ]
  },
  {
   "cell_type": "code",
   "execution_count": 30,
   "metadata": {
    "slideshow": {
     "slide_type": "fragment"
    }
   },
   "outputs": [],
   "source": [
    "cnnmodel.compile(loss='categorical_crossentropy',\n",
    "                optimizer=RMSprop(),\n",
    "                metrics=['accuracy'])"
   ]
  },
  {
   "cell_type": "code",
   "execution_count": 31,
   "metadata": {
    "slideshow": {
     "slide_type": "fragment"
    }
   },
   "outputs": [
    {
     "name": "stdout",
     "output_type": "stream",
     "text": [
      "Model: \"sequential_1\"\n",
      "_________________________________________________________________\n",
      "Layer (type)                 Output Shape              Param #   \n",
      "=================================================================\n",
      "conv2d (Conv2D)              (None, 26, 26, 8)         80        \n",
      "_________________________________________________________________\n",
      "max_pooling2d (MaxPooling2D) (None, 8, 8, 8)           0         \n",
      "_________________________________________________________________\n",
      "conv2d_1 (Conv2D)            (None, 6, 6, 16)          1168      \n",
      "_________________________________________________________________\n",
      "max_pooling2d_1 (MaxPooling2 (None, 3, 3, 16)          0         \n",
      "_________________________________________________________________\n",
      "flatten (Flatten)            (None, 144)               0         \n",
      "_________________________________________________________________\n",
      "dense_3 (Dense)              (None, 10)                1450      \n",
      "=================================================================\n",
      "Total params: 2,698\n",
      "Trainable params: 2,698\n",
      "Non-trainable params: 0\n",
      "_________________________________________________________________\n"
     ]
    }
   ],
   "source": [
    "cnnmodel.summary()"
   ]
  },
  {
   "cell_type": "code",
   "execution_count": 32,
   "metadata": {
    "slideshow": {
     "slide_type": "fragment"
    }
   },
   "outputs": [],
   "source": [
    "# save weights for reinitialising below\n",
    "cnnmodel.save_weights('/tmp/cnnmodel_init_weights.tf')"
   ]
  },
  {
   "cell_type": "markdown",
   "metadata": {
    "slideshow": {
     "slide_type": "slide"
    }
   },
   "source": [
    "### Train the network"
   ]
  },
  {
   "cell_type": "code",
   "execution_count": 33,
   "metadata": {
    "scrolled": true,
    "slideshow": {
     "slide_type": "fragment"
    }
   },
   "outputs": [
    {
     "name": "stdout",
     "output_type": "stream",
     "text": [
      "Epoch 1/150\n",
      "19/19 - 0s - loss: 2.2533 - accuracy: 0.2233 - val_loss: 2.1837 - val_accuracy: 0.3164\n",
      "Epoch 2/150\n",
      "19/19 - 0s - loss: 2.1125 - accuracy: 0.4150 - val_loss: 2.0330 - val_accuracy: 0.4650\n",
      "Epoch 3/150\n",
      "19/19 - 0s - loss: 1.9279 - accuracy: 0.5233 - val_loss: 1.8292 - val_accuracy: 0.5332\n",
      "Epoch 4/150\n",
      "19/19 - 0s - loss: 1.6959 - accuracy: 0.6000 - val_loss: 1.5860 - val_accuracy: 0.6526\n",
      "Epoch 5/150\n",
      "19/19 - 0s - loss: 1.4415 - accuracy: 0.6550 - val_loss: 1.3671 - val_accuracy: 0.6836\n",
      "Epoch 6/150\n",
      "19/19 - 0s - loss: 1.2214 - accuracy: 0.6717 - val_loss: 1.1484 - val_accuracy: 0.7236\n",
      "Epoch 7/150\n",
      "19/19 - 0s - loss: 1.0278 - accuracy: 0.7267 - val_loss: 0.9680 - val_accuracy: 0.7508\n",
      "Epoch 8/150\n",
      "19/19 - 0s - loss: 0.8894 - accuracy: 0.7583 - val_loss: 0.8476 - val_accuracy: 0.7908\n",
      "Epoch 9/150\n",
      "19/19 - 0s - loss: 0.7698 - accuracy: 0.8033 - val_loss: 0.7483 - val_accuracy: 0.7976\n",
      "Epoch 10/150\n",
      "19/19 - 0s - loss: 0.6882 - accuracy: 0.8100 - val_loss: 0.6954 - val_accuracy: 0.8020\n",
      "Epoch 11/150\n",
      "19/19 - 0s - loss: 0.6305 - accuracy: 0.8217 - val_loss: 0.6311 - val_accuracy: 0.8230\n",
      "Epoch 12/150\n",
      "19/19 - 0s - loss: 0.5614 - accuracy: 0.8400 - val_loss: 0.5983 - val_accuracy: 0.8276\n",
      "Epoch 13/150\n",
      "19/19 - 0s - loss: 0.5296 - accuracy: 0.8433 - val_loss: 0.5753 - val_accuracy: 0.8216\n",
      "Epoch 14/150\n",
      "19/19 - 0s - loss: 0.4918 - accuracy: 0.8367 - val_loss: 0.5601 - val_accuracy: 0.8348\n",
      "Epoch 15/150\n",
      "19/19 - 0s - loss: 0.4473 - accuracy: 0.8617 - val_loss: 0.5012 - val_accuracy: 0.8544\n",
      "Epoch 16/150\n",
      "19/19 - 0s - loss: 0.4224 - accuracy: 0.8700 - val_loss: 0.4990 - val_accuracy: 0.8536\n",
      "Epoch 17/150\n",
      "19/19 - 0s - loss: 0.3940 - accuracy: 0.8700 - val_loss: 0.4812 - val_accuracy: 0.8538\n",
      "Epoch 18/150\n",
      "19/19 - 0s - loss: 0.3807 - accuracy: 0.8683 - val_loss: 0.4590 - val_accuracy: 0.8628\n",
      "Epoch 19/150\n",
      "19/19 - 0s - loss: 0.3438 - accuracy: 0.8733 - val_loss: 0.4453 - val_accuracy: 0.8610\n",
      "Epoch 20/150\n",
      "19/19 - 0s - loss: 0.3378 - accuracy: 0.8833 - val_loss: 0.4401 - val_accuracy: 0.8696\n",
      "Epoch 21/150\n",
      "19/19 - 0s - loss: 0.3169 - accuracy: 0.8983 - val_loss: 0.4143 - val_accuracy: 0.8802\n",
      "Epoch 22/150\n",
      "19/19 - 0s - loss: 0.2920 - accuracy: 0.9083 - val_loss: 0.4015 - val_accuracy: 0.8812\n",
      "Epoch 23/150\n",
      "19/19 - 0s - loss: 0.2876 - accuracy: 0.9033 - val_loss: 0.3994 - val_accuracy: 0.8836\n",
      "Epoch 24/150\n",
      "19/19 - 0s - loss: 0.2696 - accuracy: 0.9067 - val_loss: 0.4050 - val_accuracy: 0.8766\n",
      "Epoch 25/150\n",
      "19/19 - 0s - loss: 0.2559 - accuracy: 0.9250 - val_loss: 0.3841 - val_accuracy: 0.8868\n",
      "Epoch 26/150\n",
      "19/19 - 0s - loss: 0.2374 - accuracy: 0.9183 - val_loss: 0.3865 - val_accuracy: 0.8856\n",
      "Epoch 27/150\n",
      "19/19 - 0s - loss: 0.2234 - accuracy: 0.9283 - val_loss: 0.3876 - val_accuracy: 0.8856\n",
      "Epoch 28/150\n",
      "19/19 - 0s - loss: 0.2208 - accuracy: 0.9217 - val_loss: 0.3956 - val_accuracy: 0.8800\n",
      "Epoch 29/150\n",
      "19/19 - 0s - loss: 0.2013 - accuracy: 0.9467 - val_loss: 0.3802 - val_accuracy: 0.8818\n",
      "Epoch 30/150\n",
      "19/19 - 0s - loss: 0.1983 - accuracy: 0.9317 - val_loss: 0.3805 - val_accuracy: 0.8886\n",
      "Epoch 31/150\n",
      "19/19 - 0s - loss: 0.1835 - accuracy: 0.9400 - val_loss: 0.3586 - val_accuracy: 0.8896\n",
      "Epoch 32/150\n",
      "19/19 - 0s - loss: 0.1788 - accuracy: 0.9350 - val_loss: 0.4071 - val_accuracy: 0.8802\n",
      "Epoch 33/150\n",
      "19/19 - 0s - loss: 0.1624 - accuracy: 0.9567 - val_loss: 0.4051 - val_accuracy: 0.8818\n",
      "Epoch 34/150\n",
      "19/19 - 0s - loss: 0.1636 - accuracy: 0.9517 - val_loss: 0.3667 - val_accuracy: 0.8858\n",
      "Epoch 35/150\n",
      "19/19 - 0s - loss: 0.1508 - accuracy: 0.9600 - val_loss: 0.3716 - val_accuracy: 0.8902\n",
      "Epoch 36/150\n",
      "19/19 - 0s - loss: 0.1476 - accuracy: 0.9617 - val_loss: 0.3825 - val_accuracy: 0.8830\n",
      "Epoch 37/150\n",
      "19/19 - 0s - loss: 0.1393 - accuracy: 0.9533 - val_loss: 0.3665 - val_accuracy: 0.8902\n",
      "Epoch 38/150\n",
      "19/19 - 0s - loss: 0.1258 - accuracy: 0.9650 - val_loss: 0.3522 - val_accuracy: 0.8922\n",
      "Epoch 39/150\n",
      "19/19 - 0s - loss: 0.1270 - accuracy: 0.9683 - val_loss: 0.3426 - val_accuracy: 0.9032\n",
      "Epoch 40/150\n",
      "19/19 - 0s - loss: 0.1158 - accuracy: 0.9700 - val_loss: 0.3749 - val_accuracy: 0.8920\n",
      "Epoch 41/150\n",
      "19/19 - 0s - loss: 0.1149 - accuracy: 0.9583 - val_loss: 0.3573 - val_accuracy: 0.8948\n",
      "Epoch 42/150\n",
      "19/19 - 0s - loss: 0.1028 - accuracy: 0.9750 - val_loss: 0.3578 - val_accuracy: 0.8976\n",
      "Epoch 43/150\n",
      "19/19 - 0s - loss: 0.1020 - accuracy: 0.9717 - val_loss: 0.3518 - val_accuracy: 0.8964\n",
      "Epoch 44/150\n",
      "19/19 - 0s - loss: 0.0979 - accuracy: 0.9683 - val_loss: 0.3570 - val_accuracy: 0.9004\n",
      "Epoch 45/150\n",
      "19/19 - 0s - loss: 0.0853 - accuracy: 0.9833 - val_loss: 0.3693 - val_accuracy: 0.8980\n",
      "Epoch 46/150\n",
      "19/19 - 0s - loss: 0.0815 - accuracy: 0.9833 - val_loss: 0.3739 - val_accuracy: 0.8942\n",
      "Epoch 47/150\n",
      "19/19 - 0s - loss: 0.0781 - accuracy: 0.9833 - val_loss: 0.3512 - val_accuracy: 0.9002\n",
      "Epoch 48/150\n",
      "19/19 - 0s - loss: 0.0734 - accuracy: 0.9833 - val_loss: 0.3923 - val_accuracy: 0.8896\n",
      "Epoch 49/150\n",
      "19/19 - 0s - loss: 0.0718 - accuracy: 0.9817 - val_loss: 0.3636 - val_accuracy: 0.8970\n",
      "Epoch 50/150\n",
      "19/19 - 0s - loss: 0.0648 - accuracy: 0.9900 - val_loss: 0.4057 - val_accuracy: 0.8852\n",
      "Epoch 51/150\n",
      "19/19 - 0s - loss: 0.0683 - accuracy: 0.9850 - val_loss: 0.3525 - val_accuracy: 0.9042\n",
      "Epoch 52/150\n",
      "19/19 - 0s - loss: 0.0560 - accuracy: 0.9883 - val_loss: 0.3704 - val_accuracy: 0.9014\n",
      "Epoch 53/150\n",
      "19/19 - 0s - loss: 0.0550 - accuracy: 0.9900 - val_loss: 0.4083 - val_accuracy: 0.8888\n",
      "Epoch 54/150\n",
      "19/19 - 0s - loss: 0.0484 - accuracy: 0.9900 - val_loss: 0.3547 - val_accuracy: 0.9026\n",
      "Epoch 55/150\n",
      "19/19 - 0s - loss: 0.0520 - accuracy: 0.9867 - val_loss: 0.3830 - val_accuracy: 0.8966\n",
      "Epoch 56/150\n",
      "19/19 - 0s - loss: 0.0412 - accuracy: 0.9950 - val_loss: 0.3618 - val_accuracy: 0.9048\n",
      "Epoch 57/150\n",
      "19/19 - 0s - loss: 0.0440 - accuracy: 0.9900 - val_loss: 0.4009 - val_accuracy: 0.8950\n",
      "Epoch 58/150\n",
      "19/19 - 0s - loss: 0.0381 - accuracy: 0.9967 - val_loss: 0.4451 - val_accuracy: 0.8852\n",
      "Epoch 59/150\n",
      "19/19 - 0s - loss: 0.0390 - accuracy: 0.9950 - val_loss: 0.3757 - val_accuracy: 0.9034\n",
      "Epoch 60/150\n",
      "19/19 - 0s - loss: 0.0378 - accuracy: 0.9917 - val_loss: 0.3702 - val_accuracy: 0.9048\n",
      "Epoch 61/150\n",
      "19/19 - 0s - loss: 0.0339 - accuracy: 0.9950 - val_loss: 0.3980 - val_accuracy: 0.8986\n",
      "Epoch 62/150\n",
      "19/19 - 0s - loss: 0.0311 - accuracy: 0.9983 - val_loss: 0.3695 - val_accuracy: 0.9050\n",
      "Epoch 63/150\n",
      "19/19 - 0s - loss: 0.0336 - accuracy: 0.9983 - val_loss: 0.3690 - val_accuracy: 0.9070\n",
      "Epoch 64/150\n",
      "19/19 - 0s - loss: 0.0287 - accuracy: 0.9983 - val_loss: 0.4324 - val_accuracy: 0.8934\n",
      "Epoch 65/150\n",
      "19/19 - 0s - loss: 0.0283 - accuracy: 0.9950 - val_loss: 0.3575 - val_accuracy: 0.9124\n",
      "Epoch 66/150\n",
      "19/19 - 0s - loss: 0.0225 - accuracy: 1.0000 - val_loss: 0.3905 - val_accuracy: 0.9052\n",
      "Epoch 67/150\n",
      "19/19 - 0s - loss: 0.0231 - accuracy: 0.9967 - val_loss: 0.4017 - val_accuracy: 0.9010\n",
      "Epoch 68/150\n",
      "19/19 - 0s - loss: 0.0228 - accuracy: 0.9983 - val_loss: 0.3965 - val_accuracy: 0.9050\n",
      "Epoch 69/150\n",
      "19/19 - 0s - loss: 0.0201 - accuracy: 0.9983 - val_loss: 0.3820 - val_accuracy: 0.9074\n",
      "Epoch 70/150\n",
      "19/19 - 0s - loss: 0.0160 - accuracy: 1.0000 - val_loss: 0.3828 - val_accuracy: 0.9084\n",
      "Epoch 71/150\n",
      "19/19 - 0s - loss: 0.0159 - accuracy: 1.0000 - val_loss: 0.4254 - val_accuracy: 0.8996\n",
      "Epoch 72/150\n",
      "19/19 - 0s - loss: 0.0202 - accuracy: 0.9983 - val_loss: 0.3972 - val_accuracy: 0.9066\n",
      "Epoch 73/150\n",
      "19/19 - 0s - loss: 0.0124 - accuracy: 1.0000 - val_loss: 0.4364 - val_accuracy: 0.9030\n",
      "Epoch 74/150\n",
      "19/19 - 0s - loss: 0.0175 - accuracy: 0.9950 - val_loss: 0.3764 - val_accuracy: 0.9104\n",
      "Epoch 75/150\n",
      "19/19 - 0s - loss: 0.0133 - accuracy: 1.0000 - val_loss: 0.4187 - val_accuracy: 0.9050\n",
      "Epoch 76/150\n",
      "19/19 - 0s - loss: 0.0117 - accuracy: 1.0000 - val_loss: 0.3935 - val_accuracy: 0.9076\n",
      "Epoch 77/150\n",
      "19/19 - 0s - loss: 0.0157 - accuracy: 0.9967 - val_loss: 0.4031 - val_accuracy: 0.9076\n",
      "Epoch 78/150\n",
      "19/19 - 0s - loss: 0.0098 - accuracy: 1.0000 - val_loss: 0.4241 - val_accuracy: 0.9088\n",
      "Epoch 79/150\n",
      "19/19 - 0s - loss: 0.0076 - accuracy: 1.0000 - val_loss: 0.4279 - val_accuracy: 0.9060\n",
      "Epoch 80/150\n",
      "19/19 - 0s - loss: 0.0113 - accuracy: 1.0000 - val_loss: 0.4050 - val_accuracy: 0.9104\n",
      "Epoch 81/150\n",
      "19/19 - 0s - loss: 0.0079 - accuracy: 1.0000 - val_loss: 0.4307 - val_accuracy: 0.9102\n",
      "Epoch 82/150\n",
      "19/19 - 0s - loss: 0.0083 - accuracy: 1.0000 - val_loss: 0.4109 - val_accuracy: 0.9112\n",
      "Epoch 83/150\n"
     ]
    },
    {
     "name": "stdout",
     "output_type": "stream",
     "text": [
      "19/19 - 0s - loss: 0.0088 - accuracy: 1.0000 - val_loss: 0.4037 - val_accuracy: 0.9130\n",
      "Epoch 84/150\n",
      "19/19 - 0s - loss: 0.0066 - accuracy: 1.0000 - val_loss: 0.4557 - val_accuracy: 0.9020\n",
      "Epoch 85/150\n",
      "19/19 - 0s - loss: 0.0060 - accuracy: 1.0000 - val_loss: 0.4306 - val_accuracy: 0.9096\n",
      "Epoch 86/150\n",
      "19/19 - 0s - loss: 0.0070 - accuracy: 1.0000 - val_loss: 0.4393 - val_accuracy: 0.9066\n",
      "Epoch 87/150\n",
      "19/19 - 0s - loss: 0.0046 - accuracy: 1.0000 - val_loss: 0.4544 - val_accuracy: 0.9084\n",
      "Epoch 88/150\n",
      "19/19 - 0s - loss: 0.0044 - accuracy: 1.0000 - val_loss: 0.4478 - val_accuracy: 0.9074\n",
      "Epoch 89/150\n",
      "19/19 - 0s - loss: 0.0053 - accuracy: 1.0000 - val_loss: 0.4420 - val_accuracy: 0.9076\n",
      "Epoch 90/150\n",
      "19/19 - 0s - loss: 0.0068 - accuracy: 1.0000 - val_loss: 0.4525 - val_accuracy: 0.9098\n",
      "Epoch 91/150\n",
      "19/19 - 0s - loss: 0.0049 - accuracy: 1.0000 - val_loss: 0.4475 - val_accuracy: 0.9080\n",
      "Epoch 92/150\n",
      "19/19 - 0s - loss: 0.0035 - accuracy: 1.0000 - val_loss: 0.4484 - val_accuracy: 0.9130\n",
      "Epoch 93/150\n",
      "19/19 - 0s - loss: 0.0036 - accuracy: 1.0000 - val_loss: 0.4672 - val_accuracy: 0.9092\n",
      "Epoch 94/150\n",
      "19/19 - 0s - loss: 0.0059 - accuracy: 0.9983 - val_loss: 0.4541 - val_accuracy: 0.9090\n",
      "Epoch 95/150\n",
      "19/19 - 0s - loss: 0.0022 - accuracy: 1.0000 - val_loss: 0.4906 - val_accuracy: 0.9054\n",
      "Epoch 96/150\n",
      "19/19 - 0s - loss: 0.0023 - accuracy: 1.0000 - val_loss: 0.4708 - val_accuracy: 0.9086\n",
      "Epoch 97/150\n",
      "19/19 - 0s - loss: 0.0043 - accuracy: 1.0000 - val_loss: 0.4846 - val_accuracy: 0.9088\n",
      "Epoch 98/150\n",
      "19/19 - 0s - loss: 0.0017 - accuracy: 1.0000 - val_loss: 0.4442 - val_accuracy: 0.9134\n",
      "Epoch 99/150\n",
      "19/19 - 0s - loss: 0.0024 - accuracy: 1.0000 - val_loss: 0.4512 - val_accuracy: 0.9128\n",
      "Epoch 100/150\n",
      "19/19 - 0s - loss: 0.0019 - accuracy: 1.0000 - val_loss: 0.4814 - val_accuracy: 0.9106\n",
      "Epoch 101/150\n",
      "19/19 - 0s - loss: 0.0031 - accuracy: 1.0000 - val_loss: 0.4838 - val_accuracy: 0.9080\n",
      "Epoch 102/150\n",
      "19/19 - 0s - loss: 0.0017 - accuracy: 1.0000 - val_loss: 0.5619 - val_accuracy: 0.9012\n",
      "Epoch 103/150\n",
      "19/19 - 0s - loss: 0.0025 - accuracy: 1.0000 - val_loss: 0.4898 - val_accuracy: 0.9076\n",
      "Epoch 104/150\n",
      "19/19 - 0s - loss: 0.0010 - accuracy: 1.0000 - val_loss: 0.4771 - val_accuracy: 0.9118\n",
      "Epoch 105/150\n",
      "19/19 - 0s - loss: 0.0046 - accuracy: 0.9967 - val_loss: 0.5398 - val_accuracy: 0.9058\n",
      "Epoch 106/150\n",
      "19/19 - 0s - loss: 0.0020 - accuracy: 1.0000 - val_loss: 0.4891 - val_accuracy: 0.9132\n",
      "Epoch 107/150\n",
      "19/19 - 0s - loss: 9.2855e-04 - accuracy: 1.0000 - val_loss: 0.4891 - val_accuracy: 0.9116\n",
      "Epoch 108/150\n",
      "19/19 - 0s - loss: 8.6913e-04 - accuracy: 1.0000 - val_loss: 0.5657 - val_accuracy: 0.9006\n",
      "Epoch 109/150\n",
      "19/19 - 0s - loss: 0.0012 - accuracy: 1.0000 - val_loss: 0.5019 - val_accuracy: 0.9106\n",
      "Epoch 110/150\n",
      "19/19 - 0s - loss: 0.0012 - accuracy: 1.0000 - val_loss: 0.4990 - val_accuracy: 0.9142\n",
      "Epoch 111/150\n",
      "19/19 - 0s - loss: 8.8339e-04 - accuracy: 1.0000 - val_loss: 0.5372 - val_accuracy: 0.9092\n",
      "Epoch 112/150\n",
      "19/19 - 0s - loss: 8.8566e-04 - accuracy: 1.0000 - val_loss: 0.5375 - val_accuracy: 0.9112\n",
      "Epoch 113/150\n",
      "19/19 - 0s - loss: 0.0017 - accuracy: 1.0000 - val_loss: 0.5182 - val_accuracy: 0.9120\n",
      "Epoch 114/150\n",
      "19/19 - 0s - loss: 4.6413e-04 - accuracy: 1.0000 - val_loss: 0.5104 - val_accuracy: 0.9130\n",
      "Epoch 115/150\n",
      "19/19 - 0s - loss: 4.9971e-04 - accuracy: 1.0000 - val_loss: 0.5823 - val_accuracy: 0.9032\n",
      "Epoch 116/150\n",
      "19/19 - 0s - loss: 0.0032 - accuracy: 0.9983 - val_loss: 0.5274 - val_accuracy: 0.9134\n",
      "Epoch 117/150\n",
      "19/19 - 0s - loss: 5.1816e-04 - accuracy: 1.0000 - val_loss: 0.5438 - val_accuracy: 0.9094\n",
      "Epoch 118/150\n",
      "19/19 - 0s - loss: 3.9546e-04 - accuracy: 1.0000 - val_loss: 0.5195 - val_accuracy: 0.9136\n",
      "Epoch 119/150\n",
      "19/19 - 0s - loss: 3.3126e-04 - accuracy: 1.0000 - val_loss: 0.5179 - val_accuracy: 0.9130\n",
      "Epoch 120/150\n",
      "19/19 - 0s - loss: 9.0134e-04 - accuracy: 1.0000 - val_loss: 0.5478 - val_accuracy: 0.9118\n",
      "Epoch 121/150\n",
      "19/19 - 0s - loss: 3.5759e-04 - accuracy: 1.0000 - val_loss: 0.5322 - val_accuracy: 0.9148\n",
      "Epoch 122/150\n",
      "19/19 - 0s - loss: 5.4844e-04 - accuracy: 1.0000 - val_loss: 0.6264 - val_accuracy: 0.9002\n",
      "Epoch 123/150\n",
      "19/19 - 0s - loss: 0.0012 - accuracy: 1.0000 - val_loss: 0.5407 - val_accuracy: 0.9144\n",
      "Epoch 124/150\n",
      "19/19 - 0s - loss: 2.3486e-04 - accuracy: 1.0000 - val_loss: 0.5385 - val_accuracy: 0.9138\n",
      "Epoch 125/150\n",
      "19/19 - 0s - loss: 3.2330e-04 - accuracy: 1.0000 - val_loss: 0.5619 - val_accuracy: 0.9130\n",
      "Epoch 126/150\n",
      "19/19 - 0s - loss: 3.5887e-04 - accuracy: 1.0000 - val_loss: 0.6059 - val_accuracy: 0.9078\n",
      "Epoch 127/150\n",
      "19/19 - 0s - loss: 5.1356e-04 - accuracy: 1.0000 - val_loss: 0.5602 - val_accuracy: 0.9138\n",
      "Epoch 128/150\n",
      "19/19 - 0s - loss: 1.6689e-04 - accuracy: 1.0000 - val_loss: 0.6372 - val_accuracy: 0.9058\n",
      "Epoch 129/150\n",
      "19/19 - 0s - loss: 3.1911e-04 - accuracy: 1.0000 - val_loss: 0.5787 - val_accuracy: 0.9118\n",
      "Epoch 130/150\n",
      "19/19 - 0s - loss: 4.8478e-04 - accuracy: 1.0000 - val_loss: 0.5860 - val_accuracy: 0.9088\n",
      "Epoch 131/150\n",
      "19/19 - 0s - loss: 1.3092e-04 - accuracy: 1.0000 - val_loss: 0.5620 - val_accuracy: 0.9140\n",
      "Epoch 132/150\n",
      "19/19 - 0s - loss: 9.5456e-04 - accuracy: 1.0000 - val_loss: 0.5761 - val_accuracy: 0.9128\n",
      "Epoch 133/150\n",
      "19/19 - 0s - loss: 1.3169e-04 - accuracy: 1.0000 - val_loss: 0.5724 - val_accuracy: 0.9134\n",
      "Epoch 134/150\n",
      "19/19 - 0s - loss: 1.2516e-04 - accuracy: 1.0000 - val_loss: 0.5676 - val_accuracy: 0.9158\n",
      "Epoch 135/150\n",
      "19/19 - 0s - loss: 1.9400e-04 - accuracy: 1.0000 - val_loss: 0.6207 - val_accuracy: 0.9106\n",
      "Epoch 136/150\n",
      "19/19 - 0s - loss: 2.6116e-04 - accuracy: 1.0000 - val_loss: 0.5949 - val_accuracy: 0.9148\n",
      "Epoch 137/150\n",
      "19/19 - 0s - loss: 1.2247e-04 - accuracy: 1.0000 - val_loss: 0.6005 - val_accuracy: 0.9122\n",
      "Epoch 138/150\n",
      "19/19 - 0s - loss: 2.5829e-04 - accuracy: 1.0000 - val_loss: 0.5884 - val_accuracy: 0.9156\n",
      "Epoch 139/150\n",
      "19/19 - 0s - loss: 8.2615e-05 - accuracy: 1.0000 - val_loss: 0.5846 - val_accuracy: 0.9150\n",
      "Epoch 140/150\n",
      "19/19 - 0s - loss: 1.1622e-04 - accuracy: 1.0000 - val_loss: 0.6203 - val_accuracy: 0.9126\n",
      "Epoch 141/150\n",
      "19/19 - 0s - loss: 7.1908e-04 - accuracy: 1.0000 - val_loss: 0.6232 - val_accuracy: 0.9134\n",
      "Epoch 142/150\n",
      "19/19 - 0s - loss: 6.5694e-05 - accuracy: 1.0000 - val_loss: 0.6002 - val_accuracy: 0.9156\n",
      "Epoch 143/150\n",
      "19/19 - 0s - loss: 5.2629e-05 - accuracy: 1.0000 - val_loss: 0.5986 - val_accuracy: 0.9140\n",
      "Epoch 144/150\n",
      "19/19 - 0s - loss: 1.7291e-04 - accuracy: 1.0000 - val_loss: 0.6117 - val_accuracy: 0.9132\n",
      "Epoch 145/150\n",
      "19/19 - 0s - loss: 1.0408e-04 - accuracy: 1.0000 - val_loss: 0.7005 - val_accuracy: 0.9064\n",
      "Epoch 146/150\n",
      "19/19 - 0s - loss: 7.0047e-05 - accuracy: 1.0000 - val_loss: 0.6238 - val_accuracy: 0.9144\n",
      "Epoch 147/150\n",
      "19/19 - 0s - loss: 4.5897e-04 - accuracy: 1.0000 - val_loss: 0.6871 - val_accuracy: 0.9098\n",
      "Epoch 148/150\n",
      "19/19 - 0s - loss: 6.6826e-05 - accuracy: 1.0000 - val_loss: 0.6184 - val_accuracy: 0.9162\n",
      "Epoch 149/150\n",
      "19/19 - 0s - loss: 4.7292e-05 - accuracy: 1.0000 - val_loss: 0.6182 - val_accuracy: 0.9158\n",
      "Epoch 150/150\n",
      "19/19 - 0s - loss: 3.8711e-05 - accuracy: 1.0000 - val_loss: 0.6290 - val_accuracy: 0.9154\n"
     ]
    }
   ],
   "source": [
    "history = cnnmodel.fit(x_train, y_train,\n",
    "                       batch_size=batch_size, \n",
    "                       epochs=3*epochs,\n",
    "                       verbose=2,\n",
    "                       validation_data=(x_test, y_test))"
   ]
  },
  {
   "cell_type": "code",
   "execution_count": 34,
   "metadata": {
    "scrolled": true,
    "slideshow": {
     "slide_type": "subslide"
    }
   },
   "outputs": [
    {
     "data": {
      "image/png": "[encoded data removed]",
      "text/plain": [
       "<Figure size 1080x360 with 2 Axes>"
      ]
     },
     "metadata": {
      "needs_background": "light"
     },
     "output_type": "display_data"
    }
   ],
   "source": [
    "histplot(history)"
   ]
  },
  {
   "cell_type": "markdown",
   "metadata": {
    "slideshow": {
     "slide_type": "slide"
    }
   },
   "source": [
    "## Online data augmentation"
   ]
  },
  {
   "cell_type": "code",
   "execution_count": 35,
   "metadata": {
    "slideshow": {
     "slide_type": "fragment"
    }
   },
   "outputs": [],
   "source": [
    "from tensorflow.keras.preprocessing.image import ImageDataGenerator\n",
    "\n",
    "datagen = ImageDataGenerator(\n",
    "    rotation_range=10,\n",
    "    width_shift_range=0.05,\n",
    "    height_shift_range=0.05,\n",
    "    shear_range=20.0,\n",
    "    zoom_range=0.05)\n",
    "\n",
    "#datagen.fit(x_train)  # only required if normalizing"
   ]
  },
  {
   "cell_type": "code",
   "execution_count": 36,
   "metadata": {
    "slideshow": {
     "slide_type": "subslide"
    }
   },
   "outputs": [],
   "source": [
    "gen = datagen.flow(x_train, y_train, batch_size=1)"
   ]
  },
  {
   "cell_type": "code",
   "execution_count": 37,
   "metadata": {
    "slideshow": {
     "slide_type": "fragment"
    }
   },
   "outputs": [
    {
     "name": "stdout",
     "output_type": "stream",
     "text": [
      "label = 6\n"
     ]
    },
    {
     "data": {
      "image/png": "[encoded data removed]",
      "text/plain": [
       "<Figure size 432x288 with 5 Axes>"
      ]
     },
     "metadata": {
      "needs_background": "light"
     },
     "output_type": "display_data"
    }
   ],
   "source": [
    "# run this several times to see more augmented examples\n",
    "i = 3\n",
    "fig, axarr = plt.subplots(1, 5)\n",
    "for ax in axarr:\n",
    "    img = gen[i][0][0, : , :, 0]\n",
    "    ax.imshow(img, cmap='gray');\n",
    "    ax.axis('off')\n",
    "print('label =', gen[i][1][0].argmax())"
   ]
  },
  {
   "cell_type": "code",
   "execution_count": 38,
   "metadata": {
    "slideshow": {
     "slide_type": "subslide"
    }
   },
   "outputs": [
    {
     "data": {
      "text/plain": [
       "<tensorflow.python.training.tracking.util.CheckpointLoadStatus at 0x7fde5828a5e0>"
      ]
     },
     "execution_count": 38,
     "metadata": {},
     "output_type": "execute_result"
    }
   ],
   "source": [
    "# Reinitialise model\n",
    "cnnmodel.load_weights('/tmp/cnnmodel_init_weights.tf')"
   ]
  },
  {
   "cell_type": "code",
   "execution_count": 39,
   "metadata": {
    "slideshow": {
     "slide_type": "fragment"
    }
   },
   "outputs": [],
   "source": [
    "cnnmodel.compile(loss='categorical_crossentropy',\n",
    "                 optimizer=RMSprop(),\n",
    "                 metrics=['accuracy'])"
   ]
  },
  {
   "cell_type": "code",
   "execution_count": 40,
   "metadata": {
    "scrolled": true,
    "slideshow": {
     "slide_type": "subslide"
    }
   },
   "outputs": [
    {
     "name": "stdout",
     "output_type": "stream",
     "text": [
      "WARNING:tensorflow:From <ipython-input-40-41f51a0e9c26>:3: Model.fit_generator (from tensorflow.python.keras.engine.training) is deprecated and will be removed in a future version.\n",
      "Instructions for updating:\n",
      "Please use Model.fit, which supports generators.\n",
      "Epoch 1/150\n",
      "19/19 - 1s - loss: 2.2831 - accuracy: 0.1750 - val_loss: 2.2411 - val_accuracy: 0.2534\n",
      "Epoch 2/150\n",
      "19/19 - 0s - loss: 2.1964 - accuracy: 0.2817 - val_loss: 2.1361 - val_accuracy: 0.3636\n",
      "Epoch 3/150\n",
      "19/19 - 0s - loss: 2.0824 - accuracy: 0.3600 - val_loss: 1.9735 - val_accuracy: 0.4372\n",
      "Epoch 4/150\n",
      "19/19 - 0s - loss: 1.9328 - accuracy: 0.4333 - val_loss: 1.7767 - val_accuracy: 0.5244\n",
      "Epoch 5/150\n",
      "19/19 - 0s - loss: 1.7491 - accuracy: 0.4933 - val_loss: 1.5545 - val_accuracy: 0.6164\n",
      "Epoch 6/150\n",
      "19/19 - 0s - loss: 1.5649 - accuracy: 0.5767 - val_loss: 1.3354 - val_accuracy: 0.6626\n",
      "Epoch 7/150\n",
      "19/19 - 0s - loss: 1.3767 - accuracy: 0.6183 - val_loss: 1.1398 - val_accuracy: 0.7206\n",
      "Epoch 8/150\n",
      "19/19 - 0s - loss: 1.2323 - accuracy: 0.6350 - val_loss: 1.0164 - val_accuracy: 0.7386\n",
      "Epoch 9/150\n",
      "19/19 - 0s - loss: 1.1056 - accuracy: 0.6800 - val_loss: 0.8845 - val_accuracy: 0.7650\n",
      "Epoch 10/150\n",
      "19/19 - 0s - loss: 1.0507 - accuracy: 0.6583 - val_loss: 0.7953 - val_accuracy: 0.7710\n",
      "Epoch 11/150\n",
      "19/19 - 0s - loss: 0.9770 - accuracy: 0.7217 - val_loss: 0.7263 - val_accuracy: 0.7988\n",
      "Epoch 12/150\n",
      "19/19 - 0s - loss: 0.9524 - accuracy: 0.6967 - val_loss: 0.6708 - val_accuracy: 0.8078\n",
      "Epoch 13/150\n",
      "19/19 - 0s - loss: 0.8563 - accuracy: 0.7383 - val_loss: 0.6562 - val_accuracy: 0.8006\n",
      "Epoch 14/150\n",
      "19/19 - 0s - loss: 0.8693 - accuracy: 0.7100 - val_loss: 0.6152 - val_accuracy: 0.8202\n",
      "Epoch 15/150\n",
      "19/19 - 0s - loss: 0.7994 - accuracy: 0.7400 - val_loss: 0.5680 - val_accuracy: 0.8344\n",
      "Epoch 16/150\n",
      "19/19 - 0s - loss: 0.7511 - accuracy: 0.7583 - val_loss: 0.5684 - val_accuracy: 0.8376\n",
      "Epoch 17/150\n",
      "19/19 - 0s - loss: 0.7409 - accuracy: 0.7700 - val_loss: 0.5135 - val_accuracy: 0.8544\n",
      "Epoch 18/150\n",
      "19/19 - 0s - loss: 0.7436 - accuracy: 0.7683 - val_loss: 0.5273 - val_accuracy: 0.8476\n",
      "Epoch 19/150\n",
      "19/19 - 0s - loss: 0.6785 - accuracy: 0.7833 - val_loss: 0.4850 - val_accuracy: 0.8652\n",
      "Epoch 20/150\n",
      "19/19 - 0s - loss: 0.6600 - accuracy: 0.7783 - val_loss: 0.4486 - val_accuracy: 0.8752\n",
      "Epoch 21/150\n",
      "19/19 - 0s - loss: 0.6835 - accuracy: 0.7867 - val_loss: 0.4301 - val_accuracy: 0.8794\n",
      "Epoch 22/150\n",
      "19/19 - 0s - loss: 0.6371 - accuracy: 0.7917 - val_loss: 0.4206 - val_accuracy: 0.8790\n",
      "Epoch 23/150\n",
      "19/19 - 0s - loss: 0.5813 - accuracy: 0.8250 - val_loss: 0.4109 - val_accuracy: 0.8812\n",
      "Epoch 24/150\n",
      "19/19 - 0s - loss: 0.6069 - accuracy: 0.8083 - val_loss: 0.3881 - val_accuracy: 0.8900\n",
      "Epoch 25/150\n",
      "19/19 - 0s - loss: 0.5641 - accuracy: 0.8283 - val_loss: 0.3788 - val_accuracy: 0.8938\n",
      "Epoch 26/150\n",
      "19/19 - 0s - loss: 0.5419 - accuracy: 0.8300 - val_loss: 0.3611 - val_accuracy: 0.8966\n",
      "Epoch 27/150\n",
      "19/19 - 0s - loss: 0.5413 - accuracy: 0.8533 - val_loss: 0.3639 - val_accuracy: 0.8940\n",
      "Epoch 28/150\n",
      "19/19 - 0s - loss: 0.5447 - accuracy: 0.8300 - val_loss: 0.3629 - val_accuracy: 0.8890\n",
      "Epoch 29/150\n",
      "19/19 - 0s - loss: 0.5375 - accuracy: 0.8333 - val_loss: 0.3491 - val_accuracy: 0.8988\n",
      "Epoch 30/150\n",
      "19/19 - 0s - loss: 0.5009 - accuracy: 0.8483 - val_loss: 0.3544 - val_accuracy: 0.8920\n",
      "Epoch 31/150\n",
      "19/19 - 0s - loss: 0.5043 - accuracy: 0.8250 - val_loss: 0.3105 - val_accuracy: 0.9116\n",
      "Epoch 32/150\n",
      "19/19 - 0s - loss: 0.4859 - accuracy: 0.8567 - val_loss: 0.3507 - val_accuracy: 0.8928\n",
      "Epoch 33/150\n",
      "19/19 - 0s - loss: 0.4553 - accuracy: 0.8550 - val_loss: 0.2952 - val_accuracy: 0.9138\n",
      "Epoch 34/150\n",
      "19/19 - 0s - loss: 0.4516 - accuracy: 0.8683 - val_loss: 0.3045 - val_accuracy: 0.9084\n",
      "Epoch 35/150\n",
      "19/19 - 0s - loss: 0.4593 - accuracy: 0.8517 - val_loss: 0.3148 - val_accuracy: 0.9034\n",
      "Epoch 36/150\n",
      "19/19 - 0s - loss: 0.4396 - accuracy: 0.8583 - val_loss: 0.2869 - val_accuracy: 0.9106\n",
      "Epoch 37/150\n",
      "19/19 - 0s - loss: 0.4398 - accuracy: 0.8567 - val_loss: 0.2722 - val_accuracy: 0.9184\n",
      "Epoch 38/150\n",
      "19/19 - 0s - loss: 0.4233 - accuracy: 0.8683 - val_loss: 0.2625 - val_accuracy: 0.9190\n",
      "Epoch 39/150\n",
      "19/19 - 0s - loss: 0.4284 - accuracy: 0.8733 - val_loss: 0.2693 - val_accuracy: 0.9210\n",
      "Epoch 40/150\n",
      "19/19 - 0s - loss: 0.4051 - accuracy: 0.8667 - val_loss: 0.2699 - val_accuracy: 0.9198\n",
      "Epoch 41/150\n",
      "19/19 - 0s - loss: 0.3878 - accuracy: 0.8750 - val_loss: 0.2547 - val_accuracy: 0.9212\n",
      "Epoch 42/150\n",
      "19/19 - 0s - loss: 0.3641 - accuracy: 0.8933 - val_loss: 0.2432 - val_accuracy: 0.9262\n",
      "Epoch 43/150\n",
      "19/19 - 0s - loss: 0.3662 - accuracy: 0.8800 - val_loss: 0.2562 - val_accuracy: 0.9212\n",
      "Epoch 44/150\n",
      "19/19 - 0s - loss: 0.3534 - accuracy: 0.9017 - val_loss: 0.2399 - val_accuracy: 0.9244\n",
      "Epoch 45/150\n",
      "19/19 - 0s - loss: 0.3764 - accuracy: 0.8917 - val_loss: 0.2589 - val_accuracy: 0.9192\n",
      "Epoch 46/150\n",
      "19/19 - 0s - loss: 0.3216 - accuracy: 0.9150 - val_loss: 0.2234 - val_accuracy: 0.9328\n",
      "Epoch 47/150\n",
      "19/19 - 0s - loss: 0.3209 - accuracy: 0.9100 - val_loss: 0.2137 - val_accuracy: 0.9356\n",
      "Epoch 48/150\n",
      "19/19 - 0s - loss: 0.3391 - accuracy: 0.9033 - val_loss: 0.2243 - val_accuracy: 0.9302\n",
      "Epoch 49/150\n",
      "19/19 - 0s - loss: 0.3506 - accuracy: 0.9033 - val_loss: 0.2179 - val_accuracy: 0.9314\n",
      "Epoch 50/150\n",
      "19/19 - 0s - loss: 0.3099 - accuracy: 0.9100 - val_loss: 0.2278 - val_accuracy: 0.9302\n",
      "Epoch 51/150\n",
      "19/19 - 0s - loss: 0.2920 - accuracy: 0.8933 - val_loss: 0.2360 - val_accuracy: 0.9230\n",
      "Epoch 52/150\n",
      "19/19 - 0s - loss: 0.3322 - accuracy: 0.8917 - val_loss: 0.2118 - val_accuracy: 0.9362\n",
      "Epoch 53/150\n",
      "19/19 - 0s - loss: 0.3124 - accuracy: 0.9083 - val_loss: 0.2124 - val_accuracy: 0.9318\n",
      "Epoch 54/150\n",
      "19/19 - 0s - loss: 0.2673 - accuracy: 0.9217 - val_loss: 0.2050 - val_accuracy: 0.9362\n",
      "Epoch 55/150\n",
      "19/19 - 0s - loss: 0.2781 - accuracy: 0.9117 - val_loss: 0.2435 - val_accuracy: 0.9234\n",
      "Epoch 56/150\n",
      "19/19 - 0s - loss: 0.2999 - accuracy: 0.9067 - val_loss: 0.2053 - val_accuracy: 0.9382\n",
      "Epoch 57/150\n",
      "19/19 - 0s - loss: 0.2787 - accuracy: 0.9250 - val_loss: 0.1980 - val_accuracy: 0.9398\n",
      "Epoch 58/150\n",
      "19/19 - 0s - loss: 0.2713 - accuracy: 0.9200 - val_loss: 0.2035 - val_accuracy: 0.9386\n",
      "Epoch 59/150\n",
      "19/19 - 0s - loss: 0.2678 - accuracy: 0.9183 - val_loss: 0.1872 - val_accuracy: 0.9414\n",
      "Epoch 60/150\n",
      "19/19 - 0s - loss: 0.2746 - accuracy: 0.9267 - val_loss: 0.2058 - val_accuracy: 0.9362\n",
      "Epoch 61/150\n",
      "19/19 - 0s - loss: 0.2705 - accuracy: 0.9233 - val_loss: 0.1982 - val_accuracy: 0.9334\n",
      "Epoch 62/150\n",
      "19/19 - 0s - loss: 0.2700 - accuracy: 0.9183 - val_loss: 0.1842 - val_accuracy: 0.9406\n",
      "Epoch 63/150\n",
      "19/19 - 0s - loss: 0.2586 - accuracy: 0.9183 - val_loss: 0.1967 - val_accuracy: 0.9364\n",
      "Epoch 64/150\n",
      "19/19 - 0s - loss: 0.2457 - accuracy: 0.9183 - val_loss: 0.1837 - val_accuracy: 0.9436\n",
      "Epoch 65/150\n",
      "19/19 - 0s - loss: 0.2919 - accuracy: 0.9167 - val_loss: 0.1801 - val_accuracy: 0.9388\n",
      "Epoch 66/150\n",
      "19/19 - 0s - loss: 0.2544 - accuracy: 0.9167 - val_loss: 0.1813 - val_accuracy: 0.9438\n",
      "Epoch 67/150\n",
      "19/19 - 0s - loss: 0.2344 - accuracy: 0.9200 - val_loss: 0.1745 - val_accuracy: 0.9434\n",
      "Epoch 68/150\n",
      "19/19 - 0s - loss: 0.2717 - accuracy: 0.9200 - val_loss: 0.1772 - val_accuracy: 0.9440\n",
      "Epoch 69/150\n",
      "19/19 - 0s - loss: 0.2240 - accuracy: 0.9150 - val_loss: 0.1749 - val_accuracy: 0.9426\n",
      "Epoch 70/150\n",
      "19/19 - 0s - loss: 0.2267 - accuracy: 0.9167 - val_loss: 0.2061 - val_accuracy: 0.9344\n",
      "Epoch 71/150\n",
      "19/19 - 0s - loss: 0.2462 - accuracy: 0.9233 - val_loss: 0.1699 - val_accuracy: 0.9420\n",
      "Epoch 72/150\n",
      "19/19 - 0s - loss: 0.2440 - accuracy: 0.9333 - val_loss: 0.1940 - val_accuracy: 0.9340\n",
      "Epoch 73/150\n",
      "19/19 - 0s - loss: 0.2482 - accuracy: 0.9250 - val_loss: 0.1750 - val_accuracy: 0.9428\n",
      "Epoch 74/150\n",
      "19/19 - 0s - loss: 0.2114 - accuracy: 0.9400 - val_loss: 0.1870 - val_accuracy: 0.9384\n",
      "Epoch 75/150\n",
      "19/19 - 0s - loss: 0.2275 - accuracy: 0.9367 - val_loss: 0.1826 - val_accuracy: 0.9418\n",
      "Epoch 76/150\n",
      "19/19 - 0s - loss: 0.2216 - accuracy: 0.9367 - val_loss: 0.1653 - val_accuracy: 0.9432\n",
      "Epoch 77/150\n",
      "19/19 - 0s - loss: 0.2164 - accuracy: 0.9283 - val_loss: 0.1557 - val_accuracy: 0.9486\n",
      "Epoch 78/150\n",
      "19/19 - 0s - loss: 0.2365 - accuracy: 0.9150 - val_loss: 0.1712 - val_accuracy: 0.9432\n",
      "Epoch 79/150\n",
      "19/19 - 0s - loss: 0.1888 - accuracy: 0.9317 - val_loss: 0.1588 - val_accuracy: 0.9476\n",
      "Epoch 80/150\n",
      "19/19 - 0s - loss: 0.2386 - accuracy: 0.9183 - val_loss: 0.1893 - val_accuracy: 0.9366\n"
     ]
    },
    {
     "name": "stdout",
     "output_type": "stream",
     "text": [
      "Epoch 81/150\n",
      "19/19 - 0s - loss: 0.1780 - accuracy: 0.9400 - val_loss: 0.1546 - val_accuracy: 0.9468\n",
      "Epoch 82/150\n",
      "19/19 - 0s - loss: 0.2250 - accuracy: 0.9250 - val_loss: 0.1724 - val_accuracy: 0.9434\n",
      "Epoch 83/150\n",
      "19/19 - 0s - loss: 0.1954 - accuracy: 0.9383 - val_loss: 0.1616 - val_accuracy: 0.9464\n",
      "Epoch 84/150\n",
      "19/19 - 0s - loss: 0.1680 - accuracy: 0.9417 - val_loss: 0.2083 - val_accuracy: 0.9338\n",
      "Epoch 85/150\n",
      "19/19 - 0s - loss: 0.2083 - accuracy: 0.9333 - val_loss: 0.1663 - val_accuracy: 0.9458\n",
      "Epoch 86/150\n",
      "19/19 - 0s - loss: 0.1795 - accuracy: 0.9450 - val_loss: 0.1493 - val_accuracy: 0.9508\n",
      "Epoch 87/150\n",
      "19/19 - 0s - loss: 0.2052 - accuracy: 0.9300 - val_loss: 0.1537 - val_accuracy: 0.9456\n",
      "Epoch 88/150\n",
      "19/19 - 0s - loss: 0.1475 - accuracy: 0.9617 - val_loss: 0.1732 - val_accuracy: 0.9408\n",
      "Epoch 89/150\n",
      "19/19 - 0s - loss: 0.1903 - accuracy: 0.9433 - val_loss: 0.1605 - val_accuracy: 0.9484\n",
      "Epoch 90/150\n",
      "19/19 - 0s - loss: 0.1640 - accuracy: 0.9550 - val_loss: 0.1596 - val_accuracy: 0.9482\n",
      "Epoch 91/150\n",
      "19/19 - 0s - loss: 0.1969 - accuracy: 0.9333 - val_loss: 0.1700 - val_accuracy: 0.9446\n",
      "Epoch 92/150\n",
      "19/19 - 0s - loss: 0.1548 - accuracy: 0.9500 - val_loss: 0.1597 - val_accuracy: 0.9484\n",
      "Epoch 93/150\n",
      "19/19 - 0s - loss: 0.1906 - accuracy: 0.9400 - val_loss: 0.1546 - val_accuracy: 0.9480\n",
      "Epoch 94/150\n",
      "19/19 - 0s - loss: 0.1575 - accuracy: 0.9483 - val_loss: 0.1476 - val_accuracy: 0.9522\n",
      "Epoch 95/150\n",
      "19/19 - 0s - loss: 0.1634 - accuracy: 0.9483 - val_loss: 0.1751 - val_accuracy: 0.9422\n",
      "Epoch 96/150\n",
      "19/19 - 0s - loss: 0.1864 - accuracy: 0.9517 - val_loss: 0.1680 - val_accuracy: 0.9460\n",
      "Epoch 97/150\n",
      "19/19 - 0s - loss: 0.1684 - accuracy: 0.9450 - val_loss: 0.1467 - val_accuracy: 0.9494\n",
      "Epoch 98/150\n",
      "19/19 - 0s - loss: 0.1912 - accuracy: 0.9350 - val_loss: 0.1606 - val_accuracy: 0.9470\n",
      "Epoch 99/150\n",
      "19/19 - 0s - loss: 0.1530 - accuracy: 0.9533 - val_loss: 0.1518 - val_accuracy: 0.9486\n",
      "Epoch 100/150\n",
      "19/19 - 0s - loss: 0.1522 - accuracy: 0.9383 - val_loss: 0.1466 - val_accuracy: 0.9524\n",
      "Epoch 101/150\n",
      "19/19 - 0s - loss: 0.1429 - accuracy: 0.9567 - val_loss: 0.1698 - val_accuracy: 0.9440\n",
      "Epoch 102/150\n",
      "19/19 - 0s - loss: 0.1613 - accuracy: 0.9450 - val_loss: 0.1404 - val_accuracy: 0.9524\n",
      "Epoch 103/150\n",
      "19/19 - 0s - loss: 0.1662 - accuracy: 0.9483 - val_loss: 0.1498 - val_accuracy: 0.9482\n",
      "Epoch 104/150\n",
      "19/19 - 0s - loss: 0.1619 - accuracy: 0.9450 - val_loss: 0.1619 - val_accuracy: 0.9486\n",
      "Epoch 105/150\n",
      "19/19 - 0s - loss: 0.1401 - accuracy: 0.9567 - val_loss: 0.1433 - val_accuracy: 0.9502\n",
      "Epoch 106/150\n",
      "19/19 - 0s - loss: 0.1457 - accuracy: 0.9533 - val_loss: 0.1405 - val_accuracy: 0.9522\n",
      "Epoch 107/150\n",
      "19/19 - 0s - loss: 0.1279 - accuracy: 0.9650 - val_loss: 0.1669 - val_accuracy: 0.9466\n",
      "Epoch 108/150\n",
      "19/19 - 0s - loss: 0.1532 - accuracy: 0.9517 - val_loss: 0.1409 - val_accuracy: 0.9522\n",
      "Epoch 109/150\n",
      "19/19 - 0s - loss: 0.1602 - accuracy: 0.9500 - val_loss: 0.1489 - val_accuracy: 0.9504\n",
      "Epoch 110/150\n",
      "19/19 - 0s - loss: 0.1319 - accuracy: 0.9633 - val_loss: 0.1404 - val_accuracy: 0.9536\n",
      "Epoch 111/150\n",
      "19/19 - 0s - loss: 0.1067 - accuracy: 0.9650 - val_loss: 0.1769 - val_accuracy: 0.9406\n",
      "Epoch 112/150\n",
      "19/19 - 0s - loss: 0.1309 - accuracy: 0.9667 - val_loss: 0.1531 - val_accuracy: 0.9498\n",
      "Epoch 113/150\n",
      "19/19 - 0s - loss: 0.1786 - accuracy: 0.9383 - val_loss: 0.1608 - val_accuracy: 0.9466\n",
      "Epoch 114/150\n",
      "19/19 - 0s - loss: 0.1496 - accuracy: 0.9500 - val_loss: 0.1342 - val_accuracy: 0.9548\n",
      "Epoch 115/150\n",
      "19/19 - 0s - loss: 0.1590 - accuracy: 0.9433 - val_loss: 0.1390 - val_accuracy: 0.9530\n",
      "Epoch 116/150\n",
      "19/19 - 0s - loss: 0.1500 - accuracy: 0.9367 - val_loss: 0.1476 - val_accuracy: 0.9508\n",
      "Epoch 117/150\n",
      "19/19 - 0s - loss: 0.1514 - accuracy: 0.9517 - val_loss: 0.1441 - val_accuracy: 0.9516\n",
      "Epoch 118/150\n",
      "19/19 - 0s - loss: 0.1357 - accuracy: 0.9450 - val_loss: 0.1418 - val_accuracy: 0.9532\n",
      "Epoch 119/150\n",
      "19/19 - 0s - loss: 0.1238 - accuracy: 0.9517 - val_loss: 0.1406 - val_accuracy: 0.9522\n",
      "Epoch 120/150\n",
      "19/19 - 0s - loss: 0.1039 - accuracy: 0.9667 - val_loss: 0.1411 - val_accuracy: 0.9532\n",
      "Epoch 121/150\n",
      "19/19 - 0s - loss: 0.1101 - accuracy: 0.9617 - val_loss: 0.1383 - val_accuracy: 0.9528\n",
      "Epoch 122/150\n",
      "19/19 - 0s - loss: 0.1350 - accuracy: 0.9533 - val_loss: 0.1398 - val_accuracy: 0.9532\n",
      "Epoch 123/150\n",
      "19/19 - 0s - loss: 0.1255 - accuracy: 0.9617 - val_loss: 0.1445 - val_accuracy: 0.9530\n",
      "Epoch 124/150\n",
      "19/19 - 0s - loss: 0.1254 - accuracy: 0.9617 - val_loss: 0.1360 - val_accuracy: 0.9540\n",
      "Epoch 125/150\n",
      "19/19 - 0s - loss: 0.1514 - accuracy: 0.9483 - val_loss: 0.1486 - val_accuracy: 0.9514\n",
      "Epoch 126/150\n",
      "19/19 - 0s - loss: 0.1174 - accuracy: 0.9667 - val_loss: 0.1341 - val_accuracy: 0.9540\n",
      "Epoch 127/150\n",
      "19/19 - 0s - loss: 0.1367 - accuracy: 0.9583 - val_loss: 0.1430 - val_accuracy: 0.9522\n",
      "Epoch 128/150\n",
      "19/19 - 0s - loss: 0.1274 - accuracy: 0.9567 - val_loss: 0.1568 - val_accuracy: 0.9488\n",
      "Epoch 129/150\n",
      "19/19 - 0s - loss: 0.1179 - accuracy: 0.9600 - val_loss: 0.1527 - val_accuracy: 0.9508\n",
      "Epoch 130/150\n",
      "19/19 - 0s - loss: 0.1157 - accuracy: 0.9617 - val_loss: 0.1428 - val_accuracy: 0.9510\n",
      "Epoch 131/150\n",
      "19/19 - 0s - loss: 0.1347 - accuracy: 0.9567 - val_loss: 0.1454 - val_accuracy: 0.9516\n",
      "Epoch 132/150\n",
      "19/19 - 0s - loss: 0.1380 - accuracy: 0.9567 - val_loss: 0.1342 - val_accuracy: 0.9546\n",
      "Epoch 133/150\n",
      "19/19 - 0s - loss: 0.1446 - accuracy: 0.9500 - val_loss: 0.1421 - val_accuracy: 0.9518\n",
      "Epoch 134/150\n",
      "19/19 - 0s - loss: 0.1526 - accuracy: 0.9550 - val_loss: 0.1406 - val_accuracy: 0.9540\n",
      "Epoch 135/150\n",
      "19/19 - 0s - loss: 0.1127 - accuracy: 0.9600 - val_loss: 0.1469 - val_accuracy: 0.9522\n",
      "Epoch 136/150\n",
      "19/19 - 0s - loss: 0.1289 - accuracy: 0.9583 - val_loss: 0.1389 - val_accuracy: 0.9526\n",
      "Epoch 137/150\n",
      "19/19 - 0s - loss: 0.1222 - accuracy: 0.9600 - val_loss: 0.1475 - val_accuracy: 0.9522\n",
      "Epoch 138/150\n",
      "19/19 - 0s - loss: 0.1498 - accuracy: 0.9483 - val_loss: 0.1362 - val_accuracy: 0.9546\n",
      "Epoch 139/150\n",
      "19/19 - 0s - loss: 0.1418 - accuracy: 0.9567 - val_loss: 0.1375 - val_accuracy: 0.9550\n",
      "Epoch 140/150\n",
      "19/19 - 0s - loss: 0.1050 - accuracy: 0.9733 - val_loss: 0.1346 - val_accuracy: 0.9554\n",
      "Epoch 141/150\n",
      "19/19 - 0s - loss: 0.1288 - accuracy: 0.9567 - val_loss: 0.1320 - val_accuracy: 0.9572\n",
      "Epoch 142/150\n",
      "19/19 - 0s - loss: 0.1142 - accuracy: 0.9583 - val_loss: 0.1554 - val_accuracy: 0.9502\n",
      "Epoch 143/150\n",
      "19/19 - 0s - loss: 0.1221 - accuracy: 0.9650 - val_loss: 0.1335 - val_accuracy: 0.9560\n",
      "Epoch 144/150\n",
      "19/19 - 0s - loss: 0.1250 - accuracy: 0.9550 - val_loss: 0.1314 - val_accuracy: 0.9564\n",
      "Epoch 145/150\n",
      "19/19 - 0s - loss: 0.1221 - accuracy: 0.9633 - val_loss: 0.1351 - val_accuracy: 0.9542\n",
      "Epoch 146/150\n",
      "19/19 - 0s - loss: 0.1050 - accuracy: 0.9683 - val_loss: 0.1405 - val_accuracy: 0.9514\n",
      "Epoch 147/150\n",
      "19/19 - 0s - loss: 0.1309 - accuracy: 0.9517 - val_loss: 0.1314 - val_accuracy: 0.9558\n",
      "Epoch 148/150\n",
      "19/19 - 0s - loss: 0.1101 - accuracy: 0.9600 - val_loss: 0.1329 - val_accuracy: 0.9564\n",
      "Epoch 149/150\n",
      "19/19 - 0s - loss: 0.1002 - accuracy: 0.9750 - val_loss: 0.1261 - val_accuracy: 0.9590\n",
      "Epoch 150/150\n",
      "19/19 - 0s - loss: 0.1302 - accuracy: 0.9583 - val_loss: 0.1676 - val_accuracy: 0.9454\n"
     ]
    }
   ],
   "source": [
    "# fits the model on batches with real-time data augmentation:\n",
    "# the accuracy continues to (slowly) rise, due to the augmentation\n",
    "history = cnnmodel.fit_generator(datagen.flow(x_train, y_train, batch_size=batch_size), \n",
    "                                 epochs=3*epochs,\n",
    "                                 verbose=2,\n",
    "                                 validation_data=(x_test, y_test))"
   ]
  },
  {
   "cell_type": "code",
   "execution_count": 41,
   "metadata": {
    "scrolled": true,
    "slideshow": {
     "slide_type": "subslide"
    }
   },
   "outputs": [
    {
     "data": {
      "image/png": "[encoded data removed]",
      "text/plain": [
       "<Figure size 1080x360 with 2 Axes>"
      ]
     },
     "metadata": {
      "needs_background": "light"
     },
     "output_type": "display_data"
    }
   ],
   "source": [
    "histplot(history)"
   ]
  },
  {
   "cell_type": "markdown",
   "metadata": {
    "slideshow": {
     "slide_type": "fragment"
    }
   },
   "source": [
    "Data augmentation reduced number of misclassifications by half."
   ]
  }
 ],
 "metadata": {
  "anaconda-cloud": {},
  "hide_input": false,
  "kernelspec": {
   "display_name": "Python [conda env:course]",
   "language": "python",
   "name": "conda-env-course-py"
  },
  "language_info": {
   "codemirror_mode": {
    "name": "ipython",
    "version": 3
   },
   "file_extension": ".py",
   "mimetype": "text/x-python",
   "name": "python",
   "nbconvert_exporter": "python",
   "pygments_lexer": "ipython3",
   "version": "3.8.5"
  },
  "latex_envs": {
   "LaTeX_envs_menu_present": true,
   "autocomplete": true,
   "bibliofile": "biblio.bib",
   "cite_by": "apalike",
   "current_citInitial": 1,
   "eqLabelWithNumbers": true,
   "eqNumInitial": 1,
   "hotkeys": {
    "equation": "Ctrl-E",
    "itemize": "Ctrl-I"
   },
   "labels_anchors": false,
   "latex_user_defs": false,
   "report_style_numbering": false,
   "user_envs_cfg": false
  }
 },
 "nbformat": 4,
 "nbformat_minor": 2
}
